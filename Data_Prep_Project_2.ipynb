{
  "cells": [
    {
      "cell_type": "markdown",
      "metadata": {
        "id": "view-in-github",
        "colab_type": "text"
      },
      "source": [
        "<a href=\"https://colab.research.google.com/github/rachelhakes/Machine-Learning/blob/main/Data_Prep_Project_2.ipynb\" target=\"_parent\"><img src=\"https://colab.research.google.com/assets/colab-badge.svg\" alt=\"Open In Colab\"/></a>"
      ]
    },
    {
      "cell_type": "markdown",
      "metadata": {
        "id": "s2bO16ibUJbI"
      },
      "source": [
        "# Import Dependencies"
      ]
    },
    {
      "cell_type": "code",
      "execution_count": null,
      "metadata": {
        "id": "ZRUnJHCnyx-3"
      },
      "outputs": [],
      "source": [
        "import pandas as pd\n",
        "import numpy as np\n",
        "import matplotlib.pyplot as plt\n",
        "plt.style.use('seaborn-whitegrid')\n",
        "import seaborn as sns"
      ]
    },
    {
      "cell_type": "markdown",
      "metadata": {
        "id": "7G8BWkm8UOkD"
      },
      "source": [
        "\n",
        "# Mount Drive and Load the Dataset"
      ]
    },
    {
      "cell_type": "code",
      "execution_count": null,
      "metadata": {
        "colab": {
          "base_uri": "https://localhost:8080/"
        },
        "id": "degSoAgPzlah",
        "outputId": "9d54311b-e25b-4dfe-d522-8541cf73b870"
      },
      "outputs": [
        {
          "output_type": "stream",
          "name": "stdout",
          "text": [
            "Mounted at /content/drive\n"
          ]
        }
      ],
      "source": [
        "## mount google drive\n",
        "\n",
        "from google.colab import drive\n",
        "drive.mount('/content/drive')"
      ]
    },
    {
      "cell_type": "code",
      "execution_count": null,
      "metadata": {
        "colab": {
          "base_uri": "https://localhost:8080/",
          "height": 474
        },
        "id": "D9Pn5wnxSKp9",
        "outputId": "7ee11bf8-be6c-44a8-949a-e88b81614f25"
      },
      "outputs": [
        {
          "output_type": "execute_result",
          "data": {
            "text/plain": [
              "   Unnamed: 0   age          job  marital            education  default  \\\n",
              "0           0  56.0    housemaid  married             basic.4y       no   \n",
              "1           1  57.0     services  married          high.school  unknown   \n",
              "2           2  37.0     services  married          high.school       no   \n",
              "3           3  40.0       admin.  married             basic.6y       no   \n",
              "4           4  56.0     services  married          high.school       no   \n",
              "5           5  45.0     services  married             basic.9y  unknown   \n",
              "6           6  59.0       admin.      NaN  professional.course       no   \n",
              "7           7  41.0  blue-collar  married              unknown  unknown   \n",
              "8           8  24.0   technician   single  professional.course       no   \n",
              "9           9  25.0     services   single          high.school       no   \n",
              "\n",
              "  housing loan    contact month  ... cons.conf.idx  euribor3m  nr.employed  \\\n",
              "0      no   no  telephone   may  ...         -36.4      4.857       5191.0   \n",
              "1      no   no  telephone   may  ...         -36.4      4.857       5191.0   \n",
              "2     yes   no  telephone   may  ...         -36.4      4.857       5191.0   \n",
              "3      no   no  telephone   may  ...         -36.4      4.857       5191.0   \n",
              "4      no  yes  telephone   may  ...         -36.4      4.857       5191.0   \n",
              "5      no   no  telephone   may  ...         -36.4      4.857       5191.0   \n",
              "6      no   no  telephone   may  ...         -36.4      4.857       5191.0   \n",
              "7      no   no  telephone   may  ...           NaN      4.857       5191.0   \n",
              "8     yes   no  telephone   may  ...         -36.4      4.857       5191.0   \n",
              "9     yes   no  telephone   may  ...         -36.4      4.857       5191.0   \n",
              "\n",
              "   total_assets  customer_ratings customer_language  rep_avg_rating  \\\n",
              "0         54.59               1.0        Portuguese            2.03   \n",
              "1         48.91               4.0        Portuguese            3.50   \n",
              "2           NaN               3.0           English            2.34   \n",
              "3        120.77               1.0        Portuguese            2.15   \n",
              "4         61.12               5.0        Portuguese            4.06   \n",
              "5         74.02               4.0        Portuguese            3.46   \n",
              "6         61.58               5.0               NaN            4.69   \n",
              "7         67.77               5.0        Portuguese             NaN   \n",
              "8         63.40               5.0        Portuguese            4.69   \n",
              "9         63.51               5.0        Portuguese            4.16   \n",
              "\n",
              "   customer_length  other_banks   y  \n",
              "0             0.67          yes  no  \n",
              "1            35.93          yes  no  \n",
              "2             8.16          yes  no  \n",
              "3             3.60          yes  no  \n",
              "4            49.35          yes  no  \n",
              "5            35.06          yes  no  \n",
              "6            64.63           no  no  \n",
              "7            46.62          yes  no  \n",
              "8            64.58           no  no  \n",
              "9            51.92          yes  no  \n",
              "\n",
              "[10 rows x 28 columns]"
            ],
            "text/html": [
              "\n",
              "  <div id=\"df-7b32b6c2-3a15-43d6-8146-b3efc3bd7599\">\n",
              "    <div class=\"colab-df-container\">\n",
              "      <div>\n",
              "<style scoped>\n",
              "    .dataframe tbody tr th:only-of-type {\n",
              "        vertical-align: middle;\n",
              "    }\n",
              "\n",
              "    .dataframe tbody tr th {\n",
              "        vertical-align: top;\n",
              "    }\n",
              "\n",
              "    .dataframe thead th {\n",
              "        text-align: right;\n",
              "    }\n",
              "</style>\n",
              "<table border=\"1\" class=\"dataframe\">\n",
              "  <thead>\n",
              "    <tr style=\"text-align: right;\">\n",
              "      <th></th>\n",
              "      <th>Unnamed: 0</th>\n",
              "      <th>age</th>\n",
              "      <th>job</th>\n",
              "      <th>marital</th>\n",
              "      <th>education</th>\n",
              "      <th>default</th>\n",
              "      <th>housing</th>\n",
              "      <th>loan</th>\n",
              "      <th>contact</th>\n",
              "      <th>month</th>\n",
              "      <th>...</th>\n",
              "      <th>cons.conf.idx</th>\n",
              "      <th>euribor3m</th>\n",
              "      <th>nr.employed</th>\n",
              "      <th>total_assets</th>\n",
              "      <th>customer_ratings</th>\n",
              "      <th>customer_language</th>\n",
              "      <th>rep_avg_rating</th>\n",
              "      <th>customer_length</th>\n",
              "      <th>other_banks</th>\n",
              "      <th>y</th>\n",
              "    </tr>\n",
              "  </thead>\n",
              "  <tbody>\n",
              "    <tr>\n",
              "      <th>0</th>\n",
              "      <td>0</td>\n",
              "      <td>56.0</td>\n",
              "      <td>housemaid</td>\n",
              "      <td>married</td>\n",
              "      <td>basic.4y</td>\n",
              "      <td>no</td>\n",
              "      <td>no</td>\n",
              "      <td>no</td>\n",
              "      <td>telephone</td>\n",
              "      <td>may</td>\n",
              "      <td>...</td>\n",
              "      <td>-36.4</td>\n",
              "      <td>4.857</td>\n",
              "      <td>5191.0</td>\n",
              "      <td>54.59</td>\n",
              "      <td>1.0</td>\n",
              "      <td>Portuguese</td>\n",
              "      <td>2.03</td>\n",
              "      <td>0.67</td>\n",
              "      <td>yes</td>\n",
              "      <td>no</td>\n",
              "    </tr>\n",
              "    <tr>\n",
              "      <th>1</th>\n",
              "      <td>1</td>\n",
              "      <td>57.0</td>\n",
              "      <td>services</td>\n",
              "      <td>married</td>\n",
              "      <td>high.school</td>\n",
              "      <td>unknown</td>\n",
              "      <td>no</td>\n",
              "      <td>no</td>\n",
              "      <td>telephone</td>\n",
              "      <td>may</td>\n",
              "      <td>...</td>\n",
              "      <td>-36.4</td>\n",
              "      <td>4.857</td>\n",
              "      <td>5191.0</td>\n",
              "      <td>48.91</td>\n",
              "      <td>4.0</td>\n",
              "      <td>Portuguese</td>\n",
              "      <td>3.50</td>\n",
              "      <td>35.93</td>\n",
              "      <td>yes</td>\n",
              "      <td>no</td>\n",
              "    </tr>\n",
              "    <tr>\n",
              "      <th>2</th>\n",
              "      <td>2</td>\n",
              "      <td>37.0</td>\n",
              "      <td>services</td>\n",
              "      <td>married</td>\n",
              "      <td>high.school</td>\n",
              "      <td>no</td>\n",
              "      <td>yes</td>\n",
              "      <td>no</td>\n",
              "      <td>telephone</td>\n",
              "      <td>may</td>\n",
              "      <td>...</td>\n",
              "      <td>-36.4</td>\n",
              "      <td>4.857</td>\n",
              "      <td>5191.0</td>\n",
              "      <td>NaN</td>\n",
              "      <td>3.0</td>\n",
              "      <td>English</td>\n",
              "      <td>2.34</td>\n",
              "      <td>8.16</td>\n",
              "      <td>yes</td>\n",
              "      <td>no</td>\n",
              "    </tr>\n",
              "    <tr>\n",
              "      <th>3</th>\n",
              "      <td>3</td>\n",
              "      <td>40.0</td>\n",
              "      <td>admin.</td>\n",
              "      <td>married</td>\n",
              "      <td>basic.6y</td>\n",
              "      <td>no</td>\n",
              "      <td>no</td>\n",
              "      <td>no</td>\n",
              "      <td>telephone</td>\n",
              "      <td>may</td>\n",
              "      <td>...</td>\n",
              "      <td>-36.4</td>\n",
              "      <td>4.857</td>\n",
              "      <td>5191.0</td>\n",
              "      <td>120.77</td>\n",
              "      <td>1.0</td>\n",
              "      <td>Portuguese</td>\n",
              "      <td>2.15</td>\n",
              "      <td>3.60</td>\n",
              "      <td>yes</td>\n",
              "      <td>no</td>\n",
              "    </tr>\n",
              "    <tr>\n",
              "      <th>4</th>\n",
              "      <td>4</td>\n",
              "      <td>56.0</td>\n",
              "      <td>services</td>\n",
              "      <td>married</td>\n",
              "      <td>high.school</td>\n",
              "      <td>no</td>\n",
              "      <td>no</td>\n",
              "      <td>yes</td>\n",
              "      <td>telephone</td>\n",
              "      <td>may</td>\n",
              "      <td>...</td>\n",
              "      <td>-36.4</td>\n",
              "      <td>4.857</td>\n",
              "      <td>5191.0</td>\n",
              "      <td>61.12</td>\n",
              "      <td>5.0</td>\n",
              "      <td>Portuguese</td>\n",
              "      <td>4.06</td>\n",
              "      <td>49.35</td>\n",
              "      <td>yes</td>\n",
              "      <td>no</td>\n",
              "    </tr>\n",
              "    <tr>\n",
              "      <th>5</th>\n",
              "      <td>5</td>\n",
              "      <td>45.0</td>\n",
              "      <td>services</td>\n",
              "      <td>married</td>\n",
              "      <td>basic.9y</td>\n",
              "      <td>unknown</td>\n",
              "      <td>no</td>\n",
              "      <td>no</td>\n",
              "      <td>telephone</td>\n",
              "      <td>may</td>\n",
              "      <td>...</td>\n",
              "      <td>-36.4</td>\n",
              "      <td>4.857</td>\n",
              "      <td>5191.0</td>\n",
              "      <td>74.02</td>\n",
              "      <td>4.0</td>\n",
              "      <td>Portuguese</td>\n",
              "      <td>3.46</td>\n",
              "      <td>35.06</td>\n",
              "      <td>yes</td>\n",
              "      <td>no</td>\n",
              "    </tr>\n",
              "    <tr>\n",
              "      <th>6</th>\n",
              "      <td>6</td>\n",
              "      <td>59.0</td>\n",
              "      <td>admin.</td>\n",
              "      <td>NaN</td>\n",
              "      <td>professional.course</td>\n",
              "      <td>no</td>\n",
              "      <td>no</td>\n",
              "      <td>no</td>\n",
              "      <td>telephone</td>\n",
              "      <td>may</td>\n",
              "      <td>...</td>\n",
              "      <td>-36.4</td>\n",
              "      <td>4.857</td>\n",
              "      <td>5191.0</td>\n",
              "      <td>61.58</td>\n",
              "      <td>5.0</td>\n",
              "      <td>NaN</td>\n",
              "      <td>4.69</td>\n",
              "      <td>64.63</td>\n",
              "      <td>no</td>\n",
              "      <td>no</td>\n",
              "    </tr>\n",
              "    <tr>\n",
              "      <th>7</th>\n",
              "      <td>7</td>\n",
              "      <td>41.0</td>\n",
              "      <td>blue-collar</td>\n",
              "      <td>married</td>\n",
              "      <td>unknown</td>\n",
              "      <td>unknown</td>\n",
              "      <td>no</td>\n",
              "      <td>no</td>\n",
              "      <td>telephone</td>\n",
              "      <td>may</td>\n",
              "      <td>...</td>\n",
              "      <td>NaN</td>\n",
              "      <td>4.857</td>\n",
              "      <td>5191.0</td>\n",
              "      <td>67.77</td>\n",
              "      <td>5.0</td>\n",
              "      <td>Portuguese</td>\n",
              "      <td>NaN</td>\n",
              "      <td>46.62</td>\n",
              "      <td>yes</td>\n",
              "      <td>no</td>\n",
              "    </tr>\n",
              "    <tr>\n",
              "      <th>8</th>\n",
              "      <td>8</td>\n",
              "      <td>24.0</td>\n",
              "      <td>technician</td>\n",
              "      <td>single</td>\n",
              "      <td>professional.course</td>\n",
              "      <td>no</td>\n",
              "      <td>yes</td>\n",
              "      <td>no</td>\n",
              "      <td>telephone</td>\n",
              "      <td>may</td>\n",
              "      <td>...</td>\n",
              "      <td>-36.4</td>\n",
              "      <td>4.857</td>\n",
              "      <td>5191.0</td>\n",
              "      <td>63.40</td>\n",
              "      <td>5.0</td>\n",
              "      <td>Portuguese</td>\n",
              "      <td>4.69</td>\n",
              "      <td>64.58</td>\n",
              "      <td>no</td>\n",
              "      <td>no</td>\n",
              "    </tr>\n",
              "    <tr>\n",
              "      <th>9</th>\n",
              "      <td>9</td>\n",
              "      <td>25.0</td>\n",
              "      <td>services</td>\n",
              "      <td>single</td>\n",
              "      <td>high.school</td>\n",
              "      <td>no</td>\n",
              "      <td>yes</td>\n",
              "      <td>no</td>\n",
              "      <td>telephone</td>\n",
              "      <td>may</td>\n",
              "      <td>...</td>\n",
              "      <td>-36.4</td>\n",
              "      <td>4.857</td>\n",
              "      <td>5191.0</td>\n",
              "      <td>63.51</td>\n",
              "      <td>5.0</td>\n",
              "      <td>Portuguese</td>\n",
              "      <td>4.16</td>\n",
              "      <td>51.92</td>\n",
              "      <td>yes</td>\n",
              "      <td>no</td>\n",
              "    </tr>\n",
              "  </tbody>\n",
              "</table>\n",
              "<p>10 rows × 28 columns</p>\n",
              "</div>\n",
              "      <button class=\"colab-df-convert\" onclick=\"convertToInteractive('df-7b32b6c2-3a15-43d6-8146-b3efc3bd7599')\"\n",
              "              title=\"Convert this dataframe to an interactive table.\"\n",
              "              style=\"display:none;\">\n",
              "        \n",
              "  <svg xmlns=\"http://www.w3.org/2000/svg\" height=\"24px\"viewBox=\"0 0 24 24\"\n",
              "       width=\"24px\">\n",
              "    <path d=\"M0 0h24v24H0V0z\" fill=\"none\"/>\n",
              "    <path d=\"M18.56 5.44l.94 2.06.94-2.06 2.06-.94-2.06-.94-.94-2.06-.94 2.06-2.06.94zm-11 1L8.5 8.5l.94-2.06 2.06-.94-2.06-.94L8.5 2.5l-.94 2.06-2.06.94zm10 10l.94 2.06.94-2.06 2.06-.94-2.06-.94-.94-2.06-.94 2.06-2.06.94z\"/><path d=\"M17.41 7.96l-1.37-1.37c-.4-.4-.92-.59-1.43-.59-.52 0-1.04.2-1.43.59L10.3 9.45l-7.72 7.72c-.78.78-.78 2.05 0 2.83L4 21.41c.39.39.9.59 1.41.59.51 0 1.02-.2 1.41-.59l7.78-7.78 2.81-2.81c.8-.78.8-2.07 0-2.86zM5.41 20L4 18.59l7.72-7.72 1.47 1.35L5.41 20z\"/>\n",
              "  </svg>\n",
              "      </button>\n",
              "      \n",
              "  <style>\n",
              "    .colab-df-container {\n",
              "      display:flex;\n",
              "      flex-wrap:wrap;\n",
              "      gap: 12px;\n",
              "    }\n",
              "\n",
              "    .colab-df-convert {\n",
              "      background-color: #E8F0FE;\n",
              "      border: none;\n",
              "      border-radius: 50%;\n",
              "      cursor: pointer;\n",
              "      display: none;\n",
              "      fill: #1967D2;\n",
              "      height: 32px;\n",
              "      padding: 0 0 0 0;\n",
              "      width: 32px;\n",
              "    }\n",
              "\n",
              "    .colab-df-convert:hover {\n",
              "      background-color: #E2EBFA;\n",
              "      box-shadow: 0px 1px 2px rgba(60, 64, 67, 0.3), 0px 1px 3px 1px rgba(60, 64, 67, 0.15);\n",
              "      fill: #174EA6;\n",
              "    }\n",
              "\n",
              "    [theme=dark] .colab-df-convert {\n",
              "      background-color: #3B4455;\n",
              "      fill: #D2E3FC;\n",
              "    }\n",
              "\n",
              "    [theme=dark] .colab-df-convert:hover {\n",
              "      background-color: #434B5C;\n",
              "      box-shadow: 0px 1px 3px 1px rgba(0, 0, 0, 0.15);\n",
              "      filter: drop-shadow(0px 1px 2px rgba(0, 0, 0, 0.3));\n",
              "      fill: #FFFFFF;\n",
              "    }\n",
              "  </style>\n",
              "\n",
              "      <script>\n",
              "        const buttonEl =\n",
              "          document.querySelector('#df-7b32b6c2-3a15-43d6-8146-b3efc3bd7599 button.colab-df-convert');\n",
              "        buttonEl.style.display =\n",
              "          google.colab.kernel.accessAllowed ? 'block' : 'none';\n",
              "\n",
              "        async function convertToInteractive(key) {\n",
              "          const element = document.querySelector('#df-7b32b6c2-3a15-43d6-8146-b3efc3bd7599');\n",
              "          const dataTable =\n",
              "            await google.colab.kernel.invokeFunction('convertToInteractive',\n",
              "                                                     [key], {});\n",
              "          if (!dataTable) return;\n",
              "\n",
              "          const docLinkHtml = 'Like what you see? Visit the ' +\n",
              "            '<a target=\"_blank\" href=https://colab.research.google.com/notebooks/data_table.ipynb>data table notebook</a>'\n",
              "            + ' to learn more about interactive tables.';\n",
              "          element.innerHTML = '';\n",
              "          dataTable['output_type'] = 'display_data';\n",
              "          await google.colab.output.renderOutput(dataTable, element);\n",
              "          const docLink = document.createElement('div');\n",
              "          docLink.innerHTML = docLinkHtml;\n",
              "          element.appendChild(docLink);\n",
              "        }\n",
              "      </script>\n",
              "    </div>\n",
              "  </div>\n",
              "  "
            ]
          },
          "metadata": {},
          "execution_count": 3
        }
      ],
      "source": [
        "## load the dataset\n",
        "\n",
        "data_url = '/content/drive/MyDrive/comp2_dataexcel.xlsx'\n",
        "\n",
        "df = pd.read_excel(data_url)\n",
        "df.head(10)"
      ]
    },
    {
      "cell_type": "code",
      "execution_count": null,
      "metadata": {
        "colab": {
          "base_uri": "https://localhost:8080/"
        },
        "id": "LEMLMtPVSyZz",
        "outputId": "61491b89-6c7c-4c3f-db45-431f707169c6"
      },
      "outputs": [
        {
          "output_type": "execute_result",
          "data": {
            "text/plain": [
              "Index(['Unnamed: 0', 'age', 'job', 'marital', 'education', 'default',\n",
              "       'housing', 'loan', 'contact', 'month', 'day_of_week', 'duration',\n",
              "       'campaign', 'pdays', 'previous', 'poutcome', 'emp.var.rate',\n",
              "       'cons.price.idx', 'cons.conf.idx', 'euribor3m', 'nr.employed',\n",
              "       'total_assets', 'customer_ratings', 'customer_language',\n",
              "       'rep_avg_rating', 'customer_length', 'other_banks', 'y'],\n",
              "      dtype='object')"
            ]
          },
          "metadata": {},
          "execution_count": 4
        }
      ],
      "source": [
        "df.columns"
      ]
    },
    {
      "cell_type": "code",
      "execution_count": null,
      "metadata": {
        "id": "Xje_9EPLTS-C"
      },
      "outputs": [],
      "source": [
        "df = df.drop(columns = 'Unnamed: 0')"
      ]
    },
    {
      "cell_type": "code",
      "execution_count": null,
      "metadata": {
        "id": "p1-3mT9uSrma"
      },
      "outputs": [],
      "source": [
        "# make a copy of the dataframe\n",
        "df1 = df.copy()"
      ]
    },
    {
      "cell_type": "markdown",
      "source": [
        "Section Summary:  \n",
        "Loaded in the data and viewed the top ten rows. Dropped the 'Unnamed:0' column because it is unnecessary to have an index column immediately next to the dataframe index (redundant)."
      ],
      "metadata": {
        "id": "WLp2_DkxyhXh"
      }
    },
    {
      "cell_type": "markdown",
      "metadata": {
        "id": "SbPXFeQRUTmw"
      },
      "source": [
        "# Check Types of the Dataframe"
      ]
    },
    {
      "cell_type": "code",
      "execution_count": null,
      "metadata": {
        "colab": {
          "base_uri": "https://localhost:8080/"
        },
        "id": "l0FTkA29UWBX",
        "outputId": "cda7874f-b21c-472d-9682-13432abfb46e"
      },
      "outputs": [
        {
          "output_type": "execute_result",
          "data": {
            "text/plain": [
              "age                  float64\n",
              "job                   object\n",
              "marital               object\n",
              "education             object\n",
              "default               object\n",
              "housing               object\n",
              "loan                  object\n",
              "contact               object\n",
              "month                 object\n",
              "day_of_week           object\n",
              "duration             float64\n",
              "campaign             float64\n",
              "pdays                float64\n",
              "previous             float64\n",
              "poutcome              object\n",
              "emp.var.rate         float64\n",
              "cons.price.idx       float64\n",
              "cons.conf.idx        float64\n",
              "euribor3m            float64\n",
              "nr.employed          float64\n",
              "total_assets         float64\n",
              "customer_ratings     float64\n",
              "customer_language     object\n",
              "rep_avg_rating       float64\n",
              "customer_length      float64\n",
              "other_banks           object\n",
              "y                     object\n",
              "dtype: object"
            ]
          },
          "metadata": {},
          "execution_count": 7
        }
      ],
      "source": [
        "df.dtypes"
      ]
    },
    {
      "cell_type": "code",
      "execution_count": null,
      "metadata": {
        "colab": {
          "base_uri": "https://localhost:8080/"
        },
        "id": "0yl6c7sbUYeC",
        "outputId": "3e5d7498-2351-4cb0-c7c4-4c07c4daa4eb"
      },
      "outputs": [
        {
          "output_type": "execute_result",
          "data": {
            "text/plain": [
              "age                  0.05\n",
              "job                  0.38\n",
              "marital              2.62\n",
              "education            3.70\n",
              "default              3.96\n",
              "housing              0.45\n",
              "loan                 1.41\n",
              "contact              4.02\n",
              "month                4.82\n",
              "day_of_week          3.13\n",
              "duration             2.47\n",
              "campaign             4.49\n",
              "pdays                1.32\n",
              "previous             0.01\n",
              "poutcome             3.76\n",
              "emp.var.rate         1.89\n",
              "cons.price.idx       2.32\n",
              "cons.conf.idx        4.52\n",
              "euribor3m            3.42\n",
              "nr.employed          2.93\n",
              "total_assets         2.07\n",
              "customer_ratings     3.92\n",
              "customer_language    2.56\n",
              "rep_avg_rating       4.82\n",
              "customer_length      1.53\n",
              "other_banks          0.77\n",
              "y                    0.00\n",
              "dtype: float64"
            ]
          },
          "metadata": {},
          "execution_count": 8
        }
      ],
      "source": [
        "(df.isna().sum()/df.shape[0]).round(4)*100"
      ]
    },
    {
      "cell_type": "markdown",
      "source": [
        "Section Summary:  \n",
        "Familiarizing ourselves with the data by looking at dtypes and understanding about how much missing data there is. No column has more than 5% of its data missing, which is good for data validity and the assumptions we make before imputing the data later."
      ],
      "metadata": {
        "id": "xuzbWwsXzIVe"
      }
    },
    {
      "cell_type": "markdown",
      "metadata": {
        "id": "ibjBAv1aUeTX"
      },
      "source": [
        "# Split the Data and the Target into Two DataFrames"
      ]
    },
    {
      "cell_type": "code",
      "execution_count": null,
      "metadata": {
        "colab": {
          "base_uri": "https://localhost:8080/",
          "height": 300
        },
        "id": "87tqLocCUc4Y",
        "outputId": "2d015b94-0d7f-4a7e-aed8-17ae2d604f63"
      },
      "outputs": [
        {
          "output_type": "execute_result",
          "data": {
            "text/plain": [
              "    age        job  marital    education  default housing loan    contact  \\\n",
              "0  56.0  housemaid  married     basic.4y       no      no   no  telephone   \n",
              "1  57.0   services  married  high.school  unknown      no   no  telephone   \n",
              "2  37.0   services  married  high.school       no     yes   no  telephone   \n",
              "3  40.0     admin.  married     basic.6y       no      no   no  telephone   \n",
              "4  56.0   services  married  high.school       no      no  yes  telephone   \n",
              "\n",
              "  month day_of_week  ...  cons.price.idx  cons.conf.idx  euribor3m  \\\n",
              "0   may         mon  ...             NaN          -36.4      4.857   \n",
              "1   may         mon  ...          93.994          -36.4      4.857   \n",
              "2   may         mon  ...          93.994          -36.4      4.857   \n",
              "3   may         mon  ...          93.994          -36.4      4.857   \n",
              "4   may         mon  ...          93.994          -36.4      4.857   \n",
              "\n",
              "   nr.employed total_assets  customer_ratings  customer_language  \\\n",
              "0       5191.0        54.59               1.0         Portuguese   \n",
              "1       5191.0        48.91               4.0         Portuguese   \n",
              "2       5191.0          NaN               3.0            English   \n",
              "3       5191.0       120.77               1.0         Portuguese   \n",
              "4       5191.0        61.12               5.0         Portuguese   \n",
              "\n",
              "   rep_avg_rating  customer_length  other_banks  \n",
              "0            2.03             0.67          yes  \n",
              "1            3.50            35.93          yes  \n",
              "2            2.34             8.16          yes  \n",
              "3            2.15             3.60          yes  \n",
              "4            4.06            49.35          yes  \n",
              "\n",
              "[5 rows x 26 columns]"
            ],
            "text/html": [
              "\n",
              "  <div id=\"df-93b52f8e-c56f-40d9-a596-743bbbe920d8\">\n",
              "    <div class=\"colab-df-container\">\n",
              "      <div>\n",
              "<style scoped>\n",
              "    .dataframe tbody tr th:only-of-type {\n",
              "        vertical-align: middle;\n",
              "    }\n",
              "\n",
              "    .dataframe tbody tr th {\n",
              "        vertical-align: top;\n",
              "    }\n",
              "\n",
              "    .dataframe thead th {\n",
              "        text-align: right;\n",
              "    }\n",
              "</style>\n",
              "<table border=\"1\" class=\"dataframe\">\n",
              "  <thead>\n",
              "    <tr style=\"text-align: right;\">\n",
              "      <th></th>\n",
              "      <th>age</th>\n",
              "      <th>job</th>\n",
              "      <th>marital</th>\n",
              "      <th>education</th>\n",
              "      <th>default</th>\n",
              "      <th>housing</th>\n",
              "      <th>loan</th>\n",
              "      <th>contact</th>\n",
              "      <th>month</th>\n",
              "      <th>day_of_week</th>\n",
              "      <th>...</th>\n",
              "      <th>cons.price.idx</th>\n",
              "      <th>cons.conf.idx</th>\n",
              "      <th>euribor3m</th>\n",
              "      <th>nr.employed</th>\n",
              "      <th>total_assets</th>\n",
              "      <th>customer_ratings</th>\n",
              "      <th>customer_language</th>\n",
              "      <th>rep_avg_rating</th>\n",
              "      <th>customer_length</th>\n",
              "      <th>other_banks</th>\n",
              "    </tr>\n",
              "  </thead>\n",
              "  <tbody>\n",
              "    <tr>\n",
              "      <th>0</th>\n",
              "      <td>56.0</td>\n",
              "      <td>housemaid</td>\n",
              "      <td>married</td>\n",
              "      <td>basic.4y</td>\n",
              "      <td>no</td>\n",
              "      <td>no</td>\n",
              "      <td>no</td>\n",
              "      <td>telephone</td>\n",
              "      <td>may</td>\n",
              "      <td>mon</td>\n",
              "      <td>...</td>\n",
              "      <td>NaN</td>\n",
              "      <td>-36.4</td>\n",
              "      <td>4.857</td>\n",
              "      <td>5191.0</td>\n",
              "      <td>54.59</td>\n",
              "      <td>1.0</td>\n",
              "      <td>Portuguese</td>\n",
              "      <td>2.03</td>\n",
              "      <td>0.67</td>\n",
              "      <td>yes</td>\n",
              "    </tr>\n",
              "    <tr>\n",
              "      <th>1</th>\n",
              "      <td>57.0</td>\n",
              "      <td>services</td>\n",
              "      <td>married</td>\n",
              "      <td>high.school</td>\n",
              "      <td>unknown</td>\n",
              "      <td>no</td>\n",
              "      <td>no</td>\n",
              "      <td>telephone</td>\n",
              "      <td>may</td>\n",
              "      <td>mon</td>\n",
              "      <td>...</td>\n",
              "      <td>93.994</td>\n",
              "      <td>-36.4</td>\n",
              "      <td>4.857</td>\n",
              "      <td>5191.0</td>\n",
              "      <td>48.91</td>\n",
              "      <td>4.0</td>\n",
              "      <td>Portuguese</td>\n",
              "      <td>3.50</td>\n",
              "      <td>35.93</td>\n",
              "      <td>yes</td>\n",
              "    </tr>\n",
              "    <tr>\n",
              "      <th>2</th>\n",
              "      <td>37.0</td>\n",
              "      <td>services</td>\n",
              "      <td>married</td>\n",
              "      <td>high.school</td>\n",
              "      <td>no</td>\n",
              "      <td>yes</td>\n",
              "      <td>no</td>\n",
              "      <td>telephone</td>\n",
              "      <td>may</td>\n",
              "      <td>mon</td>\n",
              "      <td>...</td>\n",
              "      <td>93.994</td>\n",
              "      <td>-36.4</td>\n",
              "      <td>4.857</td>\n",
              "      <td>5191.0</td>\n",
              "      <td>NaN</td>\n",
              "      <td>3.0</td>\n",
              "      <td>English</td>\n",
              "      <td>2.34</td>\n",
              "      <td>8.16</td>\n",
              "      <td>yes</td>\n",
              "    </tr>\n",
              "    <tr>\n",
              "      <th>3</th>\n",
              "      <td>40.0</td>\n",
              "      <td>admin.</td>\n",
              "      <td>married</td>\n",
              "      <td>basic.6y</td>\n",
              "      <td>no</td>\n",
              "      <td>no</td>\n",
              "      <td>no</td>\n",
              "      <td>telephone</td>\n",
              "      <td>may</td>\n",
              "      <td>mon</td>\n",
              "      <td>...</td>\n",
              "      <td>93.994</td>\n",
              "      <td>-36.4</td>\n",
              "      <td>4.857</td>\n",
              "      <td>5191.0</td>\n",
              "      <td>120.77</td>\n",
              "      <td>1.0</td>\n",
              "      <td>Portuguese</td>\n",
              "      <td>2.15</td>\n",
              "      <td>3.60</td>\n",
              "      <td>yes</td>\n",
              "    </tr>\n",
              "    <tr>\n",
              "      <th>4</th>\n",
              "      <td>56.0</td>\n",
              "      <td>services</td>\n",
              "      <td>married</td>\n",
              "      <td>high.school</td>\n",
              "      <td>no</td>\n",
              "      <td>no</td>\n",
              "      <td>yes</td>\n",
              "      <td>telephone</td>\n",
              "      <td>may</td>\n",
              "      <td>mon</td>\n",
              "      <td>...</td>\n",
              "      <td>93.994</td>\n",
              "      <td>-36.4</td>\n",
              "      <td>4.857</td>\n",
              "      <td>5191.0</td>\n",
              "      <td>61.12</td>\n",
              "      <td>5.0</td>\n",
              "      <td>Portuguese</td>\n",
              "      <td>4.06</td>\n",
              "      <td>49.35</td>\n",
              "      <td>yes</td>\n",
              "    </tr>\n",
              "  </tbody>\n",
              "</table>\n",
              "<p>5 rows × 26 columns</p>\n",
              "</div>\n",
              "      <button class=\"colab-df-convert\" onclick=\"convertToInteractive('df-93b52f8e-c56f-40d9-a596-743bbbe920d8')\"\n",
              "              title=\"Convert this dataframe to an interactive table.\"\n",
              "              style=\"display:none;\">\n",
              "        \n",
              "  <svg xmlns=\"http://www.w3.org/2000/svg\" height=\"24px\"viewBox=\"0 0 24 24\"\n",
              "       width=\"24px\">\n",
              "    <path d=\"M0 0h24v24H0V0z\" fill=\"none\"/>\n",
              "    <path d=\"M18.56 5.44l.94 2.06.94-2.06 2.06-.94-2.06-.94-.94-2.06-.94 2.06-2.06.94zm-11 1L8.5 8.5l.94-2.06 2.06-.94-2.06-.94L8.5 2.5l-.94 2.06-2.06.94zm10 10l.94 2.06.94-2.06 2.06-.94-2.06-.94-.94-2.06-.94 2.06-2.06.94z\"/><path d=\"M17.41 7.96l-1.37-1.37c-.4-.4-.92-.59-1.43-.59-.52 0-1.04.2-1.43.59L10.3 9.45l-7.72 7.72c-.78.78-.78 2.05 0 2.83L4 21.41c.39.39.9.59 1.41.59.51 0 1.02-.2 1.41-.59l7.78-7.78 2.81-2.81c.8-.78.8-2.07 0-2.86zM5.41 20L4 18.59l7.72-7.72 1.47 1.35L5.41 20z\"/>\n",
              "  </svg>\n",
              "      </button>\n",
              "      \n",
              "  <style>\n",
              "    .colab-df-container {\n",
              "      display:flex;\n",
              "      flex-wrap:wrap;\n",
              "      gap: 12px;\n",
              "    }\n",
              "\n",
              "    .colab-df-convert {\n",
              "      background-color: #E8F0FE;\n",
              "      border: none;\n",
              "      border-radius: 50%;\n",
              "      cursor: pointer;\n",
              "      display: none;\n",
              "      fill: #1967D2;\n",
              "      height: 32px;\n",
              "      padding: 0 0 0 0;\n",
              "      width: 32px;\n",
              "    }\n",
              "\n",
              "    .colab-df-convert:hover {\n",
              "      background-color: #E2EBFA;\n",
              "      box-shadow: 0px 1px 2px rgba(60, 64, 67, 0.3), 0px 1px 3px 1px rgba(60, 64, 67, 0.15);\n",
              "      fill: #174EA6;\n",
              "    }\n",
              "\n",
              "    [theme=dark] .colab-df-convert {\n",
              "      background-color: #3B4455;\n",
              "      fill: #D2E3FC;\n",
              "    }\n",
              "\n",
              "    [theme=dark] .colab-df-convert:hover {\n",
              "      background-color: #434B5C;\n",
              "      box-shadow: 0px 1px 3px 1px rgba(0, 0, 0, 0.15);\n",
              "      filter: drop-shadow(0px 1px 2px rgba(0, 0, 0, 0.3));\n",
              "      fill: #FFFFFF;\n",
              "    }\n",
              "  </style>\n",
              "\n",
              "      <script>\n",
              "        const buttonEl =\n",
              "          document.querySelector('#df-93b52f8e-c56f-40d9-a596-743bbbe920d8 button.colab-df-convert');\n",
              "        buttonEl.style.display =\n",
              "          google.colab.kernel.accessAllowed ? 'block' : 'none';\n",
              "\n",
              "        async function convertToInteractive(key) {\n",
              "          const element = document.querySelector('#df-93b52f8e-c56f-40d9-a596-743bbbe920d8');\n",
              "          const dataTable =\n",
              "            await google.colab.kernel.invokeFunction('convertToInteractive',\n",
              "                                                     [key], {});\n",
              "          if (!dataTable) return;\n",
              "\n",
              "          const docLinkHtml = 'Like what you see? Visit the ' +\n",
              "            '<a target=\"_blank\" href=https://colab.research.google.com/notebooks/data_table.ipynb>data table notebook</a>'\n",
              "            + ' to learn more about interactive tables.';\n",
              "          element.innerHTML = '';\n",
              "          dataTable['output_type'] = 'display_data';\n",
              "          await google.colab.output.renderOutput(dataTable, element);\n",
              "          const docLink = document.createElement('div');\n",
              "          docLink.innerHTML = docLinkHtml;\n",
              "          element.appendChild(docLink);\n",
              "        }\n",
              "      </script>\n",
              "    </div>\n",
              "  </div>\n",
              "  "
            ]
          },
          "metadata": {},
          "execution_count": 9
        }
      ],
      "source": [
        "# make a new dataframe without target column\n",
        "df_data = df[['age', 'job', 'marital', 'education', 'default', 'housing',\n",
        "           'loan', 'contact', 'month', 'day_of_week', 'duration', 'campaign',\n",
        "           'pdays', 'previous', 'poutcome', 'emp.var.rate', 'cons.price.idx',\n",
        "           'cons.conf.idx', 'euribor3m', 'nr.employed', 'total_assets',\n",
        "           'customer_ratings', 'customer_language', 'rep_avg_rating',\n",
        "           'customer_length', 'other_banks']]\n",
        "df_data.head()\n",
        "# check the newly created dataframe\n",
        "df_data.head()"
      ]
    },
    {
      "cell_type": "code",
      "execution_count": null,
      "metadata": {
        "colab": {
          "base_uri": "https://localhost:8080/",
          "height": 854
        },
        "id": "VukUFI4QVge1",
        "outputId": "6031b698-50b5-495d-8091-04094bd6ea6d"
      },
      "outputs": [
        {
          "output_type": "stream",
          "name": "stderr",
          "text": [
            "/usr/local/lib/python3.7/dist-packages/ipykernel_launcher.py:7: DeprecationWarning: `np.bool` is a deprecated alias for the builtin `bool`. To silence this warning, use `bool` by itself. Doing this will not modify any behavior and is safe. If you specifically wanted the numpy scalar type, use `np.bool_` here.\n",
            "Deprecated in NumPy 1.20; for more details and guidance: https://numpy.org/devdocs/release/1.20.0-notes.html#deprecations\n",
            "  import sys\n"
          ]
        },
        {
          "output_type": "execute_result",
          "data": {
            "text/plain": [
              "<matplotlib.axes._subplots.AxesSubplot at 0x7f48b16f1b50>"
            ]
          },
          "metadata": {},
          "execution_count": 10
        },
        {
          "output_type": "display_data",
          "data": {
            "text/plain": [
              "<Figure size 1008x864 with 2 Axes>"
            ],
            "image/png": "[encoded data removed]"
          },
          "metadata": {
            "needs_background": "light"
          }
        }
      ],
      "source": [
        "# create a mask for the upper triangle\n",
        "numerical_and_target = df[['duration', 'campaign', 'pdays', 'previous',\n",
        "                         'emp.var.rate', 'cons.price.idx', 'cons.conf.idx', 'euribor3m',\n",
        "                         'nr.employed', 'total_assets', 'rep_avg_rating', 'customer_length', 'y']]\n",
        "corr = numerical_and_target.corr()\n",
        "\n",
        "mask = np.zeros_like(corr, dtype=np.bool)\n",
        "mask[np.triu_indices_from(mask)] = True\n",
        "\n",
        "# plot again\n",
        "plt.figure(figsize=(14,12))\n",
        "sns.heatmap(corr,\n",
        "            vmin=-1, vmax=1, # set the color bar range to [-1, 1]\n",
        "            cmap='coolwarm', # set the color scheme to 'coolwarm'\n",
        "            annot=True, # annotate the grid\n",
        "            mask = mask) # mask the upper triangle"
      ]
    },
    {
      "cell_type": "code",
      "execution_count": null,
      "metadata": {
        "id": "OnoXcSUWViTW"
      },
      "outputs": [],
      "source": [
        "## for above\n",
        "# need to take care of these columns with high correlations\n",
        "# euribor3m, customer_length, rep_avg_rating\n",
        "# set the threshold at 0.9"
      ]
    },
    {
      "cell_type": "code",
      "execution_count": null,
      "metadata": {
        "colab": {
          "base_uri": "https://localhost:8080/",
          "height": 300
        },
        "id": "Z20Caj82VrLR",
        "outputId": "fad7bbed-b448-400a-d777-de3eb1dad78d"
      },
      "outputs": [
        {
          "output_type": "execute_result",
          "data": {
            "text/plain": [
              "    age        job  marital    education  default housing loan    contact  \\\n",
              "0  56.0  housemaid  married     basic.4y       no      no   no  telephone   \n",
              "1  57.0   services  married  high.school  unknown      no   no  telephone   \n",
              "2  37.0   services  married  high.school       no     yes   no  telephone   \n",
              "3  40.0     admin.  married     basic.6y       no      no   no  telephone   \n",
              "4  56.0   services  married  high.school       no      no  yes  telephone   \n",
              "\n",
              "  month day_of_week  ...  cons.price.idx  cons.conf.idx  euribor3m  \\\n",
              "0   may         mon  ...             NaN          -36.4      4.857   \n",
              "1   may         mon  ...          93.994          -36.4      4.857   \n",
              "2   may         mon  ...          93.994          -36.4      4.857   \n",
              "3   may         mon  ...          93.994          -36.4      4.857   \n",
              "4   may         mon  ...          93.994          -36.4      4.857   \n",
              "\n",
              "  nr.employed  total_assets  customer_ratings  customer_language  \\\n",
              "0      5191.0         54.59               1.0         Portuguese   \n",
              "1      5191.0         48.91               4.0         Portuguese   \n",
              "2      5191.0           NaN               3.0            English   \n",
              "3      5191.0        120.77               1.0         Portuguese   \n",
              "4      5191.0         61.12               5.0         Portuguese   \n",
              "\n",
              "   rep_avg_rating  customer_length  other_banks  \n",
              "0            2.03             0.67          yes  \n",
              "1            3.50            35.93          yes  \n",
              "2            2.34             8.16          yes  \n",
              "3            2.15             3.60          yes  \n",
              "4            4.06            49.35          yes  \n",
              "\n",
              "[5 rows x 25 columns]"
            ],
            "text/html": [
              "\n",
              "  <div id=\"df-77c04f53-3c3b-4140-9b8c-77dbda8e8098\">\n",
              "    <div class=\"colab-df-container\">\n",
              "      <div>\n",
              "<style scoped>\n",
              "    .dataframe tbody tr th:only-of-type {\n",
              "        vertical-align: middle;\n",
              "    }\n",
              "\n",
              "    .dataframe tbody tr th {\n",
              "        vertical-align: top;\n",
              "    }\n",
              "\n",
              "    .dataframe thead th {\n",
              "        text-align: right;\n",
              "    }\n",
              "</style>\n",
              "<table border=\"1\" class=\"dataframe\">\n",
              "  <thead>\n",
              "    <tr style=\"text-align: right;\">\n",
              "      <th></th>\n",
              "      <th>age</th>\n",
              "      <th>job</th>\n",
              "      <th>marital</th>\n",
              "      <th>education</th>\n",
              "      <th>default</th>\n",
              "      <th>housing</th>\n",
              "      <th>loan</th>\n",
              "      <th>contact</th>\n",
              "      <th>month</th>\n",
              "      <th>day_of_week</th>\n",
              "      <th>...</th>\n",
              "      <th>cons.price.idx</th>\n",
              "      <th>cons.conf.idx</th>\n",
              "      <th>euribor3m</th>\n",
              "      <th>nr.employed</th>\n",
              "      <th>total_assets</th>\n",
              "      <th>customer_ratings</th>\n",
              "      <th>customer_language</th>\n",
              "      <th>rep_avg_rating</th>\n",
              "      <th>customer_length</th>\n",
              "      <th>other_banks</th>\n",
              "    </tr>\n",
              "  </thead>\n",
              "  <tbody>\n",
              "    <tr>\n",
              "      <th>0</th>\n",
              "      <td>56.0</td>\n",
              "      <td>housemaid</td>\n",
              "      <td>married</td>\n",
              "      <td>basic.4y</td>\n",
              "      <td>no</td>\n",
              "      <td>no</td>\n",
              "      <td>no</td>\n",
              "      <td>telephone</td>\n",
              "      <td>may</td>\n",
              "      <td>mon</td>\n",
              "      <td>...</td>\n",
              "      <td>NaN</td>\n",
              "      <td>-36.4</td>\n",
              "      <td>4.857</td>\n",
              "      <td>5191.0</td>\n",
              "      <td>54.59</td>\n",
              "      <td>1.0</td>\n",
              "      <td>Portuguese</td>\n",
              "      <td>2.03</td>\n",
              "      <td>0.67</td>\n",
              "      <td>yes</td>\n",
              "    </tr>\n",
              "    <tr>\n",
              "      <th>1</th>\n",
              "      <td>57.0</td>\n",
              "      <td>services</td>\n",
              "      <td>married</td>\n",
              "      <td>high.school</td>\n",
              "      <td>unknown</td>\n",
              "      <td>no</td>\n",
              "      <td>no</td>\n",
              "      <td>telephone</td>\n",
              "      <td>may</td>\n",
              "      <td>mon</td>\n",
              "      <td>...</td>\n",
              "      <td>93.994</td>\n",
              "      <td>-36.4</td>\n",
              "      <td>4.857</td>\n",
              "      <td>5191.0</td>\n",
              "      <td>48.91</td>\n",
              "      <td>4.0</td>\n",
              "      <td>Portuguese</td>\n",
              "      <td>3.50</td>\n",
              "      <td>35.93</td>\n",
              "      <td>yes</td>\n",
              "    </tr>\n",
              "    <tr>\n",
              "      <th>2</th>\n",
              "      <td>37.0</td>\n",
              "      <td>services</td>\n",
              "      <td>married</td>\n",
              "      <td>high.school</td>\n",
              "      <td>no</td>\n",
              "      <td>yes</td>\n",
              "      <td>no</td>\n",
              "      <td>telephone</td>\n",
              "      <td>may</td>\n",
              "      <td>mon</td>\n",
              "      <td>...</td>\n",
              "      <td>93.994</td>\n",
              "      <td>-36.4</td>\n",
              "      <td>4.857</td>\n",
              "      <td>5191.0</td>\n",
              "      <td>NaN</td>\n",
              "      <td>3.0</td>\n",
              "      <td>English</td>\n",
              "      <td>2.34</td>\n",
              "      <td>8.16</td>\n",
              "      <td>yes</td>\n",
              "    </tr>\n",
              "    <tr>\n",
              "      <th>3</th>\n",
              "      <td>40.0</td>\n",
              "      <td>admin.</td>\n",
              "      <td>married</td>\n",
              "      <td>basic.6y</td>\n",
              "      <td>no</td>\n",
              "      <td>no</td>\n",
              "      <td>no</td>\n",
              "      <td>telephone</td>\n",
              "      <td>may</td>\n",
              "      <td>mon</td>\n",
              "      <td>...</td>\n",
              "      <td>93.994</td>\n",
              "      <td>-36.4</td>\n",
              "      <td>4.857</td>\n",
              "      <td>5191.0</td>\n",
              "      <td>120.77</td>\n",
              "      <td>1.0</td>\n",
              "      <td>Portuguese</td>\n",
              "      <td>2.15</td>\n",
              "      <td>3.60</td>\n",
              "      <td>yes</td>\n",
              "    </tr>\n",
              "    <tr>\n",
              "      <th>4</th>\n",
              "      <td>56.0</td>\n",
              "      <td>services</td>\n",
              "      <td>married</td>\n",
              "      <td>high.school</td>\n",
              "      <td>no</td>\n",
              "      <td>no</td>\n",
              "      <td>yes</td>\n",
              "      <td>telephone</td>\n",
              "      <td>may</td>\n",
              "      <td>mon</td>\n",
              "      <td>...</td>\n",
              "      <td>93.994</td>\n",
              "      <td>-36.4</td>\n",
              "      <td>4.857</td>\n",
              "      <td>5191.0</td>\n",
              "      <td>61.12</td>\n",
              "      <td>5.0</td>\n",
              "      <td>Portuguese</td>\n",
              "      <td>4.06</td>\n",
              "      <td>49.35</td>\n",
              "      <td>yes</td>\n",
              "    </tr>\n",
              "  </tbody>\n",
              "</table>\n",
              "<p>5 rows × 25 columns</p>\n",
              "</div>\n",
              "      <button class=\"colab-df-convert\" onclick=\"convertToInteractive('df-77c04f53-3c3b-4140-9b8c-77dbda8e8098')\"\n",
              "              title=\"Convert this dataframe to an interactive table.\"\n",
              "              style=\"display:none;\">\n",
              "        \n",
              "  <svg xmlns=\"http://www.w3.org/2000/svg\" height=\"24px\"viewBox=\"0 0 24 24\"\n",
              "       width=\"24px\">\n",
              "    <path d=\"M0 0h24v24H0V0z\" fill=\"none\"/>\n",
              "    <path d=\"M18.56 5.44l.94 2.06.94-2.06 2.06-.94-2.06-.94-.94-2.06-.94 2.06-2.06.94zm-11 1L8.5 8.5l.94-2.06 2.06-.94-2.06-.94L8.5 2.5l-.94 2.06-2.06.94zm10 10l.94 2.06.94-2.06 2.06-.94-2.06-.94-.94-2.06-.94 2.06-2.06.94z\"/><path d=\"M17.41 7.96l-1.37-1.37c-.4-.4-.92-.59-1.43-.59-.52 0-1.04.2-1.43.59L10.3 9.45l-7.72 7.72c-.78.78-.78 2.05 0 2.83L4 21.41c.39.39.9.59 1.41.59.51 0 1.02-.2 1.41-.59l7.78-7.78 2.81-2.81c.8-.78.8-2.07 0-2.86zM5.41 20L4 18.59l7.72-7.72 1.47 1.35L5.41 20z\"/>\n",
              "  </svg>\n",
              "      </button>\n",
              "      \n",
              "  <style>\n",
              "    .colab-df-container {\n",
              "      display:flex;\n",
              "      flex-wrap:wrap;\n",
              "      gap: 12px;\n",
              "    }\n",
              "\n",
              "    .colab-df-convert {\n",
              "      background-color: #E8F0FE;\n",
              "      border: none;\n",
              "      border-radius: 50%;\n",
              "      cursor: pointer;\n",
              "      display: none;\n",
              "      fill: #1967D2;\n",
              "      height: 32px;\n",
              "      padding: 0 0 0 0;\n",
              "      width: 32px;\n",
              "    }\n",
              "\n",
              "    .colab-df-convert:hover {\n",
              "      background-color: #E2EBFA;\n",
              "      box-shadow: 0px 1px 2px rgba(60, 64, 67, 0.3), 0px 1px 3px 1px rgba(60, 64, 67, 0.15);\n",
              "      fill: #174EA6;\n",
              "    }\n",
              "\n",
              "    [theme=dark] .colab-df-convert {\n",
              "      background-color: #3B4455;\n",
              "      fill: #D2E3FC;\n",
              "    }\n",
              "\n",
              "    [theme=dark] .colab-df-convert:hover {\n",
              "      background-color: #434B5C;\n",
              "      box-shadow: 0px 1px 3px 1px rgba(0, 0, 0, 0.15);\n",
              "      filter: drop-shadow(0px 1px 2px rgba(0, 0, 0, 0.3));\n",
              "      fill: #FFFFFF;\n",
              "    }\n",
              "  </style>\n",
              "\n",
              "      <script>\n",
              "        const buttonEl =\n",
              "          document.querySelector('#df-77c04f53-3c3b-4140-9b8c-77dbda8e8098 button.colab-df-convert');\n",
              "        buttonEl.style.display =\n",
              "          google.colab.kernel.accessAllowed ? 'block' : 'none';\n",
              "\n",
              "        async function convertToInteractive(key) {\n",
              "          const element = document.querySelector('#df-77c04f53-3c3b-4140-9b8c-77dbda8e8098');\n",
              "          const dataTable =\n",
              "            await google.colab.kernel.invokeFunction('convertToInteractive',\n",
              "                                                     [key], {});\n",
              "          if (!dataTable) return;\n",
              "\n",
              "          const docLinkHtml = 'Like what you see? Visit the ' +\n",
              "            '<a target=\"_blank\" href=https://colab.research.google.com/notebooks/data_table.ipynb>data table notebook</a>'\n",
              "            + ' to learn more about interactive tables.';\n",
              "          element.innerHTML = '';\n",
              "          dataTable['output_type'] = 'display_data';\n",
              "          await google.colab.output.renderOutput(dataTable, element);\n",
              "          const docLink = document.createElement('div');\n",
              "          docLink.innerHTML = docLinkHtml;\n",
              "          element.appendChild(docLink);\n",
              "        }\n",
              "      </script>\n",
              "    </div>\n",
              "  </div>\n",
              "  "
            ]
          },
          "metadata": {},
          "execution_count": 12
        }
      ],
      "source": [
        "# drop duration by not including it in selected columns\n",
        "df_data = df_data[['age', 'job', 'marital', 'education', 'default', 'housing',\n",
        "           'loan', 'contact', 'month', 'day_of_week', 'campaign',\n",
        "           'pdays', 'previous', 'poutcome', 'emp.var.rate', 'cons.price.idx',\n",
        "           'cons.conf.idx', 'euribor3m', 'nr.employed', 'total_assets',\n",
        "           'customer_ratings', 'customer_language', 'rep_avg_rating',\n",
        "           'customer_length', 'other_banks']]\n",
        "df_data.head()"
      ]
    },
    {
      "cell_type": "code",
      "execution_count": null,
      "metadata": {
        "colab": {
          "base_uri": "https://localhost:8080/"
        },
        "id": "Id4AOLuMXKkY",
        "outputId": "65cd93ee-a244-496c-aec5-aa05b3d71653"
      },
      "outputs": [
        {
          "output_type": "execute_result",
          "data": {
            "text/plain": [
              "0    no\n",
              "1    no\n",
              "2    no\n",
              "3    no\n",
              "4    no\n",
              "Name: y, dtype: object"
            ]
          },
          "metadata": {},
          "execution_count": 13
        }
      ],
      "source": [
        "df_target = df['y']\n",
        "df_target.head()"
      ]
    },
    {
      "cell_type": "markdown",
      "source": [
        "Section Summary:  \n",
        "Making a new dataframe without the target column to prepare for train, test, split. Also created a dataframe with numerical variables and the target to visualize a correlation matrix. We dropped the `duration` column since it was highly correlated to the target. `euribor3m`, `customer_length`, and `rep_avg_rating` are highly correlated to each other (above our threshold of 0.9). We will not select more than one of these features during feature selection due to their high correlation."
      ],
      "metadata": {
        "id": "Lhy3pT4NzyS1"
      }
    },
    {
      "cell_type": "markdown",
      "metadata": {
        "id": "dbOBsNM7XQ_j"
      },
      "source": [
        "# Train, Test, Split"
      ]
    },
    {
      "cell_type": "code",
      "execution_count": null,
      "metadata": {
        "id": "ej0BNMD2XTM0"
      },
      "outputs": [],
      "source": [
        "# Import `train_test_split` from `sklearn.model_selection`\n",
        "from sklearn.model_selection import train_test_split\n",
        "\n",
        "# Split the data into training and test sets\n",
        "# Split `data` into `X_train` and `X_test`\n",
        "# Split `target` into `y_train` and `y_test`\n",
        "X_train, X_test, y_train, y_test = train_test_split(df_data, df_target, test_size=0.25, random_state=2019)"
      ]
    },
    {
      "cell_type": "code",
      "source": [
        "X_train.head()"
      ],
      "metadata": {
        "colab": {
          "base_uri": "https://localhost:8080/",
          "height": 334
        },
        "id": "HX2AyU0heOXF",
        "outputId": "c4cfc4be-f278-4397-ab98-c91822957de3"
      },
      "execution_count": null,
      "outputs": [
        {
          "output_type": "execute_result",
          "data": {
            "text/plain": [
              "        age            job   marital          education  default housing loan  \\\n",
              "8124   38.0        student    single  university.degree       no      no   no   \n",
              "34522  42.0         admin.   married        high.school       no     yes   no   \n",
              "5007   32.0    blue-collar   married           basic.9y      NaN      no   no   \n",
              "1907   46.0  self-employed   married           basic.9y  unknown     yes   no   \n",
              "40686  83.0        retired  divorced           basic.4y       no      no   no   \n",
              "\n",
              "         contact month day_of_week  ...  cons.price.idx  cons.conf.idx  \\\n",
              "8124   telephone   jun         mon  ...          94.465          -41.8   \n",
              "34522   cellular   may         thu  ...          92.893          -46.2   \n",
              "5007   telephone   may         wed  ...          93.994          -36.4   \n",
              "1907   telephone   may         fri  ...          93.994          -36.4   \n",
              "40686   cellular   sep         thu  ...          94.199          -37.5   \n",
              "\n",
              "       euribor3m nr.employed  total_assets  customer_ratings  \\\n",
              "8124       4.865      5228.1         40.44               4.0   \n",
              "34522      1.266      5099.1         31.48               4.0   \n",
              "5007       4.858      5191.0         80.14               4.0   \n",
              "1907       4.855      5191.0         61.00               2.0   \n",
              "40686      0.879      4963.6         33.76               5.0   \n",
              "\n",
              "       customer_language  rep_avg_rating  customer_length  other_banks  \n",
              "8124             English            3.64            39.30          yes  \n",
              "34522            English            3.63            39.19          yes  \n",
              "5007          Portuguese            3.74            41.79          yes  \n",
              "1907          Portuguese            2.19             4.51          yes  \n",
              "40686                NaN            4.41            57.77           no  \n",
              "\n",
              "[5 rows x 25 columns]"
            ],
            "text/html": [
              "\n",
              "  <div id=\"df-5afd3309-3ec5-4aa8-8ae0-7e82260a673f\">\n",
              "    <div class=\"colab-df-container\">\n",
              "      <div>\n",
              "<style scoped>\n",
              "    .dataframe tbody tr th:only-of-type {\n",
              "        vertical-align: middle;\n",
              "    }\n",
              "\n",
              "    .dataframe tbody tr th {\n",
              "        vertical-align: top;\n",
              "    }\n",
              "\n",
              "    .dataframe thead th {\n",
              "        text-align: right;\n",
              "    }\n",
              "</style>\n",
              "<table border=\"1\" class=\"dataframe\">\n",
              "  <thead>\n",
              "    <tr style=\"text-align: right;\">\n",
              "      <th></th>\n",
              "      <th>age</th>\n",
              "      <th>job</th>\n",
              "      <th>marital</th>\n",
              "      <th>education</th>\n",
              "      <th>default</th>\n",
              "      <th>housing</th>\n",
              "      <th>loan</th>\n",
              "      <th>contact</th>\n",
              "      <th>month</th>\n",
              "      <th>day_of_week</th>\n",
              "      <th>...</th>\n",
              "      <th>cons.price.idx</th>\n",
              "      <th>cons.conf.idx</th>\n",
              "      <th>euribor3m</th>\n",
              "      <th>nr.employed</th>\n",
              "      <th>total_assets</th>\n",
              "      <th>customer_ratings</th>\n",
              "      <th>customer_language</th>\n",
              "      <th>rep_avg_rating</th>\n",
              "      <th>customer_length</th>\n",
              "      <th>other_banks</th>\n",
              "    </tr>\n",
              "  </thead>\n",
              "  <tbody>\n",
              "    <tr>\n",
              "      <th>8124</th>\n",
              "      <td>38.0</td>\n",
              "      <td>student</td>\n",
              "      <td>single</td>\n",
              "      <td>university.degree</td>\n",
              "      <td>no</td>\n",
              "      <td>no</td>\n",
              "      <td>no</td>\n",
              "      <td>telephone</td>\n",
              "      <td>jun</td>\n",
              "      <td>mon</td>\n",
              "      <td>...</td>\n",
              "      <td>94.465</td>\n",
              "      <td>-41.8</td>\n",
              "      <td>4.865</td>\n",
              "      <td>5228.1</td>\n",
              "      <td>40.44</td>\n",
              "      <td>4.0</td>\n",
              "      <td>English</td>\n",
              "      <td>3.64</td>\n",
              "      <td>39.30</td>\n",
              "      <td>yes</td>\n",
              "    </tr>\n",
              "    <tr>\n",
              "      <th>34522</th>\n",
              "      <td>42.0</td>\n",
              "      <td>admin.</td>\n",
              "      <td>married</td>\n",
              "      <td>high.school</td>\n",
              "      <td>no</td>\n",
              "      <td>yes</td>\n",
              "      <td>no</td>\n",
              "      <td>cellular</td>\n",
              "      <td>may</td>\n",
              "      <td>thu</td>\n",
              "      <td>...</td>\n",
              "      <td>92.893</td>\n",
              "      <td>-46.2</td>\n",
              "      <td>1.266</td>\n",
              "      <td>5099.1</td>\n",
              "      <td>31.48</td>\n",
              "      <td>4.0</td>\n",
              "      <td>English</td>\n",
              "      <td>3.63</td>\n",
              "      <td>39.19</td>\n",
              "      <td>yes</td>\n",
              "    </tr>\n",
              "    <tr>\n",
              "      <th>5007</th>\n",
              "      <td>32.0</td>\n",
              "      <td>blue-collar</td>\n",
              "      <td>married</td>\n",
              "      <td>basic.9y</td>\n",
              "      <td>NaN</td>\n",
              "      <td>no</td>\n",
              "      <td>no</td>\n",
              "      <td>telephone</td>\n",
              "      <td>may</td>\n",
              "      <td>wed</td>\n",
              "      <td>...</td>\n",
              "      <td>93.994</td>\n",
              "      <td>-36.4</td>\n",
              "      <td>4.858</td>\n",
              "      <td>5191.0</td>\n",
              "      <td>80.14</td>\n",
              "      <td>4.0</td>\n",
              "      <td>Portuguese</td>\n",
              "      <td>3.74</td>\n",
              "      <td>41.79</td>\n",
              "      <td>yes</td>\n",
              "    </tr>\n",
              "    <tr>\n",
              "      <th>1907</th>\n",
              "      <td>46.0</td>\n",
              "      <td>self-employed</td>\n",
              "      <td>married</td>\n",
              "      <td>basic.9y</td>\n",
              "      <td>unknown</td>\n",
              "      <td>yes</td>\n",
              "      <td>no</td>\n",
              "      <td>telephone</td>\n",
              "      <td>may</td>\n",
              "      <td>fri</td>\n",
              "      <td>...</td>\n",
              "      <td>93.994</td>\n",
              "      <td>-36.4</td>\n",
              "      <td>4.855</td>\n",
              "      <td>5191.0</td>\n",
              "      <td>61.00</td>\n",
              "      <td>2.0</td>\n",
              "      <td>Portuguese</td>\n",
              "      <td>2.19</td>\n",
              "      <td>4.51</td>\n",
              "      <td>yes</td>\n",
              "    </tr>\n",
              "    <tr>\n",
              "      <th>40686</th>\n",
              "      <td>83.0</td>\n",
              "      <td>retired</td>\n",
              "      <td>divorced</td>\n",
              "      <td>basic.4y</td>\n",
              "      <td>no</td>\n",
              "      <td>no</td>\n",
              "      <td>no</td>\n",
              "      <td>cellular</td>\n",
              "      <td>sep</td>\n",
              "      <td>thu</td>\n",
              "      <td>...</td>\n",
              "      <td>94.199</td>\n",
              "      <td>-37.5</td>\n",
              "      <td>0.879</td>\n",
              "      <td>4963.6</td>\n",
              "      <td>33.76</td>\n",
              "      <td>5.0</td>\n",
              "      <td>NaN</td>\n",
              "      <td>4.41</td>\n",
              "      <td>57.77</td>\n",
              "      <td>no</td>\n",
              "    </tr>\n",
              "  </tbody>\n",
              "</table>\n",
              "<p>5 rows × 25 columns</p>\n",
              "</div>\n",
              "      <button class=\"colab-df-convert\" onclick=\"convertToInteractive('df-5afd3309-3ec5-4aa8-8ae0-7e82260a673f')\"\n",
              "              title=\"Convert this dataframe to an interactive table.\"\n",
              "              style=\"display:none;\">\n",
              "        \n",
              "  <svg xmlns=\"http://www.w3.org/2000/svg\" height=\"24px\"viewBox=\"0 0 24 24\"\n",
              "       width=\"24px\">\n",
              "    <path d=\"M0 0h24v24H0V0z\" fill=\"none\"/>\n",
              "    <path d=\"M18.56 5.44l.94 2.06.94-2.06 2.06-.94-2.06-.94-.94-2.06-.94 2.06-2.06.94zm-11 1L8.5 8.5l.94-2.06 2.06-.94-2.06-.94L8.5 2.5l-.94 2.06-2.06.94zm10 10l.94 2.06.94-2.06 2.06-.94-2.06-.94-.94-2.06-.94 2.06-2.06.94z\"/><path d=\"M17.41 7.96l-1.37-1.37c-.4-.4-.92-.59-1.43-.59-.52 0-1.04.2-1.43.59L10.3 9.45l-7.72 7.72c-.78.78-.78 2.05 0 2.83L4 21.41c.39.39.9.59 1.41.59.51 0 1.02-.2 1.41-.59l7.78-7.78 2.81-2.81c.8-.78.8-2.07 0-2.86zM5.41 20L4 18.59l7.72-7.72 1.47 1.35L5.41 20z\"/>\n",
              "  </svg>\n",
              "      </button>\n",
              "      \n",
              "  <style>\n",
              "    .colab-df-container {\n",
              "      display:flex;\n",
              "      flex-wrap:wrap;\n",
              "      gap: 12px;\n",
              "    }\n",
              "\n",
              "    .colab-df-convert {\n",
              "      background-color: #E8F0FE;\n",
              "      border: none;\n",
              "      border-radius: 50%;\n",
              "      cursor: pointer;\n",
              "      display: none;\n",
              "      fill: #1967D2;\n",
              "      height: 32px;\n",
              "      padding: 0 0 0 0;\n",
              "      width: 32px;\n",
              "    }\n",
              "\n",
              "    .colab-df-convert:hover {\n",
              "      background-color: #E2EBFA;\n",
              "      box-shadow: 0px 1px 2px rgba(60, 64, 67, 0.3), 0px 1px 3px 1px rgba(60, 64, 67, 0.15);\n",
              "      fill: #174EA6;\n",
              "    }\n",
              "\n",
              "    [theme=dark] .colab-df-convert {\n",
              "      background-color: #3B4455;\n",
              "      fill: #D2E3FC;\n",
              "    }\n",
              "\n",
              "    [theme=dark] .colab-df-convert:hover {\n",
              "      background-color: #434B5C;\n",
              "      box-shadow: 0px 1px 3px 1px rgba(0, 0, 0, 0.15);\n",
              "      filter: drop-shadow(0px 1px 2px rgba(0, 0, 0, 0.3));\n",
              "      fill: #FFFFFF;\n",
              "    }\n",
              "  </style>\n",
              "\n",
              "      <script>\n",
              "        const buttonEl =\n",
              "          document.querySelector('#df-5afd3309-3ec5-4aa8-8ae0-7e82260a673f button.colab-df-convert');\n",
              "        buttonEl.style.display =\n",
              "          google.colab.kernel.accessAllowed ? 'block' : 'none';\n",
              "\n",
              "        async function convertToInteractive(key) {\n",
              "          const element = document.querySelector('#df-5afd3309-3ec5-4aa8-8ae0-7e82260a673f');\n",
              "          const dataTable =\n",
              "            await google.colab.kernel.invokeFunction('convertToInteractive',\n",
              "                                                     [key], {});\n",
              "          if (!dataTable) return;\n",
              "\n",
              "          const docLinkHtml = 'Like what you see? Visit the ' +\n",
              "            '<a target=\"_blank\" href=https://colab.research.google.com/notebooks/data_table.ipynb>data table notebook</a>'\n",
              "            + ' to learn more about interactive tables.';\n",
              "          element.innerHTML = '';\n",
              "          dataTable['output_type'] = 'display_data';\n",
              "          await google.colab.output.renderOutput(dataTable, element);\n",
              "          const docLink = document.createElement('div');\n",
              "          docLink.innerHTML = docLinkHtml;\n",
              "          element.appendChild(docLink);\n",
              "        }\n",
              "      </script>\n",
              "    </div>\n",
              "  </div>\n",
              "  "
            ]
          },
          "metadata": {},
          "execution_count": 15
        }
      ]
    },
    {
      "cell_type": "code",
      "source": [
        "#### assert that the indexes are the same before reindexing"
      ],
      "metadata": {
        "id": "SmhusYo6e3jJ"
      },
      "execution_count": null,
      "outputs": []
    },
    {
      "cell_type": "code",
      "source": [
        "assert X_train.index.all() == y_train.index.all()\n",
        "assert X_test.index.all() == y_test.index.all()"
      ],
      "metadata": {
        "id": "4n4eLNC6gEoI"
      },
      "execution_count": null,
      "outputs": []
    },
    {
      "cell_type": "code",
      "source": [
        "X_train = X_train.reset_index(drop=True)\n",
        "X_train.head()"
      ],
      "metadata": {
        "colab": {
          "base_uri": "https://localhost:8080/",
          "height": 334
        },
        "id": "Mh94mPU_dMu5",
        "outputId": "7b7af4c3-ee92-44fe-a5a2-562cdf06d1d6"
      },
      "execution_count": null,
      "outputs": [
        {
          "output_type": "execute_result",
          "data": {
            "text/plain": [
              "    age            job   marital          education  default housing loan  \\\n",
              "0  38.0        student    single  university.degree       no      no   no   \n",
              "1  42.0         admin.   married        high.school       no     yes   no   \n",
              "2  32.0    blue-collar   married           basic.9y      NaN      no   no   \n",
              "3  46.0  self-employed   married           basic.9y  unknown     yes   no   \n",
              "4  83.0        retired  divorced           basic.4y       no      no   no   \n",
              "\n",
              "     contact month day_of_week  ...  cons.price.idx  cons.conf.idx  euribor3m  \\\n",
              "0  telephone   jun         mon  ...          94.465          -41.8      4.865   \n",
              "1   cellular   may         thu  ...          92.893          -46.2      1.266   \n",
              "2  telephone   may         wed  ...          93.994          -36.4      4.858   \n",
              "3  telephone   may         fri  ...          93.994          -36.4      4.855   \n",
              "4   cellular   sep         thu  ...          94.199          -37.5      0.879   \n",
              "\n",
              "  nr.employed  total_assets  customer_ratings  customer_language  \\\n",
              "0      5228.1         40.44               4.0            English   \n",
              "1      5099.1         31.48               4.0            English   \n",
              "2      5191.0         80.14               4.0         Portuguese   \n",
              "3      5191.0         61.00               2.0         Portuguese   \n",
              "4      4963.6         33.76               5.0                NaN   \n",
              "\n",
              "   rep_avg_rating  customer_length  other_banks  \n",
              "0            3.64            39.30          yes  \n",
              "1            3.63            39.19          yes  \n",
              "2            3.74            41.79          yes  \n",
              "3            2.19             4.51          yes  \n",
              "4            4.41            57.77           no  \n",
              "\n",
              "[5 rows x 25 columns]"
            ],
            "text/html": [
              "\n",
              "  <div id=\"df-26bf7094-e2f8-4309-8784-f9d6e1aa336b\">\n",
              "    <div class=\"colab-df-container\">\n",
              "      <div>\n",
              "<style scoped>\n",
              "    .dataframe tbody tr th:only-of-type {\n",
              "        vertical-align: middle;\n",
              "    }\n",
              "\n",
              "    .dataframe tbody tr th {\n",
              "        vertical-align: top;\n",
              "    }\n",
              "\n",
              "    .dataframe thead th {\n",
              "        text-align: right;\n",
              "    }\n",
              "</style>\n",
              "<table border=\"1\" class=\"dataframe\">\n",
              "  <thead>\n",
              "    <tr style=\"text-align: right;\">\n",
              "      <th></th>\n",
              "      <th>age</th>\n",
              "      <th>job</th>\n",
              "      <th>marital</th>\n",
              "      <th>education</th>\n",
              "      <th>default</th>\n",
              "      <th>housing</th>\n",
              "      <th>loan</th>\n",
              "      <th>contact</th>\n",
              "      <th>month</th>\n",
              "      <th>day_of_week</th>\n",
              "      <th>...</th>\n",
              "      <th>cons.price.idx</th>\n",
              "      <th>cons.conf.idx</th>\n",
              "      <th>euribor3m</th>\n",
              "      <th>nr.employed</th>\n",
              "      <th>total_assets</th>\n",
              "      <th>customer_ratings</th>\n",
              "      <th>customer_language</th>\n",
              "      <th>rep_avg_rating</th>\n",
              "      <th>customer_length</th>\n",
              "      <th>other_banks</th>\n",
              "    </tr>\n",
              "  </thead>\n",
              "  <tbody>\n",
              "    <tr>\n",
              "      <th>0</th>\n",
              "      <td>38.0</td>\n",
              "      <td>student</td>\n",
              "      <td>single</td>\n",
              "      <td>university.degree</td>\n",
              "      <td>no</td>\n",
              "      <td>no</td>\n",
              "      <td>no</td>\n",
              "      <td>telephone</td>\n",
              "      <td>jun</td>\n",
              "      <td>mon</td>\n",
              "      <td>...</td>\n",
              "      <td>94.465</td>\n",
              "      <td>-41.8</td>\n",
              "      <td>4.865</td>\n",
              "      <td>5228.1</td>\n",
              "      <td>40.44</td>\n",
              "      <td>4.0</td>\n",
              "      <td>English</td>\n",
              "      <td>3.64</td>\n",
              "      <td>39.30</td>\n",
              "      <td>yes</td>\n",
              "    </tr>\n",
              "    <tr>\n",
              "      <th>1</th>\n",
              "      <td>42.0</td>\n",
              "      <td>admin.</td>\n",
              "      <td>married</td>\n",
              "      <td>high.school</td>\n",
              "      <td>no</td>\n",
              "      <td>yes</td>\n",
              "      <td>no</td>\n",
              "      <td>cellular</td>\n",
              "      <td>may</td>\n",
              "      <td>thu</td>\n",
              "      <td>...</td>\n",
              "      <td>92.893</td>\n",
              "      <td>-46.2</td>\n",
              "      <td>1.266</td>\n",
              "      <td>5099.1</td>\n",
              "      <td>31.48</td>\n",
              "      <td>4.0</td>\n",
              "      <td>English</td>\n",
              "      <td>3.63</td>\n",
              "      <td>39.19</td>\n",
              "      <td>yes</td>\n",
              "    </tr>\n",
              "    <tr>\n",
              "      <th>2</th>\n",
              "      <td>32.0</td>\n",
              "      <td>blue-collar</td>\n",
              "      <td>married</td>\n",
              "      <td>basic.9y</td>\n",
              "      <td>NaN</td>\n",
              "      <td>no</td>\n",
              "      <td>no</td>\n",
              "      <td>telephone</td>\n",
              "      <td>may</td>\n",
              "      <td>wed</td>\n",
              "      <td>...</td>\n",
              "      <td>93.994</td>\n",
              "      <td>-36.4</td>\n",
              "      <td>4.858</td>\n",
              "      <td>5191.0</td>\n",
              "      <td>80.14</td>\n",
              "      <td>4.0</td>\n",
              "      <td>Portuguese</td>\n",
              "      <td>3.74</td>\n",
              "      <td>41.79</td>\n",
              "      <td>yes</td>\n",
              "    </tr>\n",
              "    <tr>\n",
              "      <th>3</th>\n",
              "      <td>46.0</td>\n",
              "      <td>self-employed</td>\n",
              "      <td>married</td>\n",
              "      <td>basic.9y</td>\n",
              "      <td>unknown</td>\n",
              "      <td>yes</td>\n",
              "      <td>no</td>\n",
              "      <td>telephone</td>\n",
              "      <td>may</td>\n",
              "      <td>fri</td>\n",
              "      <td>...</td>\n",
              "      <td>93.994</td>\n",
              "      <td>-36.4</td>\n",
              "      <td>4.855</td>\n",
              "      <td>5191.0</td>\n",
              "      <td>61.00</td>\n",
              "      <td>2.0</td>\n",
              "      <td>Portuguese</td>\n",
              "      <td>2.19</td>\n",
              "      <td>4.51</td>\n",
              "      <td>yes</td>\n",
              "    </tr>\n",
              "    <tr>\n",
              "      <th>4</th>\n",
              "      <td>83.0</td>\n",
              "      <td>retired</td>\n",
              "      <td>divorced</td>\n",
              "      <td>basic.4y</td>\n",
              "      <td>no</td>\n",
              "      <td>no</td>\n",
              "      <td>no</td>\n",
              "      <td>cellular</td>\n",
              "      <td>sep</td>\n",
              "      <td>thu</td>\n",
              "      <td>...</td>\n",
              "      <td>94.199</td>\n",
              "      <td>-37.5</td>\n",
              "      <td>0.879</td>\n",
              "      <td>4963.6</td>\n",
              "      <td>33.76</td>\n",
              "      <td>5.0</td>\n",
              "      <td>NaN</td>\n",
              "      <td>4.41</td>\n",
              "      <td>57.77</td>\n",
              "      <td>no</td>\n",
              "    </tr>\n",
              "  </tbody>\n",
              "</table>\n",
              "<p>5 rows × 25 columns</p>\n",
              "</div>\n",
              "      <button class=\"colab-df-convert\" onclick=\"convertToInteractive('df-26bf7094-e2f8-4309-8784-f9d6e1aa336b')\"\n",
              "              title=\"Convert this dataframe to an interactive table.\"\n",
              "              style=\"display:none;\">\n",
              "        \n",
              "  <svg xmlns=\"http://www.w3.org/2000/svg\" height=\"24px\"viewBox=\"0 0 24 24\"\n",
              "       width=\"24px\">\n",
              "    <path d=\"M0 0h24v24H0V0z\" fill=\"none\"/>\n",
              "    <path d=\"M18.56 5.44l.94 2.06.94-2.06 2.06-.94-2.06-.94-.94-2.06-.94 2.06-2.06.94zm-11 1L8.5 8.5l.94-2.06 2.06-.94-2.06-.94L8.5 2.5l-.94 2.06-2.06.94zm10 10l.94 2.06.94-2.06 2.06-.94-2.06-.94-.94-2.06-.94 2.06-2.06.94z\"/><path d=\"M17.41 7.96l-1.37-1.37c-.4-.4-.92-.59-1.43-.59-.52 0-1.04.2-1.43.59L10.3 9.45l-7.72 7.72c-.78.78-.78 2.05 0 2.83L4 21.41c.39.39.9.59 1.41.59.51 0 1.02-.2 1.41-.59l7.78-7.78 2.81-2.81c.8-.78.8-2.07 0-2.86zM5.41 20L4 18.59l7.72-7.72 1.47 1.35L5.41 20z\"/>\n",
              "  </svg>\n",
              "      </button>\n",
              "      \n",
              "  <style>\n",
              "    .colab-df-container {\n",
              "      display:flex;\n",
              "      flex-wrap:wrap;\n",
              "      gap: 12px;\n",
              "    }\n",
              "\n",
              "    .colab-df-convert {\n",
              "      background-color: #E8F0FE;\n",
              "      border: none;\n",
              "      border-radius: 50%;\n",
              "      cursor: pointer;\n",
              "      display: none;\n",
              "      fill: #1967D2;\n",
              "      height: 32px;\n",
              "      padding: 0 0 0 0;\n",
              "      width: 32px;\n",
              "    }\n",
              "\n",
              "    .colab-df-convert:hover {\n",
              "      background-color: #E2EBFA;\n",
              "      box-shadow: 0px 1px 2px rgba(60, 64, 67, 0.3), 0px 1px 3px 1px rgba(60, 64, 67, 0.15);\n",
              "      fill: #174EA6;\n",
              "    }\n",
              "\n",
              "    [theme=dark] .colab-df-convert {\n",
              "      background-color: #3B4455;\n",
              "      fill: #D2E3FC;\n",
              "    }\n",
              "\n",
              "    [theme=dark] .colab-df-convert:hover {\n",
              "      background-color: #434B5C;\n",
              "      box-shadow: 0px 1px 3px 1px rgba(0, 0, 0, 0.15);\n",
              "      filter: drop-shadow(0px 1px 2px rgba(0, 0, 0, 0.3));\n",
              "      fill: #FFFFFF;\n",
              "    }\n",
              "  </style>\n",
              "\n",
              "      <script>\n",
              "        const buttonEl =\n",
              "          document.querySelector('#df-26bf7094-e2f8-4309-8784-f9d6e1aa336b button.colab-df-convert');\n",
              "        buttonEl.style.display =\n",
              "          google.colab.kernel.accessAllowed ? 'block' : 'none';\n",
              "\n",
              "        async function convertToInteractive(key) {\n",
              "          const element = document.querySelector('#df-26bf7094-e2f8-4309-8784-f9d6e1aa336b');\n",
              "          const dataTable =\n",
              "            await google.colab.kernel.invokeFunction('convertToInteractive',\n",
              "                                                     [key], {});\n",
              "          if (!dataTable) return;\n",
              "\n",
              "          const docLinkHtml = 'Like what you see? Visit the ' +\n",
              "            '<a target=\"_blank\" href=https://colab.research.google.com/notebooks/data_table.ipynb>data table notebook</a>'\n",
              "            + ' to learn more about interactive tables.';\n",
              "          element.innerHTML = '';\n",
              "          dataTable['output_type'] = 'display_data';\n",
              "          await google.colab.output.renderOutput(dataTable, element);\n",
              "          const docLink = document.createElement('div');\n",
              "          docLink.innerHTML = docLinkHtml;\n",
              "          element.appendChild(docLink);\n",
              "        }\n",
              "      </script>\n",
              "    </div>\n",
              "  </div>\n",
              "  "
            ]
          },
          "metadata": {},
          "execution_count": 18
        }
      ]
    },
    {
      "cell_type": "code",
      "source": [
        "X_test = X_test.reset_index(drop=True)\n",
        "X_test.head()"
      ],
      "metadata": {
        "colab": {
          "base_uri": "https://localhost:8080/",
          "height": 352
        },
        "id": "TOJ_qAJDez88",
        "outputId": "14438823-09fd-460f-9f34-0db668a0c20d"
      },
      "execution_count": null,
      "outputs": [
        {
          "output_type": "execute_result",
          "data": {
            "text/plain": [
              "    age            job   marital            education  default housing loan  \\\n",
              "0  48.0    blue-collar   married                  NaN       no      no   no   \n",
              "1  41.0       services  divorced          high.school       no      no   no   \n",
              "2  44.0    blue-collar   married             basic.9y  unknown      no   no   \n",
              "3  71.0        retired   married  professional.course       no     yes  yes   \n",
              "4  32.0  self-employed    single    university.degree       no     yes   no   \n",
              "\n",
              "     contact month day_of_week  ...  cons.price.idx  cons.conf.idx  euribor3m  \\\n",
              "0  telephone   may         tue  ...          93.994          -36.4      4.857   \n",
              "1   cellular   may         wed  ...          92.893          -46.2      1.334   \n",
              "2  telephone   may         mon  ...          93.994          -36.4      4.857   \n",
              "3  telephone   nov         tue  ...          92.649          -30.1      0.720   \n",
              "4        NaN   aug         thu  ...          93.444          -36.1      4.963   \n",
              "\n",
              "  nr.employed  total_assets  customer_ratings  customer_language  \\\n",
              "0      5191.0         38.19               3.0         Portuguese   \n",
              "1      5099.1         42.62               4.0         Portuguese   \n",
              "2      5191.0         43.57               4.0         Portuguese   \n",
              "3      5017.5         78.34               4.0         Portuguese   \n",
              "4      5228.1         51.15               5.0         Portuguese   \n",
              "\n",
              "   rep_avg_rating  customer_length  other_banks  \n",
              "0            2.84            20.26          yes  \n",
              "1            3.15            27.69          yes  \n",
              "2            3.55            37.18          yes  \n",
              "3            3.40            33.65          yes  \n",
              "4            4.73            65.47      unknown  \n",
              "\n",
              "[5 rows x 25 columns]"
            ],
            "text/html": [
              "\n",
              "  <div id=\"df-17904bea-9743-43eb-a60f-21966cb4d520\">\n",
              "    <div class=\"colab-df-container\">\n",
              "      <div>\n",
              "<style scoped>\n",
              "    .dataframe tbody tr th:only-of-type {\n",
              "        vertical-align: middle;\n",
              "    }\n",
              "\n",
              "    .dataframe tbody tr th {\n",
              "        vertical-align: top;\n",
              "    }\n",
              "\n",
              "    .dataframe thead th {\n",
              "        text-align: right;\n",
              "    }\n",
              "</style>\n",
              "<table border=\"1\" class=\"dataframe\">\n",
              "  <thead>\n",
              "    <tr style=\"text-align: right;\">\n",
              "      <th></th>\n",
              "      <th>age</th>\n",
              "      <th>job</th>\n",
              "      <th>marital</th>\n",
              "      <th>education</th>\n",
              "      <th>default</th>\n",
              "      <th>housing</th>\n",
              "      <th>loan</th>\n",
              "      <th>contact</th>\n",
              "      <th>month</th>\n",
              "      <th>day_of_week</th>\n",
              "      <th>...</th>\n",
              "      <th>cons.price.idx</th>\n",
              "      <th>cons.conf.idx</th>\n",
              "      <th>euribor3m</th>\n",
              "      <th>nr.employed</th>\n",
              "      <th>total_assets</th>\n",
              "      <th>customer_ratings</th>\n",
              "      <th>customer_language</th>\n",
              "      <th>rep_avg_rating</th>\n",
              "      <th>customer_length</th>\n",
              "      <th>other_banks</th>\n",
              "    </tr>\n",
              "  </thead>\n",
              "  <tbody>\n",
              "    <tr>\n",
              "      <th>0</th>\n",
              "      <td>48.0</td>\n",
              "      <td>blue-collar</td>\n",
              "      <td>married</td>\n",
              "      <td>NaN</td>\n",
              "      <td>no</td>\n",
              "      <td>no</td>\n",
              "      <td>no</td>\n",
              "      <td>telephone</td>\n",
              "      <td>may</td>\n",
              "      <td>tue</td>\n",
              "      <td>...</td>\n",
              "      <td>93.994</td>\n",
              "      <td>-36.4</td>\n",
              "      <td>4.857</td>\n",
              "      <td>5191.0</td>\n",
              "      <td>38.19</td>\n",
              "      <td>3.0</td>\n",
              "      <td>Portuguese</td>\n",
              "      <td>2.84</td>\n",
              "      <td>20.26</td>\n",
              "      <td>yes</td>\n",
              "    </tr>\n",
              "    <tr>\n",
              "      <th>1</th>\n",
              "      <td>41.0</td>\n",
              "      <td>services</td>\n",
              "      <td>divorced</td>\n",
              "      <td>high.school</td>\n",
              "      <td>no</td>\n",
              "      <td>no</td>\n",
              "      <td>no</td>\n",
              "      <td>cellular</td>\n",
              "      <td>may</td>\n",
              "      <td>wed</td>\n",
              "      <td>...</td>\n",
              "      <td>92.893</td>\n",
              "      <td>-46.2</td>\n",
              "      <td>1.334</td>\n",
              "      <td>5099.1</td>\n",
              "      <td>42.62</td>\n",
              "      <td>4.0</td>\n",
              "      <td>Portuguese</td>\n",
              "      <td>3.15</td>\n",
              "      <td>27.69</td>\n",
              "      <td>yes</td>\n",
              "    </tr>\n",
              "    <tr>\n",
              "      <th>2</th>\n",
              "      <td>44.0</td>\n",
              "      <td>blue-collar</td>\n",
              "      <td>married</td>\n",
              "      <td>basic.9y</td>\n",
              "      <td>unknown</td>\n",
              "      <td>no</td>\n",
              "      <td>no</td>\n",
              "      <td>telephone</td>\n",
              "      <td>may</td>\n",
              "      <td>mon</td>\n",
              "      <td>...</td>\n",
              "      <td>93.994</td>\n",
              "      <td>-36.4</td>\n",
              "      <td>4.857</td>\n",
              "      <td>5191.0</td>\n",
              "      <td>43.57</td>\n",
              "      <td>4.0</td>\n",
              "      <td>Portuguese</td>\n",
              "      <td>3.55</td>\n",
              "      <td>37.18</td>\n",
              "      <td>yes</td>\n",
              "    </tr>\n",
              "    <tr>\n",
              "      <th>3</th>\n",
              "      <td>71.0</td>\n",
              "      <td>retired</td>\n",
              "      <td>married</td>\n",
              "      <td>professional.course</td>\n",
              "      <td>no</td>\n",
              "      <td>yes</td>\n",
              "      <td>yes</td>\n",
              "      <td>telephone</td>\n",
              "      <td>nov</td>\n",
              "      <td>tue</td>\n",
              "      <td>...</td>\n",
              "      <td>92.649</td>\n",
              "      <td>-30.1</td>\n",
              "      <td>0.720</td>\n",
              "      <td>5017.5</td>\n",
              "      <td>78.34</td>\n",
              "      <td>4.0</td>\n",
              "      <td>Portuguese</td>\n",
              "      <td>3.40</td>\n",
              "      <td>33.65</td>\n",
              "      <td>yes</td>\n",
              "    </tr>\n",
              "    <tr>\n",
              "      <th>4</th>\n",
              "      <td>32.0</td>\n",
              "      <td>self-employed</td>\n",
              "      <td>single</td>\n",
              "      <td>university.degree</td>\n",
              "      <td>no</td>\n",
              "      <td>yes</td>\n",
              "      <td>no</td>\n",
              "      <td>NaN</td>\n",
              "      <td>aug</td>\n",
              "      <td>thu</td>\n",
              "      <td>...</td>\n",
              "      <td>93.444</td>\n",
              "      <td>-36.1</td>\n",
              "      <td>4.963</td>\n",
              "      <td>5228.1</td>\n",
              "      <td>51.15</td>\n",
              "      <td>5.0</td>\n",
              "      <td>Portuguese</td>\n",
              "      <td>4.73</td>\n",
              "      <td>65.47</td>\n",
              "      <td>unknown</td>\n",
              "    </tr>\n",
              "  </tbody>\n",
              "</table>\n",
              "<p>5 rows × 25 columns</p>\n",
              "</div>\n",
              "      <button class=\"colab-df-convert\" onclick=\"convertToInteractive('df-17904bea-9743-43eb-a60f-21966cb4d520')\"\n",
              "              title=\"Convert this dataframe to an interactive table.\"\n",
              "              style=\"display:none;\">\n",
              "        \n",
              "  <svg xmlns=\"http://www.w3.org/2000/svg\" height=\"24px\"viewBox=\"0 0 24 24\"\n",
              "       width=\"24px\">\n",
              "    <path d=\"M0 0h24v24H0V0z\" fill=\"none\"/>\n",
              "    <path d=\"M18.56 5.44l.94 2.06.94-2.06 2.06-.94-2.06-.94-.94-2.06-.94 2.06-2.06.94zm-11 1L8.5 8.5l.94-2.06 2.06-.94-2.06-.94L8.5 2.5l-.94 2.06-2.06.94zm10 10l.94 2.06.94-2.06 2.06-.94-2.06-.94-.94-2.06-.94 2.06-2.06.94z\"/><path d=\"M17.41 7.96l-1.37-1.37c-.4-.4-.92-.59-1.43-.59-.52 0-1.04.2-1.43.59L10.3 9.45l-7.72 7.72c-.78.78-.78 2.05 0 2.83L4 21.41c.39.39.9.59 1.41.59.51 0 1.02-.2 1.41-.59l7.78-7.78 2.81-2.81c.8-.78.8-2.07 0-2.86zM5.41 20L4 18.59l7.72-7.72 1.47 1.35L5.41 20z\"/>\n",
              "  </svg>\n",
              "      </button>\n",
              "      \n",
              "  <style>\n",
              "    .colab-df-container {\n",
              "      display:flex;\n",
              "      flex-wrap:wrap;\n",
              "      gap: 12px;\n",
              "    }\n",
              "\n",
              "    .colab-df-convert {\n",
              "      background-color: #E8F0FE;\n",
              "      border: none;\n",
              "      border-radius: 50%;\n",
              "      cursor: pointer;\n",
              "      display: none;\n",
              "      fill: #1967D2;\n",
              "      height: 32px;\n",
              "      padding: 0 0 0 0;\n",
              "      width: 32px;\n",
              "    }\n",
              "\n",
              "    .colab-df-convert:hover {\n",
              "      background-color: #E2EBFA;\n",
              "      box-shadow: 0px 1px 2px rgba(60, 64, 67, 0.3), 0px 1px 3px 1px rgba(60, 64, 67, 0.15);\n",
              "      fill: #174EA6;\n",
              "    }\n",
              "\n",
              "    [theme=dark] .colab-df-convert {\n",
              "      background-color: #3B4455;\n",
              "      fill: #D2E3FC;\n",
              "    }\n",
              "\n",
              "    [theme=dark] .colab-df-convert:hover {\n",
              "      background-color: #434B5C;\n",
              "      box-shadow: 0px 1px 3px 1px rgba(0, 0, 0, 0.15);\n",
              "      filter: drop-shadow(0px 1px 2px rgba(0, 0, 0, 0.3));\n",
              "      fill: #FFFFFF;\n",
              "    }\n",
              "  </style>\n",
              "\n",
              "      <script>\n",
              "        const buttonEl =\n",
              "          document.querySelector('#df-17904bea-9743-43eb-a60f-21966cb4d520 button.colab-df-convert');\n",
              "        buttonEl.style.display =\n",
              "          google.colab.kernel.accessAllowed ? 'block' : 'none';\n",
              "\n",
              "        async function convertToInteractive(key) {\n",
              "          const element = document.querySelector('#df-17904bea-9743-43eb-a60f-21966cb4d520');\n",
              "          const dataTable =\n",
              "            await google.colab.kernel.invokeFunction('convertToInteractive',\n",
              "                                                     [key], {});\n",
              "          if (!dataTable) return;\n",
              "\n",
              "          const docLinkHtml = 'Like what you see? Visit the ' +\n",
              "            '<a target=\"_blank\" href=https://colab.research.google.com/notebooks/data_table.ipynb>data table notebook</a>'\n",
              "            + ' to learn more about interactive tables.';\n",
              "          element.innerHTML = '';\n",
              "          dataTable['output_type'] = 'display_data';\n",
              "          await google.colab.output.renderOutput(dataTable, element);\n",
              "          const docLink = document.createElement('div');\n",
              "          docLink.innerHTML = docLinkHtml;\n",
              "          element.appendChild(docLink);\n",
              "        }\n",
              "      </script>\n",
              "    </div>\n",
              "  </div>\n",
              "  "
            ]
          },
          "metadata": {},
          "execution_count": 19
        }
      ]
    },
    {
      "cell_type": "code",
      "source": [
        "y_train = y_train.reset_index(drop=True)\n",
        "y_train.head()"
      ],
      "metadata": {
        "colab": {
          "base_uri": "https://localhost:8080/"
        },
        "id": "vNTOR2JNe-t_",
        "outputId": "a131d232-8133-4418-af9a-548c357e11fa"
      },
      "execution_count": null,
      "outputs": [
        {
          "output_type": "execute_result",
          "data": {
            "text/plain": [
              "0     no\n",
              "1     no\n",
              "2    yes\n",
              "3     no\n",
              "4    yes\n",
              "Name: y, dtype: object"
            ]
          },
          "metadata": {},
          "execution_count": 20
        }
      ]
    },
    {
      "cell_type": "code",
      "source": [
        "y_test = y_test.reset_index(drop=True)\n",
        "y_test.head()"
      ],
      "metadata": {
        "colab": {
          "base_uri": "https://localhost:8080/"
        },
        "id": "cjfcpsR5fG7l",
        "outputId": "e0253892-eb4e-417f-b9b4-6c8074e79f24"
      },
      "execution_count": null,
      "outputs": [
        {
          "output_type": "execute_result",
          "data": {
            "text/plain": [
              "0     no\n",
              "1     no\n",
              "2     no\n",
              "3    yes\n",
              "4     no\n",
              "Name: y, dtype: object"
            ]
          },
          "metadata": {},
          "execution_count": 21
        }
      ]
    },
    {
      "cell_type": "markdown",
      "source": [
        "Section Summary:  \n",
        "Train, test, split the data and made sure the indicies matched before resetting the indicies to normal counting numbers for each dataframe."
      ],
      "metadata": {
        "id": "S8JE4am70vVT"
      }
    },
    {
      "cell_type": "markdown",
      "metadata": {
        "id": "H2EyatK-XdFw"
      },
      "source": [
        "# Initial Data Validation and Exploration"
      ]
    },
    {
      "cell_type": "code",
      "source": [
        "X_train.shape"
      ],
      "metadata": {
        "colab": {
          "base_uri": "https://localhost:8080/"
        },
        "id": "fadSknKRn-m7",
        "outputId": "145b9bb7-1e2b-4e01-be85-316a8297feec"
      },
      "execution_count": null,
      "outputs": [
        {
          "output_type": "execute_result",
          "data": {
            "text/plain": [
              "(33980, 25)"
            ]
          },
          "metadata": {},
          "execution_count": 22
        }
      ]
    },
    {
      "cell_type": "code",
      "source": [
        "y_train.shape"
      ],
      "metadata": {
        "colab": {
          "base_uri": "https://localhost:8080/"
        },
        "id": "PlDyLatpoC6o",
        "outputId": "0dbfee08-33f2-48c0-b9a9-7feab468c384"
      },
      "execution_count": null,
      "outputs": [
        {
          "output_type": "execute_result",
          "data": {
            "text/plain": [
              "(33980,)"
            ]
          },
          "metadata": {},
          "execution_count": 23
        }
      ]
    },
    {
      "cell_type": "code",
      "execution_count": null,
      "metadata": {
        "id": "KTO75zudXZyv"
      },
      "outputs": [],
      "source": [
        "assert X_train.shape[0] == y_train.shape[0]\n",
        "assert X_test.shape[0] == y_test.shape[0]\n",
        "assert X_train.shape[1] == X_test.shape[1]"
      ]
    },
    {
      "cell_type": "code",
      "execution_count": null,
      "metadata": {
        "colab": {
          "base_uri": "https://localhost:8080/"
        },
        "id": "hfEKWSMXXziT",
        "outputId": "9877943f-bf29-4315-9fd3-b7eca3d195cf"
      },
      "outputs": [
        {
          "output_type": "stream",
          "name": "stdout",
          "text": [
            "***** Train_Set *****\n",
            "                age      campaign         pdays      previous  emp.var.rate  \\\n",
            "count  33967.000000  32467.000000  33546.000000  33977.000000  33342.000000   \n",
            "mean      40.031560      2.565312    963.004173      0.172882      0.080211   \n",
            "std       10.382697      2.754913    185.608529      0.495402      1.571956   \n",
            "min       17.000000      1.000000      0.000000      0.000000     -3.400000   \n",
            "25%       32.000000      1.000000    999.000000      0.000000     -1.800000   \n",
            "50%       38.000000      2.000000    999.000000      0.000000      1.100000   \n",
            "75%       47.000000      3.000000    999.000000      0.000000      1.400000   \n",
            "max       98.000000     43.000000    999.000000      7.000000      1.400000   \n",
            "\n",
            "       cons.price.idx  cons.conf.idx     euribor3m   nr.employed  \\\n",
            "count    33201.000000   32466.000000  32829.000000  33000.000000   \n",
            "mean        93.575726     -40.490427      3.625983   5166.997179   \n",
            "std          0.578664       4.628517      1.732367     72.108604   \n",
            "min         92.201000     -50.800000      0.634000   4963.600000   \n",
            "25%         93.075000     -42.700000      1.344000   5099.100000   \n",
            "50%         93.749000     -41.800000      4.857000   5191.000000   \n",
            "75%         93.994000     -36.400000      4.961000   5228.100000   \n",
            "max         94.767000     -26.900000      5.045000   5228.100000   \n",
            "\n",
            "       total_assets  customer_ratings  rep_avg_rating  customer_length  \n",
            "count  33259.000000      32674.000000    32353.000000     33456.000000  \n",
            "mean      59.257858          3.942768        3.498505        36.020007  \n",
            "std       24.715678          1.128385        0.870711        20.905688  \n",
            "min       10.980000          1.000000        2.000000         0.000000  \n",
            "25%       41.850000          3.000000        2.750000        18.030000  \n",
            "50%       54.710000          4.000000        3.500000        36.060000  \n",
            "75%       71.745000          5.000000        4.260000        54.250000  \n",
            "max      360.400000          5.000000        5.000000        72.000000  \n",
            "\n",
            "\n",
            "***** Test_Set *****\n",
            "                age      campaign         pdays      previous  emp.var.rate  \\\n",
            "count  11318.000000  10805.000000  11164.000000  11326.000000  11108.000000   \n",
            "mean      40.035872      2.577973    960.932641      0.179498      0.082346   \n",
            "std       10.497745      2.808321    190.666879      0.511076      1.568928   \n",
            "min       17.000000      1.000000      0.000000      0.000000     -3.400000   \n",
            "25%       32.000000      1.000000    999.000000      0.000000     -1.800000   \n",
            "50%       38.000000      2.000000    999.000000      0.000000      1.100000   \n",
            "75%       47.000000      3.000000    999.000000      0.000000      1.400000   \n",
            "max       92.000000     56.000000    999.000000      6.000000      1.400000   \n",
            "\n",
            "       cons.price.idx  cons.conf.idx     euribor3m   nr.employed  \\\n",
            "count    11055.000000   10795.000000  10927.000000  10981.000000   \n",
            "mean        93.576950     -40.532107      3.622838   5166.882606   \n",
            "std          0.579629       4.611142      1.733576     73.006312   \n",
            "min         92.201000     -50.800000      0.634000   4963.600000   \n",
            "25%         93.075000     -42.700000      1.344000   5099.100000   \n",
            "50%         93.749000     -41.800000      4.857000   5191.000000   \n",
            "75%         93.994000     -36.400000      4.961000   5228.100000   \n",
            "max         94.767000     -26.900000      5.045000   5228.100000   \n",
            "\n",
            "       total_assets  customer_ratings  rep_avg_rating  customer_length  \n",
            "count  11111.000000      10858.000000    10768.000000     11157.000000  \n",
            "mean      59.320009          3.952017        3.502757        36.006894  \n",
            "std       25.006307          1.115591        0.865600        20.775551  \n",
            "min       10.850000          1.000000        2.000000         0.010000  \n",
            "25%       41.890000          3.000000        2.760000        18.060000  \n",
            "50%       54.800000          4.000000        3.500000        36.070000  \n",
            "75%       71.390000          5.000000        4.250000        54.040000  \n",
            "max      275.090000          5.000000        5.000000        71.990000  \n"
          ]
        }
      ],
      "source": [
        "print(\"***** Train_Set *****\")\n",
        "print(X_train.describe())\n",
        "print(\"\\n\")\n",
        "print(\"***** Test_Set *****\")\n",
        "print(X_test.describe())"
      ]
    },
    {
      "cell_type": "code",
      "execution_count": null,
      "metadata": {
        "colab": {
          "base_uri": "https://localhost:8080/"
        },
        "id": "T1qElrczX5Ro",
        "outputId": "ebbb4cee-5522-45b1-bce4-f53789070fa7"
      },
      "outputs": [
        {
          "output_type": "stream",
          "name": "stdout",
          "text": [
            "*****In the train set*****\n",
            "age                    13\n",
            "job                   137\n",
            "marital               863\n",
            "education            1297\n",
            "default              1352\n",
            "housing               160\n",
            "loan                  482\n",
            "contact              1377\n",
            "month                1664\n",
            "day_of_week          1079\n",
            "campaign             1513\n",
            "pdays                 434\n",
            "previous                3\n",
            "poutcome             1275\n",
            "emp.var.rate          638\n",
            "cons.price.idx        779\n",
            "cons.conf.idx        1514\n",
            "euribor3m            1151\n",
            "nr.employed           980\n",
            "total_assets          721\n",
            "customer_ratings     1306\n",
            "customer_language     891\n",
            "rep_avg_rating       1627\n",
            "customer_length       524\n",
            "other_banks           243\n",
            "dtype: int64\n",
            "\n",
            "\n",
            "*****In the test set*****\n",
            "age                    9\n",
            "job                   36\n",
            "marital              324\n",
            "education            378\n",
            "default              441\n",
            "housing               45\n",
            "loan                 158\n",
            "contact              445\n",
            "month                522\n",
            "day_of_week          338\n",
            "campaign             522\n",
            "pdays                163\n",
            "previous               1\n",
            "poutcome             429\n",
            "emp.var.rate         219\n",
            "cons.price.idx       272\n",
            "cons.conf.idx        532\n",
            "euribor3m            400\n",
            "nr.employed          346\n",
            "total_assets         216\n",
            "customer_ratings     469\n",
            "customer_language    267\n",
            "rep_avg_rating       559\n",
            "customer_length      170\n",
            "other_banks          107\n",
            "dtype: int64\n"
          ]
        }
      ],
      "source": [
        "print(\"*****In the train set*****\")\n",
        "print(X_train.isna().sum())\n",
        "print(\"\\n\")\n",
        "print(\"*****In the test set*****\")\n",
        "print(X_test.isna().sum())"
      ]
    },
    {
      "cell_type": "code",
      "execution_count": null,
      "metadata": {
        "colab": {
          "base_uri": "https://localhost:8080/"
        },
        "id": "Cj3yfEgBX-yG",
        "outputId": "099ff2c3-2ae5-4767-8553-ae40f83cee07"
      },
      "outputs": [
        {
          "output_type": "stream",
          "name": "stdout",
          "text": [
            "***** Train_Set *****\n",
            "count     33980\n",
            "unique        2\n",
            "top          no\n",
            "freq      30182\n",
            "Name: y, dtype: object\n",
            "\n",
            "\n",
            "***** Test_Set *****\n",
            "count     11327\n",
            "unique        2\n",
            "top          no\n",
            "freq      10034\n",
            "Name: y, dtype: object\n"
          ]
        }
      ],
      "source": [
        "print(\"***** Train_Set *****\")\n",
        "print(y_train.describe())\n",
        "print(\"\\n\")\n",
        "print(\"***** Test_Set *****\")\n",
        "print(y_test.describe())"
      ]
    },
    {
      "cell_type": "code",
      "execution_count": null,
      "metadata": {
        "colab": {
          "base_uri": "https://localhost:8080/"
        },
        "id": "doVMAf37YEcq",
        "outputId": "c29f2952-6281-40d7-92ff-33728edb71a8"
      },
      "outputs": [
        {
          "output_type": "stream",
          "name": "stdout",
          "text": [
            "*****In the train set*****\n",
            "0\n",
            "\n",
            "\n",
            "*****In the test set*****\n",
            "0\n"
          ]
        }
      ],
      "source": [
        "print(\"*****In the train set*****\")\n",
        "print(y_train.isna().sum())\n",
        "print(\"\\n\")\n",
        "print(\"*****In the test set*****\")\n",
        "print(y_test.isna().sum())"
      ]
    },
    {
      "cell_type": "markdown",
      "source": [
        "Section Summary:  \n",
        "Making sure the shapes of the data"
      ],
      "metadata": {
        "id": "j0I2W2qq1A6a"
      }
    },
    {
      "cell_type": "markdown",
      "metadata": {
        "id": "ftrKf7GgYGOT"
      },
      "source": [
        "# Categorical EDA Train vs. Test Data"
      ]
    },
    {
      "cell_type": "code",
      "execution_count": null,
      "metadata": {
        "colab": {
          "base_uri": "https://localhost:8080/",
          "height": 415
        },
        "id": "Z7a-VRONYJEd",
        "outputId": "733d4212-b367-438c-dfdf-c01a36756cf0"
      },
      "outputs": [
        {
          "output_type": "execute_result",
          "data": {
            "text/plain": [
              "Text(0.5, 0, 'Job Descriptions')"
            ]
          },
          "metadata": {},
          "execution_count": 29
        },
        {
          "output_type": "display_data",
          "data": {
            "text/plain": [
              "<Figure size 720x360 with 1 Axes>"
            ],
            "image/png": "[encoded data removed]"
          },
          "metadata": {
            "needs_background": "light"
          }
        }
      ],
      "source": [
        "plt.figure(figsize=(10,5))\n",
        "X_train['job'].value_counts().plot(kind='bar')\n",
        "plt.title('Training Data Job Distribution')\n",
        "plt.ylabel('Counts')\n",
        "plt.xlabel('Job Descriptions')"
      ]
    },
    {
      "cell_type": "code",
      "execution_count": null,
      "metadata": {
        "colab": {
          "base_uri": "https://localhost:8080/",
          "height": 415
        },
        "id": "8uY7c6uPYMuB",
        "outputId": "3bc7b640-1ddd-4892-bd3b-71caf924208c"
      },
      "outputs": [
        {
          "output_type": "execute_result",
          "data": {
            "text/plain": [
              "Text(0.5, 0, 'Job Descriptions')"
            ]
          },
          "metadata": {},
          "execution_count": 30
        },
        {
          "output_type": "display_data",
          "data": {
            "text/plain": [
              "<Figure size 720x360 with 1 Axes>"
            ],
            "image/png": "[encoded data removed]"
          },
          "metadata": {
            "needs_background": "light"
          }
        }
      ],
      "source": [
        "## need to bin into 5 job descriptions later\n",
        "# top 4 + \"other\"\n",
        "# job vs. no job (binary)\n",
        "plt.figure(figsize=(10,5))\n",
        "X_test['job'].value_counts().plot(kind='bar')\n",
        "plt.title('Testing Data Job Distribution')\n",
        "plt.ylabel('Counts')\n",
        "plt.xlabel('Job Descriptions')"
      ]
    },
    {
      "cell_type": "code",
      "execution_count": null,
      "metadata": {
        "colab": {
          "base_uri": "https://localhost:8080/",
          "height": 392
        },
        "id": "Uo4xGvNTYRmM",
        "outputId": "60da2809-c680-42b2-c01a-3af1a61efd5c"
      },
      "outputs": [
        {
          "output_type": "execute_result",
          "data": {
            "text/plain": [
              "Text(0.5, 0, 'Housing Loan')"
            ]
          },
          "metadata": {},
          "execution_count": 31
        },
        {
          "output_type": "display_data",
          "data": {
            "text/plain": [
              "<Figure size 720x360 with 1 Axes>"
            ],
            "image/png": "[encoded data removed]"
          },
          "metadata": {
            "needs_background": "light"
          }
        }
      ],
      "source": [
        "plt.figure(figsize=(10,5))\n",
        "X_train['housing'].value_counts().plot(kind='bar', color='red')\n",
        "plt.title('Training Data Housing Loan Distribution')\n",
        "plt.ylabel('Counts')\n",
        "plt.xlabel('Housing Loan')"
      ]
    },
    {
      "cell_type": "code",
      "execution_count": null,
      "metadata": {
        "colab": {
          "base_uri": "https://localhost:8080/",
          "height": 392
        },
        "id": "dVbN1DcbYXSa",
        "outputId": "d6ac0d19-16f1-442a-e2e6-633d96468c0d"
      },
      "outputs": [
        {
          "output_type": "execute_result",
          "data": {
            "text/plain": [
              "Text(0.5, 0, 'Housing Loan')"
            ]
          },
          "metadata": {},
          "execution_count": 32
        },
        {
          "output_type": "display_data",
          "data": {
            "text/plain": [
              "<Figure size 720x360 with 1 Axes>"
            ],
            "image/png": "[encoded data removed]"
          },
          "metadata": {
            "needs_background": "light"
          }
        }
      ],
      "source": [
        "plt.figure(figsize=(10,5))\n",
        "X_test['housing'].value_counts().plot(kind='bar', color='red')\n",
        "plt.title('Testing Data Housing Loan Distribution')\n",
        "plt.ylabel('Counts')\n",
        "plt.xlabel('Housing Loan')"
      ]
    },
    {
      "cell_type": "code",
      "execution_count": null,
      "metadata": {
        "colab": {
          "base_uri": "https://localhost:8080/",
          "height": 439
        },
        "id": "AMoF9QdLYYgp",
        "outputId": "0b48b4f9-d3d6-4418-90a9-86ea1f629905"
      },
      "outputs": [
        {
          "output_type": "execute_result",
          "data": {
            "text/plain": [
              "Text(0.5, 0, 'Education Level')"
            ]
          },
          "metadata": {},
          "execution_count": 33
        },
        {
          "output_type": "display_data",
          "data": {
            "text/plain": [
              "<Figure size 720x360 with 1 Axes>"
            ],
            "image/png": "[encoded data removed]"
          },
          "metadata": {
            "needs_background": "light"
          }
        }
      ],
      "source": [
        "plt.figure(figsize=(10,5))\n",
        "X_train['education'].value_counts().plot(kind='bar', color='orange')\n",
        "plt.title('Training Data Education Distribution')\n",
        "plt.ylabel('Counts')\n",
        "plt.xlabel('Education Level')"
      ]
    },
    {
      "cell_type": "code",
      "execution_count": null,
      "metadata": {
        "colab": {
          "base_uri": "https://localhost:8080/",
          "height": 439
        },
        "id": "7tHyIgp7YbqA",
        "outputId": "ce0067c1-e9c9-49d3-e8c3-71aa25d1e95e"
      },
      "outputs": [
        {
          "output_type": "execute_result",
          "data": {
            "text/plain": [
              "Text(0.5, 0, 'Education Level')"
            ]
          },
          "metadata": {},
          "execution_count": 34
        },
        {
          "output_type": "display_data",
          "data": {
            "text/plain": [
              "<Figure size 720x360 with 1 Axes>"
            ],
            "image/png": "[encoded data removed]"
          },
          "metadata": {
            "needs_background": "light"
          }
        }
      ],
      "source": [
        "# need to bin to 5 or less\n",
        "# college, high school, below\n",
        "plt.figure(figsize=(10,5))\n",
        "X_test['education'].value_counts().plot(kind='bar', color='orange')\n",
        "plt.title('Testing Data Education Distribution')\n",
        "plt.ylabel('Counts')\n",
        "plt.xlabel('Education Level')"
      ]
    },
    {
      "cell_type": "code",
      "execution_count": null,
      "metadata": {
        "colab": {
          "base_uri": "https://localhost:8080/",
          "height": 371
        },
        "id": "ui1nvRbSYhFi",
        "outputId": "4b7af5a6-6fb4-4198-aaa5-8d4b96886592"
      },
      "outputs": [
        {
          "output_type": "execute_result",
          "data": {
            "text/plain": [
              "Text(0.5, 0, 'Month')"
            ]
          },
          "metadata": {},
          "execution_count": 35
        },
        {
          "output_type": "display_data",
          "data": {
            "text/plain": [
              "<Figure size 720x360 with 1 Axes>"
            ],
            "image/png": "[encoded data removed]"
          },
          "metadata": {
            "needs_background": "light"
          }
        }
      ],
      "source": [
        "# bin month into quarters, but there is no january or february\n",
        "# maybe they started this campaign in march\n",
        "plt.figure(figsize=(10,5))\n",
        "X_train['month'].value_counts().plot(kind='bar', color='green')\n",
        "plt.title('Training Data Month Distribution')\n",
        "plt.ylabel('Counts')\n",
        "plt.xlabel('Month')"
      ]
    },
    {
      "cell_type": "code",
      "execution_count": null,
      "metadata": {
        "colab": {
          "base_uri": "https://localhost:8080/",
          "height": 371
        },
        "id": "WrX5jmFfYiR3",
        "outputId": "00be1816-651f-4d3e-975c-7cfb0e644813"
      },
      "outputs": [
        {
          "output_type": "execute_result",
          "data": {
            "text/plain": [
              "Text(0.5, 0, 'Month')"
            ]
          },
          "metadata": {},
          "execution_count": 36
        },
        {
          "output_type": "display_data",
          "data": {
            "text/plain": [
              "<Figure size 720x360 with 1 Axes>"
            ],
            "image/png": "[encoded data removed]"
          },
          "metadata": {
            "needs_background": "light"
          }
        }
      ],
      "source": [
        "plt.figure(figsize=(10,5))\n",
        "X_test['month'].value_counts().plot(kind='bar', color='green')\n",
        "plt.title('Testing Data Month Distribution')\n",
        "plt.ylabel('Counts')\n",
        "plt.xlabel('Month')"
      ]
    },
    {
      "cell_type": "code",
      "execution_count": null,
      "metadata": {
        "colab": {
          "base_uri": "https://localhost:8080/",
          "height": 368
        },
        "id": "-a2VnORCYnnw",
        "outputId": "75cadce4-7826-4fba-dc8f-68e46d105788"
      },
      "outputs": [
        {
          "output_type": "execute_result",
          "data": {
            "text/plain": [
              "Text(0.5, 0, 'Term Deposit Subscription')"
            ]
          },
          "metadata": {},
          "execution_count": 37
        },
        {
          "output_type": "display_data",
          "data": {
            "text/plain": [
              "<Figure size 720x360 with 1 Axes>"
            ],
            "image/png": "[encoded data removed]"
          },
          "metadata": {
            "needs_background": "light"
          }
        }
      ],
      "source": [
        "plt.figure(figsize=(10,5))\n",
        "y_train.value_counts().plot(kind='bar', color='black')\n",
        "plt.title('Training Data Target Distribution')\n",
        "plt.ylabel('Counts')\n",
        "plt.xlabel('Term Deposit Subscription')"
      ]
    },
    {
      "cell_type": "code",
      "execution_count": null,
      "metadata": {
        "colab": {
          "base_uri": "https://localhost:8080/",
          "height": 368
        },
        "id": "k9zgeTblYsOI",
        "outputId": "452e0101-c8eb-495e-dee9-3c8ea57bd0f5"
      },
      "outputs": [
        {
          "output_type": "execute_result",
          "data": {
            "text/plain": [
              "Text(0.5, 0, 'Term Deposit Subscription')"
            ]
          },
          "metadata": {},
          "execution_count": 38
        },
        {
          "output_type": "display_data",
          "data": {
            "text/plain": [
              "<Figure size 720x360 with 1 Axes>"
            ],
            "image/png": "[encoded data removed]"
          },
          "metadata": {
            "needs_background": "light"
          }
        }
      ],
      "source": [
        "plt.figure(figsize=(10,5))\n",
        "y_test.value_counts().plot(kind='bar', color='black')\n",
        "plt.title('Testing Data Target Distribution')\n",
        "plt.ylabel('Counts')\n",
        "plt.xlabel('Term Deposit Subscription')"
      ]
    },
    {
      "cell_type": "markdown",
      "metadata": {
        "id": "AjR64qguM40o"
      },
      "source": [
        "###***************"
      ]
    },
    {
      "cell_type": "code",
      "execution_count": null,
      "metadata": {
        "id": "ebc1l29qYvsf"
      },
      "outputs": [],
      "source": [
        "# calculate the ratio\n",
        "# heavy imbalance issues\n",
        "# will have to use smote"
      ]
    },
    {
      "cell_type": "markdown",
      "metadata": {
        "id": "CJmKD38bM7pB"
      },
      "source": [
        "###***"
      ]
    },
    {
      "cell_type": "markdown",
      "metadata": {
        "id": "OgEuw7K7ZXgA"
      },
      "source": [
        "# Numerical EDA Train vs. Test Data"
      ]
    },
    {
      "cell_type": "code",
      "execution_count": null,
      "metadata": {
        "id": "C9ukJZkuZdcR"
      },
      "outputs": [],
      "source": [
        "### need to do with side-by-side box plots"
      ]
    },
    {
      "cell_type": "code",
      "execution_count": null,
      "metadata": {
        "colab": {
          "base_uri": "https://localhost:8080/",
          "height": 674
        },
        "id": "QM4Trr9-UsTN",
        "outputId": "c6f48752-8b92-428b-cf75-53f6c8b60e9e"
      },
      "outputs": [
        {
          "output_type": "display_data",
          "data": {
            "text/plain": [
              "<Figure size 1584x864 with 12 Axes>"
            ],
            "image/png": "[encoded data removed]"
          },
          "metadata": {
            "needs_background": "light"
          }
        }
      ],
      "source": [
        "## group these box plots by demographics, economics, etc.\n",
        "# do not have to use subplots if you use group\n",
        "\n",
        "fig, axes = plt.subplots(3, 4, figsize = (22, 12))\n",
        "\n",
        "plt.suptitle(\"Boxplots of the numerical attributes\")\n",
        "\n",
        "sns.boxplot(ax=axes[0, 1], data = df_data, x = 'campaign')\n",
        "sns.boxplot(ax=axes[0, 2], data = df_data, x = 'pdays')\n",
        "sns.boxplot(ax=axes[0, 3], data = df_data, x = 'previous')\n",
        "sns.boxplot(ax=axes[1, 0], data = df_data, x = 'emp.var.rate')\n",
        "sns.boxplot(ax=axes[1, 1], data = df_data, x = 'cons.price.idx')\n",
        "sns.boxplot(ax=axes[1, 2], data = df_data, x = 'cons.conf.idx')\n",
        "sns.boxplot(ax=axes[1, 3], data = df_data, x = 'euribor3m')\n",
        "sns.boxplot(ax=axes[2, 0], data = df_data, x = 'nr.employed')\n",
        "sns.boxplot(ax=axes[2, 1], data = df_data, x = 'total_assets')\n",
        "sns.boxplot(ax=axes[2, 2], data = df_data, x = 'rep_avg_rating')\n",
        "sns.boxplot(ax=axes[2, 3], data = df_data, x = 'customer_length')\n",
        "\n",
        "\n",
        "\n",
        "plt.show()"
      ]
    },
    {
      "cell_type": "code",
      "execution_count": null,
      "metadata": {
        "colab": {
          "base_uri": "https://localhost:8080/",
          "height": 677
        },
        "id": "rrP2RfOxVXID",
        "outputId": "bdf124ce-b1b3-4e47-832e-16ecc5a6c3b4"
      },
      "outputs": [
        {
          "output_type": "execute_result",
          "data": {
            "text/plain": [
              "<matplotlib.axes._subplots.AxesSubplot at 0x7f48aef67c10>"
            ]
          },
          "metadata": {},
          "execution_count": 42
        },
        {
          "output_type": "display_data",
          "data": {
            "text/plain": [
              "<Figure size 1584x864 with 12 Axes>"
            ],
            "image/png": "[encoded data removed]"
          },
          "metadata": {
            "needs_background": "light"
          }
        }
      ],
      "source": [
        "fig, axes = plt.subplots(3, 4, figsize = (22, 12))\n",
        "\n",
        "plt.suptitle(\"Histograms of the attributes\")\n",
        "\n",
        "sns.histplot(ax=axes[0, 1], data = df_data, x = 'campaign')\n",
        "sns.histplot(ax=axes[0, 2], data = df_data, x = 'pdays')\n",
        "sns.histplot(ax=axes[0, 3], data = df_data, x = 'previous')\n",
        "sns.histplot(ax=axes[1, 0], data = df_data, x = 'emp.var.rate')\n",
        "sns.histplot(ax=axes[1, 1], data = df_data, x = 'cons.price.idx')\n",
        "sns.histplot(ax=axes[1, 2], data = df_data, x = 'cons.conf.idx')\n",
        "sns.histplot(ax=axes[1, 3], data = df_data, x = 'euribor3m')\n",
        "sns.histplot(ax=axes[2, 0], data = df_data, x = 'nr.employed')\n",
        "sns.histplot(ax=axes[2, 1], data = df_data, x = 'total_assets')\n",
        "sns.histplot(ax=axes[2, 2], data = df_data, x = 'rep_avg_rating')\n",
        "sns.histplot(ax=axes[2, 3], data = df_data, x = 'customer_length')"
      ]
    },
    {
      "cell_type": "markdown",
      "metadata": {
        "id": "NPJQk1OYaAdR"
      },
      "source": [
        "# Split the Dataframe based on Variable Types"
      ]
    },
    {
      "cell_type": "code",
      "execution_count": null,
      "metadata": {
        "colab": {
          "base_uri": "https://localhost:8080/",
          "height": 270
        },
        "id": "8JCMkE2UaESW",
        "outputId": "b988bcc5-66de-4984-b294-39ddab904a1d"
      },
      "outputs": [
        {
          "output_type": "execute_result",
          "data": {
            "text/plain": [
              "    age  campaign  previous  pdays  customer_ratings  emp.var.rate  \\\n",
              "0  38.0       4.0       0.0  999.0               4.0           1.4   \n",
              "1  42.0       1.0       0.0  999.0               4.0          -1.8   \n",
              "2  32.0       3.0       0.0  999.0               4.0           1.1   \n",
              "3  46.0       7.0       0.0  999.0               2.0           1.1   \n",
              "4  83.0       1.0       3.0    9.0               5.0          -1.1   \n",
              "\n",
              "   cons.price.idx  cons.conf.idx  euribor3m  nr.employed  total_assets  \\\n",
              "0          94.465          -41.8      4.865       5228.1         40.44   \n",
              "1          92.893          -46.2      1.266       5099.1         31.48   \n",
              "2          93.994          -36.4      4.858       5191.0         80.14   \n",
              "3          93.994          -36.4      4.855       5191.0         61.00   \n",
              "4          94.199          -37.5      0.879       4963.6         33.76   \n",
              "\n",
              "   rep_avg_rating  customer_length  \n",
              "0            3.64            39.30  \n",
              "1            3.63            39.19  \n",
              "2            3.74            41.79  \n",
              "3            2.19             4.51  \n",
              "4            4.41            57.77  "
            ],
            "text/html": [
              "\n",
              "  <div id=\"df-2e9376a7-a8f4-4163-9d73-d4a5fbf16f93\">\n",
              "    <div class=\"colab-df-container\">\n",
              "      <div>\n",
              "<style scoped>\n",
              "    .dataframe tbody tr th:only-of-type {\n",
              "        vertical-align: middle;\n",
              "    }\n",
              "\n",
              "    .dataframe tbody tr th {\n",
              "        vertical-align: top;\n",
              "    }\n",
              "\n",
              "    .dataframe thead th {\n",
              "        text-align: right;\n",
              "    }\n",
              "</style>\n",
              "<table border=\"1\" class=\"dataframe\">\n",
              "  <thead>\n",
              "    <tr style=\"text-align: right;\">\n",
              "      <th></th>\n",
              "      <th>age</th>\n",
              "      <th>campaign</th>\n",
              "      <th>previous</th>\n",
              "      <th>pdays</th>\n",
              "      <th>customer_ratings</th>\n",
              "      <th>emp.var.rate</th>\n",
              "      <th>cons.price.idx</th>\n",
              "      <th>cons.conf.idx</th>\n",
              "      <th>euribor3m</th>\n",
              "      <th>nr.employed</th>\n",
              "      <th>total_assets</th>\n",
              "      <th>rep_avg_rating</th>\n",
              "      <th>customer_length</th>\n",
              "    </tr>\n",
              "  </thead>\n",
              "  <tbody>\n",
              "    <tr>\n",
              "      <th>0</th>\n",
              "      <td>38.0</td>\n",
              "      <td>4.0</td>\n",
              "      <td>0.0</td>\n",
              "      <td>999.0</td>\n",
              "      <td>4.0</td>\n",
              "      <td>1.4</td>\n",
              "      <td>94.465</td>\n",
              "      <td>-41.8</td>\n",
              "      <td>4.865</td>\n",
              "      <td>5228.1</td>\n",
              "      <td>40.44</td>\n",
              "      <td>3.64</td>\n",
              "      <td>39.30</td>\n",
              "    </tr>\n",
              "    <tr>\n",
              "      <th>1</th>\n",
              "      <td>42.0</td>\n",
              "      <td>1.0</td>\n",
              "      <td>0.0</td>\n",
              "      <td>999.0</td>\n",
              "      <td>4.0</td>\n",
              "      <td>-1.8</td>\n",
              "      <td>92.893</td>\n",
              "      <td>-46.2</td>\n",
              "      <td>1.266</td>\n",
              "      <td>5099.1</td>\n",
              "      <td>31.48</td>\n",
              "      <td>3.63</td>\n",
              "      <td>39.19</td>\n",
              "    </tr>\n",
              "    <tr>\n",
              "      <th>2</th>\n",
              "      <td>32.0</td>\n",
              "      <td>3.0</td>\n",
              "      <td>0.0</td>\n",
              "      <td>999.0</td>\n",
              "      <td>4.0</td>\n",
              "      <td>1.1</td>\n",
              "      <td>93.994</td>\n",
              "      <td>-36.4</td>\n",
              "      <td>4.858</td>\n",
              "      <td>5191.0</td>\n",
              "      <td>80.14</td>\n",
              "      <td>3.74</td>\n",
              "      <td>41.79</td>\n",
              "    </tr>\n",
              "    <tr>\n",
              "      <th>3</th>\n",
              "      <td>46.0</td>\n",
              "      <td>7.0</td>\n",
              "      <td>0.0</td>\n",
              "      <td>999.0</td>\n",
              "      <td>2.0</td>\n",
              "      <td>1.1</td>\n",
              "      <td>93.994</td>\n",
              "      <td>-36.4</td>\n",
              "      <td>4.855</td>\n",
              "      <td>5191.0</td>\n",
              "      <td>61.00</td>\n",
              "      <td>2.19</td>\n",
              "      <td>4.51</td>\n",
              "    </tr>\n",
              "    <tr>\n",
              "      <th>4</th>\n",
              "      <td>83.0</td>\n",
              "      <td>1.0</td>\n",
              "      <td>3.0</td>\n",
              "      <td>9.0</td>\n",
              "      <td>5.0</td>\n",
              "      <td>-1.1</td>\n",
              "      <td>94.199</td>\n",
              "      <td>-37.5</td>\n",
              "      <td>0.879</td>\n",
              "      <td>4963.6</td>\n",
              "      <td>33.76</td>\n",
              "      <td>4.41</td>\n",
              "      <td>57.77</td>\n",
              "    </tr>\n",
              "  </tbody>\n",
              "</table>\n",
              "</div>\n",
              "      <button class=\"colab-df-convert\" onclick=\"convertToInteractive('df-2e9376a7-a8f4-4163-9d73-d4a5fbf16f93')\"\n",
              "              title=\"Convert this dataframe to an interactive table.\"\n",
              "              style=\"display:none;\">\n",
              "        \n",
              "  <svg xmlns=\"http://www.w3.org/2000/svg\" height=\"24px\"viewBox=\"0 0 24 24\"\n",
              "       width=\"24px\">\n",
              "    <path d=\"M0 0h24v24H0V0z\" fill=\"none\"/>\n",
              "    <path d=\"M18.56 5.44l.94 2.06.94-2.06 2.06-.94-2.06-.94-.94-2.06-.94 2.06-2.06.94zm-11 1L8.5 8.5l.94-2.06 2.06-.94-2.06-.94L8.5 2.5l-.94 2.06-2.06.94zm10 10l.94 2.06.94-2.06 2.06-.94-2.06-.94-.94-2.06-.94 2.06-2.06.94z\"/><path d=\"M17.41 7.96l-1.37-1.37c-.4-.4-.92-.59-1.43-.59-.52 0-1.04.2-1.43.59L10.3 9.45l-7.72 7.72c-.78.78-.78 2.05 0 2.83L4 21.41c.39.39.9.59 1.41.59.51 0 1.02-.2 1.41-.59l7.78-7.78 2.81-2.81c.8-.78.8-2.07 0-2.86zM5.41 20L4 18.59l7.72-7.72 1.47 1.35L5.41 20z\"/>\n",
              "  </svg>\n",
              "      </button>\n",
              "      \n",
              "  <style>\n",
              "    .colab-df-container {\n",
              "      display:flex;\n",
              "      flex-wrap:wrap;\n",
              "      gap: 12px;\n",
              "    }\n",
              "\n",
              "    .colab-df-convert {\n",
              "      background-color: #E8F0FE;\n",
              "      border: none;\n",
              "      border-radius: 50%;\n",
              "      cursor: pointer;\n",
              "      display: none;\n",
              "      fill: #1967D2;\n",
              "      height: 32px;\n",
              "      padding: 0 0 0 0;\n",
              "      width: 32px;\n",
              "    }\n",
              "\n",
              "    .colab-df-convert:hover {\n",
              "      background-color: #E2EBFA;\n",
              "      box-shadow: 0px 1px 2px rgba(60, 64, 67, 0.3), 0px 1px 3px 1px rgba(60, 64, 67, 0.15);\n",
              "      fill: #174EA6;\n",
              "    }\n",
              "\n",
              "    [theme=dark] .colab-df-convert {\n",
              "      background-color: #3B4455;\n",
              "      fill: #D2E3FC;\n",
              "    }\n",
              "\n",
              "    [theme=dark] .colab-df-convert:hover {\n",
              "      background-color: #434B5C;\n",
              "      box-shadow: 0px 1px 3px 1px rgba(0, 0, 0, 0.15);\n",
              "      filter: drop-shadow(0px 1px 2px rgba(0, 0, 0, 0.3));\n",
              "      fill: #FFFFFF;\n",
              "    }\n",
              "  </style>\n",
              "\n",
              "      <script>\n",
              "        const buttonEl =\n",
              "          document.querySelector('#df-2e9376a7-a8f4-4163-9d73-d4a5fbf16f93 button.colab-df-convert');\n",
              "        buttonEl.style.display =\n",
              "          google.colab.kernel.accessAllowed ? 'block' : 'none';\n",
              "\n",
              "        async function convertToInteractive(key) {\n",
              "          const element = document.querySelector('#df-2e9376a7-a8f4-4163-9d73-d4a5fbf16f93');\n",
              "          const dataTable =\n",
              "            await google.colab.kernel.invokeFunction('convertToInteractive',\n",
              "                                                     [key], {});\n",
              "          if (!dataTable) return;\n",
              "\n",
              "          const docLinkHtml = 'Like what you see? Visit the ' +\n",
              "            '<a target=\"_blank\" href=https://colab.research.google.com/notebooks/data_table.ipynb>data table notebook</a>'\n",
              "            + ' to learn more about interactive tables.';\n",
              "          element.innerHTML = '';\n",
              "          dataTable['output_type'] = 'display_data';\n",
              "          await google.colab.output.renderOutput(dataTable, element);\n",
              "          const docLink = document.createElement('div');\n",
              "          docLink.innerHTML = docLinkHtml;\n",
              "          element.appendChild(docLink);\n",
              "        }\n",
              "      </script>\n",
              "    </div>\n",
              "  </div>\n",
              "  "
            ]
          },
          "metadata": {},
          "execution_count": 43
        }
      ],
      "source": [
        "continuous_train = X_train[['age', 'campaign', 'previous', 'pdays', 'customer_ratings',\n",
        "                         'emp.var.rate', 'cons.price.idx', 'cons.conf.idx', 'euribor3m',\n",
        "                         'nr.employed', 'total_assets', 'rep_avg_rating', 'customer_length']]\n",
        "continuous_train.head()"
      ]
    },
    {
      "cell_type": "code",
      "execution_count": null,
      "metadata": {
        "colab": {
          "base_uri": "https://localhost:8080/",
          "height": 270
        },
        "id": "kgpOy6o9aJNO",
        "outputId": "02956c6f-7632-408a-cb3a-53bf95542867"
      },
      "outputs": [
        {
          "output_type": "execute_result",
          "data": {
            "text/plain": [
              "    age  campaign  previous  pdays  customer_ratings  emp.var.rate  \\\n",
              "0  48.0       2.0       0.0  999.0               3.0           NaN   \n",
              "1  41.0       2.0       0.0  999.0               4.0          -1.8   \n",
              "2  44.0       1.0       0.0  999.0               4.0           1.1   \n",
              "3  71.0       1.0       0.0  999.0               4.0          -3.4   \n",
              "4  32.0       3.0       0.0  999.0               5.0           1.4   \n",
              "\n",
              "   cons.price.idx  cons.conf.idx  euribor3m  nr.employed  total_assets  \\\n",
              "0          93.994          -36.4      4.857       5191.0         38.19   \n",
              "1          92.893          -46.2      1.334       5099.1         42.62   \n",
              "2          93.994          -36.4      4.857       5191.0         43.57   \n",
              "3          92.649          -30.1      0.720       5017.5         78.34   \n",
              "4          93.444          -36.1      4.963       5228.1         51.15   \n",
              "\n",
              "   rep_avg_rating  customer_length  \n",
              "0            2.84            20.26  \n",
              "1            3.15            27.69  \n",
              "2            3.55            37.18  \n",
              "3            3.40            33.65  \n",
              "4            4.73            65.47  "
            ],
            "text/html": [
              "\n",
              "  <div id=\"df-8ef4d83a-ce18-4a82-a867-88f87b26a99d\">\n",
              "    <div class=\"colab-df-container\">\n",
              "      <div>\n",
              "<style scoped>\n",
              "    .dataframe tbody tr th:only-of-type {\n",
              "        vertical-align: middle;\n",
              "    }\n",
              "\n",
              "    .dataframe tbody tr th {\n",
              "        vertical-align: top;\n",
              "    }\n",
              "\n",
              "    .dataframe thead th {\n",
              "        text-align: right;\n",
              "    }\n",
              "</style>\n",
              "<table border=\"1\" class=\"dataframe\">\n",
              "  <thead>\n",
              "    <tr style=\"text-align: right;\">\n",
              "      <th></th>\n",
              "      <th>age</th>\n",
              "      <th>campaign</th>\n",
              "      <th>previous</th>\n",
              "      <th>pdays</th>\n",
              "      <th>customer_ratings</th>\n",
              "      <th>emp.var.rate</th>\n",
              "      <th>cons.price.idx</th>\n",
              "      <th>cons.conf.idx</th>\n",
              "      <th>euribor3m</th>\n",
              "      <th>nr.employed</th>\n",
              "      <th>total_assets</th>\n",
              "      <th>rep_avg_rating</th>\n",
              "      <th>customer_length</th>\n",
              "    </tr>\n",
              "  </thead>\n",
              "  <tbody>\n",
              "    <tr>\n",
              "      <th>0</th>\n",
              "      <td>48.0</td>\n",
              "      <td>2.0</td>\n",
              "      <td>0.0</td>\n",
              "      <td>999.0</td>\n",
              "      <td>3.0</td>\n",
              "      <td>NaN</td>\n",
              "      <td>93.994</td>\n",
              "      <td>-36.4</td>\n",
              "      <td>4.857</td>\n",
              "      <td>5191.0</td>\n",
              "      <td>38.19</td>\n",
              "      <td>2.84</td>\n",
              "      <td>20.26</td>\n",
              "    </tr>\n",
              "    <tr>\n",
              "      <th>1</th>\n",
              "      <td>41.0</td>\n",
              "      <td>2.0</td>\n",
              "      <td>0.0</td>\n",
              "      <td>999.0</td>\n",
              "      <td>4.0</td>\n",
              "      <td>-1.8</td>\n",
              "      <td>92.893</td>\n",
              "      <td>-46.2</td>\n",
              "      <td>1.334</td>\n",
              "      <td>5099.1</td>\n",
              "      <td>42.62</td>\n",
              "      <td>3.15</td>\n",
              "      <td>27.69</td>\n",
              "    </tr>\n",
              "    <tr>\n",
              "      <th>2</th>\n",
              "      <td>44.0</td>\n",
              "      <td>1.0</td>\n",
              "      <td>0.0</td>\n",
              "      <td>999.0</td>\n",
              "      <td>4.0</td>\n",
              "      <td>1.1</td>\n",
              "      <td>93.994</td>\n",
              "      <td>-36.4</td>\n",
              "      <td>4.857</td>\n",
              "      <td>5191.0</td>\n",
              "      <td>43.57</td>\n",
              "      <td>3.55</td>\n",
              "      <td>37.18</td>\n",
              "    </tr>\n",
              "    <tr>\n",
              "      <th>3</th>\n",
              "      <td>71.0</td>\n",
              "      <td>1.0</td>\n",
              "      <td>0.0</td>\n",
              "      <td>999.0</td>\n",
              "      <td>4.0</td>\n",
              "      <td>-3.4</td>\n",
              "      <td>92.649</td>\n",
              "      <td>-30.1</td>\n",
              "      <td>0.720</td>\n",
              "      <td>5017.5</td>\n",
              "      <td>78.34</td>\n",
              "      <td>3.40</td>\n",
              "      <td>33.65</td>\n",
              "    </tr>\n",
              "    <tr>\n",
              "      <th>4</th>\n",
              "      <td>32.0</td>\n",
              "      <td>3.0</td>\n",
              "      <td>0.0</td>\n",
              "      <td>999.0</td>\n",
              "      <td>5.0</td>\n",
              "      <td>1.4</td>\n",
              "      <td>93.444</td>\n",
              "      <td>-36.1</td>\n",
              "      <td>4.963</td>\n",
              "      <td>5228.1</td>\n",
              "      <td>51.15</td>\n",
              "      <td>4.73</td>\n",
              "      <td>65.47</td>\n",
              "    </tr>\n",
              "  </tbody>\n",
              "</table>\n",
              "</div>\n",
              "      <button class=\"colab-df-convert\" onclick=\"convertToInteractive('df-8ef4d83a-ce18-4a82-a867-88f87b26a99d')\"\n",
              "              title=\"Convert this dataframe to an interactive table.\"\n",
              "              style=\"display:none;\">\n",
              "        \n",
              "  <svg xmlns=\"http://www.w3.org/2000/svg\" height=\"24px\"viewBox=\"0 0 24 24\"\n",
              "       width=\"24px\">\n",
              "    <path d=\"M0 0h24v24H0V0z\" fill=\"none\"/>\n",
              "    <path d=\"M18.56 5.44l.94 2.06.94-2.06 2.06-.94-2.06-.94-.94-2.06-.94 2.06-2.06.94zm-11 1L8.5 8.5l.94-2.06 2.06-.94-2.06-.94L8.5 2.5l-.94 2.06-2.06.94zm10 10l.94 2.06.94-2.06 2.06-.94-2.06-.94-.94-2.06-.94 2.06-2.06.94z\"/><path d=\"M17.41 7.96l-1.37-1.37c-.4-.4-.92-.59-1.43-.59-.52 0-1.04.2-1.43.59L10.3 9.45l-7.72 7.72c-.78.78-.78 2.05 0 2.83L4 21.41c.39.39.9.59 1.41.59.51 0 1.02-.2 1.41-.59l7.78-7.78 2.81-2.81c.8-.78.8-2.07 0-2.86zM5.41 20L4 18.59l7.72-7.72 1.47 1.35L5.41 20z\"/>\n",
              "  </svg>\n",
              "      </button>\n",
              "      \n",
              "  <style>\n",
              "    .colab-df-container {\n",
              "      display:flex;\n",
              "      flex-wrap:wrap;\n",
              "      gap: 12px;\n",
              "    }\n",
              "\n",
              "    .colab-df-convert {\n",
              "      background-color: #E8F0FE;\n",
              "      border: none;\n",
              "      border-radius: 50%;\n",
              "      cursor: pointer;\n",
              "      display: none;\n",
              "      fill: #1967D2;\n",
              "      height: 32px;\n",
              "      padding: 0 0 0 0;\n",
              "      width: 32px;\n",
              "    }\n",
              "\n",
              "    .colab-df-convert:hover {\n",
              "      background-color: #E2EBFA;\n",
              "      box-shadow: 0px 1px 2px rgba(60, 64, 67, 0.3), 0px 1px 3px 1px rgba(60, 64, 67, 0.15);\n",
              "      fill: #174EA6;\n",
              "    }\n",
              "\n",
              "    [theme=dark] .colab-df-convert {\n",
              "      background-color: #3B4455;\n",
              "      fill: #D2E3FC;\n",
              "    }\n",
              "\n",
              "    [theme=dark] .colab-df-convert:hover {\n",
              "      background-color: #434B5C;\n",
              "      box-shadow: 0px 1px 3px 1px rgba(0, 0, 0, 0.15);\n",
              "      filter: drop-shadow(0px 1px 2px rgba(0, 0, 0, 0.3));\n",
              "      fill: #FFFFFF;\n",
              "    }\n",
              "  </style>\n",
              "\n",
              "      <script>\n",
              "        const buttonEl =\n",
              "          document.querySelector('#df-8ef4d83a-ce18-4a82-a867-88f87b26a99d button.colab-df-convert');\n",
              "        buttonEl.style.display =\n",
              "          google.colab.kernel.accessAllowed ? 'block' : 'none';\n",
              "\n",
              "        async function convertToInteractive(key) {\n",
              "          const element = document.querySelector('#df-8ef4d83a-ce18-4a82-a867-88f87b26a99d');\n",
              "          const dataTable =\n",
              "            await google.colab.kernel.invokeFunction('convertToInteractive',\n",
              "                                                     [key], {});\n",
              "          if (!dataTable) return;\n",
              "\n",
              "          const docLinkHtml = 'Like what you see? Visit the ' +\n",
              "            '<a target=\"_blank\" href=https://colab.research.google.com/notebooks/data_table.ipynb>data table notebook</a>'\n",
              "            + ' to learn more about interactive tables.';\n",
              "          element.innerHTML = '';\n",
              "          dataTable['output_type'] = 'display_data';\n",
              "          await google.colab.output.renderOutput(dataTable, element);\n",
              "          const docLink = document.createElement('div');\n",
              "          docLink.innerHTML = docLinkHtml;\n",
              "          element.appendChild(docLink);\n",
              "        }\n",
              "      </script>\n",
              "    </div>\n",
              "  </div>\n",
              "  "
            ]
          },
          "metadata": {},
          "execution_count": 44
        }
      ],
      "source": [
        "continuous_test = X_test[['age', 'campaign', 'previous', 'pdays', 'customer_ratings',\n",
        "                         'emp.var.rate', 'cons.price.idx', 'cons.conf.idx', 'euribor3m',\n",
        "                         'nr.employed', 'total_assets', 'rep_avg_rating', 'customer_length']]\n",
        "continuous_test.head()"
      ]
    },
    {
      "cell_type": "code",
      "execution_count": null,
      "metadata": {
        "colab": {
          "base_uri": "https://localhost:8080/",
          "height": 250
        },
        "id": "gVrXtqaWaOxs",
        "outputId": "1bbb640d-90f7-4a89-f006-c15bb569afb1"
      },
      "outputs": [
        {
          "output_type": "execute_result",
          "data": {
            "text/plain": [
              "             job   marital          education  default housing loan  \\\n",
              "0        student    single  university.degree       no      no   no   \n",
              "1         admin.   married        high.school       no     yes   no   \n",
              "2    blue-collar   married           basic.9y      NaN      no   no   \n",
              "3  self-employed   married           basic.9y  unknown     yes   no   \n",
              "4        retired  divorced           basic.4y       no      no   no   \n",
              "\n",
              "     contact month day_of_week     poutcome customer_language other_banks  \n",
              "0  telephone   jun         mon  nonexistent           English         yes  \n",
              "1   cellular   may         thu  nonexistent           English         yes  \n",
              "2  telephone   may         wed  nonexistent        Portuguese         yes  \n",
              "3  telephone   may         fri  nonexistent        Portuguese         yes  \n",
              "4   cellular   sep         thu      success               NaN          no  "
            ],
            "text/html": [
              "\n",
              "  <div id=\"df-5b55a2cf-b67d-46e5-82f8-ef092d409067\">\n",
              "    <div class=\"colab-df-container\">\n",
              "      <div>\n",
              "<style scoped>\n",
              "    .dataframe tbody tr th:only-of-type {\n",
              "        vertical-align: middle;\n",
              "    }\n",
              "\n",
              "    .dataframe tbody tr th {\n",
              "        vertical-align: top;\n",
              "    }\n",
              "\n",
              "    .dataframe thead th {\n",
              "        text-align: right;\n",
              "    }\n",
              "</style>\n",
              "<table border=\"1\" class=\"dataframe\">\n",
              "  <thead>\n",
              "    <tr style=\"text-align: right;\">\n",
              "      <th></th>\n",
              "      <th>job</th>\n",
              "      <th>marital</th>\n",
              "      <th>education</th>\n",
              "      <th>default</th>\n",
              "      <th>housing</th>\n",
              "      <th>loan</th>\n",
              "      <th>contact</th>\n",
              "      <th>month</th>\n",
              "      <th>day_of_week</th>\n",
              "      <th>poutcome</th>\n",
              "      <th>customer_language</th>\n",
              "      <th>other_banks</th>\n",
              "    </tr>\n",
              "  </thead>\n",
              "  <tbody>\n",
              "    <tr>\n",
              "      <th>0</th>\n",
              "      <td>student</td>\n",
              "      <td>single</td>\n",
              "      <td>university.degree</td>\n",
              "      <td>no</td>\n",
              "      <td>no</td>\n",
              "      <td>no</td>\n",
              "      <td>telephone</td>\n",
              "      <td>jun</td>\n",
              "      <td>mon</td>\n",
              "      <td>nonexistent</td>\n",
              "      <td>English</td>\n",
              "      <td>yes</td>\n",
              "    </tr>\n",
              "    <tr>\n",
              "      <th>1</th>\n",
              "      <td>admin.</td>\n",
              "      <td>married</td>\n",
              "      <td>high.school</td>\n",
              "      <td>no</td>\n",
              "      <td>yes</td>\n",
              "      <td>no</td>\n",
              "      <td>cellular</td>\n",
              "      <td>may</td>\n",
              "      <td>thu</td>\n",
              "      <td>nonexistent</td>\n",
              "      <td>English</td>\n",
              "      <td>yes</td>\n",
              "    </tr>\n",
              "    <tr>\n",
              "      <th>2</th>\n",
              "      <td>blue-collar</td>\n",
              "      <td>married</td>\n",
              "      <td>basic.9y</td>\n",
              "      <td>NaN</td>\n",
              "      <td>no</td>\n",
              "      <td>no</td>\n",
              "      <td>telephone</td>\n",
              "      <td>may</td>\n",
              "      <td>wed</td>\n",
              "      <td>nonexistent</td>\n",
              "      <td>Portuguese</td>\n",
              "      <td>yes</td>\n",
              "    </tr>\n",
              "    <tr>\n",
              "      <th>3</th>\n",
              "      <td>self-employed</td>\n",
              "      <td>married</td>\n",
              "      <td>basic.9y</td>\n",
              "      <td>unknown</td>\n",
              "      <td>yes</td>\n",
              "      <td>no</td>\n",
              "      <td>telephone</td>\n",
              "      <td>may</td>\n",
              "      <td>fri</td>\n",
              "      <td>nonexistent</td>\n",
              "      <td>Portuguese</td>\n",
              "      <td>yes</td>\n",
              "    </tr>\n",
              "    <tr>\n",
              "      <th>4</th>\n",
              "      <td>retired</td>\n",
              "      <td>divorced</td>\n",
              "      <td>basic.4y</td>\n",
              "      <td>no</td>\n",
              "      <td>no</td>\n",
              "      <td>no</td>\n",
              "      <td>cellular</td>\n",
              "      <td>sep</td>\n",
              "      <td>thu</td>\n",
              "      <td>success</td>\n",
              "      <td>NaN</td>\n",
              "      <td>no</td>\n",
              "    </tr>\n",
              "  </tbody>\n",
              "</table>\n",
              "</div>\n",
              "      <button class=\"colab-df-convert\" onclick=\"convertToInteractive('df-5b55a2cf-b67d-46e5-82f8-ef092d409067')\"\n",
              "              title=\"Convert this dataframe to an interactive table.\"\n",
              "              style=\"display:none;\">\n",
              "        \n",
              "  <svg xmlns=\"http://www.w3.org/2000/svg\" height=\"24px\"viewBox=\"0 0 24 24\"\n",
              "       width=\"24px\">\n",
              "    <path d=\"M0 0h24v24H0V0z\" fill=\"none\"/>\n",
              "    <path d=\"M18.56 5.44l.94 2.06.94-2.06 2.06-.94-2.06-.94-.94-2.06-.94 2.06-2.06.94zm-11 1L8.5 8.5l.94-2.06 2.06-.94-2.06-.94L8.5 2.5l-.94 2.06-2.06.94zm10 10l.94 2.06.94-2.06 2.06-.94-2.06-.94-.94-2.06-.94 2.06-2.06.94z\"/><path d=\"M17.41 7.96l-1.37-1.37c-.4-.4-.92-.59-1.43-.59-.52 0-1.04.2-1.43.59L10.3 9.45l-7.72 7.72c-.78.78-.78 2.05 0 2.83L4 21.41c.39.39.9.59 1.41.59.51 0 1.02-.2 1.41-.59l7.78-7.78 2.81-2.81c.8-.78.8-2.07 0-2.86zM5.41 20L4 18.59l7.72-7.72 1.47 1.35L5.41 20z\"/>\n",
              "  </svg>\n",
              "      </button>\n",
              "      \n",
              "  <style>\n",
              "    .colab-df-container {\n",
              "      display:flex;\n",
              "      flex-wrap:wrap;\n",
              "      gap: 12px;\n",
              "    }\n",
              "\n",
              "    .colab-df-convert {\n",
              "      background-color: #E8F0FE;\n",
              "      border: none;\n",
              "      border-radius: 50%;\n",
              "      cursor: pointer;\n",
              "      display: none;\n",
              "      fill: #1967D2;\n",
              "      height: 32px;\n",
              "      padding: 0 0 0 0;\n",
              "      width: 32px;\n",
              "    }\n",
              "\n",
              "    .colab-df-convert:hover {\n",
              "      background-color: #E2EBFA;\n",
              "      box-shadow: 0px 1px 2px rgba(60, 64, 67, 0.3), 0px 1px 3px 1px rgba(60, 64, 67, 0.15);\n",
              "      fill: #174EA6;\n",
              "    }\n",
              "\n",
              "    [theme=dark] .colab-df-convert {\n",
              "      background-color: #3B4455;\n",
              "      fill: #D2E3FC;\n",
              "    }\n",
              "\n",
              "    [theme=dark] .colab-df-convert:hover {\n",
              "      background-color: #434B5C;\n",
              "      box-shadow: 0px 1px 3px 1px rgba(0, 0, 0, 0.15);\n",
              "      filter: drop-shadow(0px 1px 2px rgba(0, 0, 0, 0.3));\n",
              "      fill: #FFFFFF;\n",
              "    }\n",
              "  </style>\n",
              "\n",
              "      <script>\n",
              "        const buttonEl =\n",
              "          document.querySelector('#df-5b55a2cf-b67d-46e5-82f8-ef092d409067 button.colab-df-convert');\n",
              "        buttonEl.style.display =\n",
              "          google.colab.kernel.accessAllowed ? 'block' : 'none';\n",
              "\n",
              "        async function convertToInteractive(key) {\n",
              "          const element = document.querySelector('#df-5b55a2cf-b67d-46e5-82f8-ef092d409067');\n",
              "          const dataTable =\n",
              "            await google.colab.kernel.invokeFunction('convertToInteractive',\n",
              "                                                     [key], {});\n",
              "          if (!dataTable) return;\n",
              "\n",
              "          const docLinkHtml = 'Like what you see? Visit the ' +\n",
              "            '<a target=\"_blank\" href=https://colab.research.google.com/notebooks/data_table.ipynb>data table notebook</a>'\n",
              "            + ' to learn more about interactive tables.';\n",
              "          element.innerHTML = '';\n",
              "          dataTable['output_type'] = 'display_data';\n",
              "          await google.colab.output.renderOutput(dataTable, element);\n",
              "          const docLink = document.createElement('div');\n",
              "          docLink.innerHTML = docLinkHtml;\n",
              "          element.appendChild(docLink);\n",
              "        }\n",
              "      </script>\n",
              "    </div>\n",
              "  </div>\n",
              "  "
            ]
          },
          "metadata": {},
          "execution_count": 45
        }
      ],
      "source": [
        "categorical_train = X_train[['job', 'marital', 'education', 'default',\n",
        "                        'housing', 'loan', 'contact', 'month', 'day_of_week', 'poutcome',\n",
        "                         'customer_language', 'other_banks']]\n",
        "categorical_train.head()"
      ]
    },
    {
      "cell_type": "code",
      "execution_count": null,
      "metadata": {
        "colab": {
          "base_uri": "https://localhost:8080/",
          "height": 268
        },
        "id": "64Jd0NH6aSnQ",
        "outputId": "7588c1a8-cf5d-460a-d478-159210c2abda"
      },
      "outputs": [
        {
          "output_type": "execute_result",
          "data": {
            "text/plain": [
              "             job   marital            education  default housing loan  \\\n",
              "0    blue-collar   married                  NaN       no      no   no   \n",
              "1       services  divorced          high.school       no      no   no   \n",
              "2    blue-collar   married             basic.9y  unknown      no   no   \n",
              "3        retired   married  professional.course       no     yes  yes   \n",
              "4  self-employed    single    university.degree       no     yes   no   \n",
              "\n",
              "     contact month day_of_week     poutcome customer_language other_banks  \n",
              "0  telephone   may         tue  nonexistent        Portuguese         yes  \n",
              "1   cellular   may         wed  nonexistent        Portuguese         yes  \n",
              "2  telephone   may         mon  nonexistent        Portuguese         yes  \n",
              "3  telephone   nov         tue  nonexistent        Portuguese         yes  \n",
              "4        NaN   aug         thu          NaN        Portuguese     unknown  "
            ],
            "text/html": [
              "\n",
              "  <div id=\"df-fdb0e120-9e81-40ff-8888-cd8277fe7ed7\">\n",
              "    <div class=\"colab-df-container\">\n",
              "      <div>\n",
              "<style scoped>\n",
              "    .dataframe tbody tr th:only-of-type {\n",
              "        vertical-align: middle;\n",
              "    }\n",
              "\n",
              "    .dataframe tbody tr th {\n",
              "        vertical-align: top;\n",
              "    }\n",
              "\n",
              "    .dataframe thead th {\n",
              "        text-align: right;\n",
              "    }\n",
              "</style>\n",
              "<table border=\"1\" class=\"dataframe\">\n",
              "  <thead>\n",
              "    <tr style=\"text-align: right;\">\n",
              "      <th></th>\n",
              "      <th>job</th>\n",
              "      <th>marital</th>\n",
              "      <th>education</th>\n",
              "      <th>default</th>\n",
              "      <th>housing</th>\n",
              "      <th>loan</th>\n",
              "      <th>contact</th>\n",
              "      <th>month</th>\n",
              "      <th>day_of_week</th>\n",
              "      <th>poutcome</th>\n",
              "      <th>customer_language</th>\n",
              "      <th>other_banks</th>\n",
              "    </tr>\n",
              "  </thead>\n",
              "  <tbody>\n",
              "    <tr>\n",
              "      <th>0</th>\n",
              "      <td>blue-collar</td>\n",
              "      <td>married</td>\n",
              "      <td>NaN</td>\n",
              "      <td>no</td>\n",
              "      <td>no</td>\n",
              "      <td>no</td>\n",
              "      <td>telephone</td>\n",
              "      <td>may</td>\n",
              "      <td>tue</td>\n",
              "      <td>nonexistent</td>\n",
              "      <td>Portuguese</td>\n",
              "      <td>yes</td>\n",
              "    </tr>\n",
              "    <tr>\n",
              "      <th>1</th>\n",
              "      <td>services</td>\n",
              "      <td>divorced</td>\n",
              "      <td>high.school</td>\n",
              "      <td>no</td>\n",
              "      <td>no</td>\n",
              "      <td>no</td>\n",
              "      <td>cellular</td>\n",
              "      <td>may</td>\n",
              "      <td>wed</td>\n",
              "      <td>nonexistent</td>\n",
              "      <td>Portuguese</td>\n",
              "      <td>yes</td>\n",
              "    </tr>\n",
              "    <tr>\n",
              "      <th>2</th>\n",
              "      <td>blue-collar</td>\n",
              "      <td>married</td>\n",
              "      <td>basic.9y</td>\n",
              "      <td>unknown</td>\n",
              "      <td>no</td>\n",
              "      <td>no</td>\n",
              "      <td>telephone</td>\n",
              "      <td>may</td>\n",
              "      <td>mon</td>\n",
              "      <td>nonexistent</td>\n",
              "      <td>Portuguese</td>\n",
              "      <td>yes</td>\n",
              "    </tr>\n",
              "    <tr>\n",
              "      <th>3</th>\n",
              "      <td>retired</td>\n",
              "      <td>married</td>\n",
              "      <td>professional.course</td>\n",
              "      <td>no</td>\n",
              "      <td>yes</td>\n",
              "      <td>yes</td>\n",
              "      <td>telephone</td>\n",
              "      <td>nov</td>\n",
              "      <td>tue</td>\n",
              "      <td>nonexistent</td>\n",
              "      <td>Portuguese</td>\n",
              "      <td>yes</td>\n",
              "    </tr>\n",
              "    <tr>\n",
              "      <th>4</th>\n",
              "      <td>self-employed</td>\n",
              "      <td>single</td>\n",
              "      <td>university.degree</td>\n",
              "      <td>no</td>\n",
              "      <td>yes</td>\n",
              "      <td>no</td>\n",
              "      <td>NaN</td>\n",
              "      <td>aug</td>\n",
              "      <td>thu</td>\n",
              "      <td>NaN</td>\n",
              "      <td>Portuguese</td>\n",
              "      <td>unknown</td>\n",
              "    </tr>\n",
              "  </tbody>\n",
              "</table>\n",
              "</div>\n",
              "      <button class=\"colab-df-convert\" onclick=\"convertToInteractive('df-fdb0e120-9e81-40ff-8888-cd8277fe7ed7')\"\n",
              "              title=\"Convert this dataframe to an interactive table.\"\n",
              "              style=\"display:none;\">\n",
              "        \n",
              "  <svg xmlns=\"http://www.w3.org/2000/svg\" height=\"24px\"viewBox=\"0 0 24 24\"\n",
              "       width=\"24px\">\n",
              "    <path d=\"M0 0h24v24H0V0z\" fill=\"none\"/>\n",
              "    <path d=\"M18.56 5.44l.94 2.06.94-2.06 2.06-.94-2.06-.94-.94-2.06-.94 2.06-2.06.94zm-11 1L8.5 8.5l.94-2.06 2.06-.94-2.06-.94L8.5 2.5l-.94 2.06-2.06.94zm10 10l.94 2.06.94-2.06 2.06-.94-2.06-.94-.94-2.06-.94 2.06-2.06.94z\"/><path d=\"M17.41 7.96l-1.37-1.37c-.4-.4-.92-.59-1.43-.59-.52 0-1.04.2-1.43.59L10.3 9.45l-7.72 7.72c-.78.78-.78 2.05 0 2.83L4 21.41c.39.39.9.59 1.41.59.51 0 1.02-.2 1.41-.59l7.78-7.78 2.81-2.81c.8-.78.8-2.07 0-2.86zM5.41 20L4 18.59l7.72-7.72 1.47 1.35L5.41 20z\"/>\n",
              "  </svg>\n",
              "      </button>\n",
              "      \n",
              "  <style>\n",
              "    .colab-df-container {\n",
              "      display:flex;\n",
              "      flex-wrap:wrap;\n",
              "      gap: 12px;\n",
              "    }\n",
              "\n",
              "    .colab-df-convert {\n",
              "      background-color: #E8F0FE;\n",
              "      border: none;\n",
              "      border-radius: 50%;\n",
              "      cursor: pointer;\n",
              "      display: none;\n",
              "      fill: #1967D2;\n",
              "      height: 32px;\n",
              "      padding: 0 0 0 0;\n",
              "      width: 32px;\n",
              "    }\n",
              "\n",
              "    .colab-df-convert:hover {\n",
              "      background-color: #E2EBFA;\n",
              "      box-shadow: 0px 1px 2px rgba(60, 64, 67, 0.3), 0px 1px 3px 1px rgba(60, 64, 67, 0.15);\n",
              "      fill: #174EA6;\n",
              "    }\n",
              "\n",
              "    [theme=dark] .colab-df-convert {\n",
              "      background-color: #3B4455;\n",
              "      fill: #D2E3FC;\n",
              "    }\n",
              "\n",
              "    [theme=dark] .colab-df-convert:hover {\n",
              "      background-color: #434B5C;\n",
              "      box-shadow: 0px 1px 3px 1px rgba(0, 0, 0, 0.15);\n",
              "      filter: drop-shadow(0px 1px 2px rgba(0, 0, 0, 0.3));\n",
              "      fill: #FFFFFF;\n",
              "    }\n",
              "  </style>\n",
              "\n",
              "      <script>\n",
              "        const buttonEl =\n",
              "          document.querySelector('#df-fdb0e120-9e81-40ff-8888-cd8277fe7ed7 button.colab-df-convert');\n",
              "        buttonEl.style.display =\n",
              "          google.colab.kernel.accessAllowed ? 'block' : 'none';\n",
              "\n",
              "        async function convertToInteractive(key) {\n",
              "          const element = document.querySelector('#df-fdb0e120-9e81-40ff-8888-cd8277fe7ed7');\n",
              "          const dataTable =\n",
              "            await google.colab.kernel.invokeFunction('convertToInteractive',\n",
              "                                                     [key], {});\n",
              "          if (!dataTable) return;\n",
              "\n",
              "          const docLinkHtml = 'Like what you see? Visit the ' +\n",
              "            '<a target=\"_blank\" href=https://colab.research.google.com/notebooks/data_table.ipynb>data table notebook</a>'\n",
              "            + ' to learn more about interactive tables.';\n",
              "          element.innerHTML = '';\n",
              "          dataTable['output_type'] = 'display_data';\n",
              "          await google.colab.output.renderOutput(dataTable, element);\n",
              "          const docLink = document.createElement('div');\n",
              "          docLink.innerHTML = docLinkHtml;\n",
              "          element.appendChild(docLink);\n",
              "        }\n",
              "      </script>\n",
              "    </div>\n",
              "  </div>\n",
              "  "
            ]
          },
          "metadata": {},
          "execution_count": 46
        }
      ],
      "source": [
        "categorical_test = X_test[['job', 'marital', 'education', 'default',\n",
        "                        'housing', 'loan', 'contact', 'month', 'day_of_week', 'poutcome',\n",
        "                        'customer_language', 'other_banks']]\n",
        "categorical_test.head()"
      ]
    },
    {
      "cell_type": "markdown",
      "metadata": {
        "id": "qVvrqRGlaWj0"
      },
      "source": [
        "# Check DataTypes"
      ]
    },
    {
      "cell_type": "code",
      "execution_count": null,
      "metadata": {
        "colab": {
          "base_uri": "https://localhost:8080/"
        },
        "id": "s_ZiZYd6afuk",
        "outputId": "b657e147-f351-4ab2-fccb-1f1b93f555cf"
      },
      "outputs": [
        {
          "output_type": "execute_result",
          "data": {
            "text/plain": [
              "age                 float64\n",
              "campaign            float64\n",
              "previous            float64\n",
              "pdays               float64\n",
              "customer_ratings    float64\n",
              "emp.var.rate        float64\n",
              "cons.price.idx      float64\n",
              "cons.conf.idx       float64\n",
              "euribor3m           float64\n",
              "nr.employed         float64\n",
              "total_assets        float64\n",
              "rep_avg_rating      float64\n",
              "customer_length     float64\n",
              "dtype: object"
            ]
          },
          "metadata": {},
          "execution_count": 47
        }
      ],
      "source": [
        "continuous_train.dtypes"
      ]
    },
    {
      "cell_type": "code",
      "execution_count": null,
      "metadata": {
        "colab": {
          "base_uri": "https://localhost:8080/"
        },
        "id": "A3vQeX6vacww",
        "outputId": "46687eae-c32e-4a42-988e-05eacfdf4130"
      },
      "outputs": [
        {
          "output_type": "execute_result",
          "data": {
            "text/plain": [
              "job                  object\n",
              "marital              object\n",
              "education            object\n",
              "default              object\n",
              "housing              object\n",
              "loan                 object\n",
              "contact              object\n",
              "month                object\n",
              "day_of_week          object\n",
              "poutcome             object\n",
              "customer_language    object\n",
              "other_banks          object\n",
              "dtype: object"
            ]
          },
          "metadata": {},
          "execution_count": 48
        }
      ],
      "source": [
        "categorical_train.dtypes"
      ]
    },
    {
      "cell_type": "code",
      "execution_count": null,
      "metadata": {
        "id": "fzPmC0Graxgd"
      },
      "outputs": [],
      "source": [
        "# make copies of all the dataframes\n",
        "continuous_train_1 = continuous_train.copy()\n",
        "continuous_test_1 = continuous_test.copy()\n",
        "categorical_train_1 = categorical_train.copy()\n",
        "categorical_test_1 = categorical_test.copy()"
      ]
    },
    {
      "cell_type": "code",
      "source": [
        "assert continuous_train_1.shape == continuous_train.shape\n",
        "assert continuous_test_1.shape == continuous_test.shape\n",
        "assert categorical_train_1.shape == categorical_train.shape\n",
        "assert categorical_test_1.shape == categorical_test.shape"
      ],
      "metadata": {
        "id": "qXby0WqFobYi"
      },
      "execution_count": null,
      "outputs": []
    },
    {
      "cell_type": "markdown",
      "metadata": {
        "id": "v7zwCVjya-kA"
      },
      "source": [
        "# Check for Missing Data in the Continuous Dataframe"
      ]
    },
    {
      "cell_type": "code",
      "execution_count": null,
      "metadata": {
        "colab": {
          "base_uri": "https://localhost:8080/"
        },
        "id": "arNttftGbCUs",
        "outputId": "88d66e65-e86a-4048-dd4e-f8047883d677"
      },
      "outputs": [
        {
          "output_type": "execute_result",
          "data": {
            "text/plain": [
              "age                 0.000383\n",
              "campaign            0.044526\n",
              "previous            0.000088\n",
              "pdays               0.012772\n",
              "customer_ratings    0.038434\n",
              "emp.var.rate        0.018776\n",
              "cons.price.idx      0.022925\n",
              "cons.conf.idx       0.044556\n",
              "euribor3m           0.033873\n",
              "nr.employed         0.028840\n",
              "total_assets        0.021218\n",
              "rep_avg_rating      0.047881\n",
              "customer_length     0.015421\n",
              "dtype: float64"
            ]
          },
          "metadata": {},
          "execution_count": 51
        }
      ],
      "source": [
        "continuous_train.isna().sum()/continuous_train.shape[0]"
      ]
    },
    {
      "cell_type": "code",
      "execution_count": null,
      "metadata": {
        "colab": {
          "base_uri": "https://localhost:8080/"
        },
        "id": "mTy2i-yubFjw",
        "outputId": "a3cdbe4e-dd29-4a28-d8ce-1b53342c2d29"
      },
      "outputs": [
        {
          "output_type": "execute_result",
          "data": {
            "text/plain": [
              "age                 0.000795\n",
              "campaign            0.046085\n",
              "previous            0.000088\n",
              "pdays               0.014390\n",
              "customer_ratings    0.041405\n",
              "emp.var.rate        0.019334\n",
              "cons.price.idx      0.024013\n",
              "cons.conf.idx       0.046967\n",
              "euribor3m           0.035314\n",
              "nr.employed         0.030546\n",
              "total_assets        0.019069\n",
              "rep_avg_rating      0.049351\n",
              "customer_length     0.015008\n",
              "dtype: float64"
            ]
          },
          "metadata": {},
          "execution_count": 52
        }
      ],
      "source": [
        "continuous_test.isna().sum()/continuous_test.shape[0]"
      ]
    },
    {
      "cell_type": "markdown",
      "metadata": {
        "id": "MAFZyTTpbKDa"
      },
      "source": [
        "# Continuous Dataframe Assumptions"
      ]
    },
    {
      "cell_type": "code",
      "execution_count": null,
      "metadata": {
        "id": "OZZ4JfTTbJG-"
      },
      "outputs": [],
      "source": [
        "#### assumptions\n",
        "# age should be greater than 0\n",
        "# campaign has to be greater than 0 (can it be 0?)\n",
        "# pdays has to be between 0 and 999\n",
        "# previous cannot be negative\n",
        "    # previous is a continuous variable and \"999\" is no previous contact -\n",
        "    # should turn to binary"
      ]
    },
    {
      "cell_type": "code",
      "execution_count": null,
      "metadata": {
        "id": "CN_jzrDEbTWt"
      },
      "outputs": [],
      "source": [
        "assert continuous_train['age'].any() > 0\n",
        "assert continuous_train['campaign'].any() >= 0\n",
        "assert continuous_train['pdays'].any() >= 0\n",
        "assert continuous_train['pdays'].any() <= 999\n",
        "assert continuous_train['previous'].any() > 0"
      ]
    },
    {
      "cell_type": "code",
      "execution_count": null,
      "metadata": {
        "id": "sKzDBUunbjj3"
      },
      "outputs": [],
      "source": [
        "assert continuous_test['age'].any() > 0\n",
        "assert continuous_test['campaign'].any() >= 0\n",
        "assert continuous_test['pdays'].any() >= 0\n",
        "assert continuous_test['pdays'].any() <= 999\n",
        "assert continuous_test['previous'].any() > 0"
      ]
    },
    {
      "cell_type": "code",
      "execution_count": null,
      "metadata": {
        "colab": {
          "base_uri": "https://localhost:8080/"
        },
        "id": "-Zfbow0ZbmaO",
        "outputId": "5121267a-7d08-457d-926d-0b52ca4f8483"
      },
      "outputs": [
        {
          "output_type": "execute_result",
          "data": {
            "text/plain": [
              "age                   17.000\n",
              "campaign               1.000\n",
              "previous               0.000\n",
              "pdays                  0.000\n",
              "customer_ratings       1.000\n",
              "emp.var.rate          -3.400\n",
              "cons.price.idx        92.201\n",
              "cons.conf.idx        -50.800\n",
              "euribor3m              0.634\n",
              "nr.employed         4963.600\n",
              "total_assets          10.980\n",
              "rep_avg_rating         2.000\n",
              "customer_length        0.000\n",
              "dtype: float64"
            ]
          },
          "metadata": {},
          "execution_count": 56
        }
      ],
      "source": [
        "continuous_train.min()"
      ]
    },
    {
      "cell_type": "code",
      "execution_count": null,
      "metadata": {
        "colab": {
          "base_uri": "https://localhost:8080/"
        },
        "id": "6qm9xXzDbpOl",
        "outputId": "ba0b7959-8b86-433e-a221-f6254678d49f"
      },
      "outputs": [
        {
          "output_type": "execute_result",
          "data": {
            "text/plain": [
              "age                   98.000\n",
              "campaign              43.000\n",
              "previous               7.000\n",
              "pdays                999.000\n",
              "customer_ratings       5.000\n",
              "emp.var.rate           1.400\n",
              "cons.price.idx        94.767\n",
              "cons.conf.idx        -26.900\n",
              "euribor3m              5.045\n",
              "nr.employed         5228.100\n",
              "total_assets         360.400\n",
              "rep_avg_rating         5.000\n",
              "customer_length       72.000\n",
              "dtype: float64"
            ]
          },
          "metadata": {},
          "execution_count": 57
        }
      ],
      "source": [
        "continuous_train.max()"
      ]
    },
    {
      "cell_type": "markdown",
      "source": [
        "# Make `pdays` binary and move to Categorical Dataframe"
      ],
      "metadata": {
        "id": "zvHmaPkPGXCV"
      }
    },
    {
      "cell_type": "code",
      "execution_count": null,
      "metadata": {
        "colab": {
          "base_uri": "https://localhost:8080/"
        },
        "id": "dmug1ZJibaCQ",
        "outputId": "70275b64-2000-4cf4-db25-3cb9d6482c00"
      },
      "outputs": [
        {
          "output_type": "execute_result",
          "data": {
            "text/plain": [
              "999.0    32330\n",
              "3.0        358\n",
              "6.0        346\n",
              "4.0         91\n",
              "7.0         55\n",
              "9.0         47\n",
              "12.0        45\n",
              "2.0         42\n",
              "10.0        39\n",
              "5.0         33\n",
              "13.0        27\n",
              "1.0         23\n",
              "11.0        23\n",
              "15.0        17\n",
              "14.0        14\n",
              "8.0         13\n",
              "0.0         11\n",
              "16.0         9\n",
              "18.0         7\n",
              "17.0         6\n",
              "19.0         4\n",
              "21.0         2\n",
              "22.0         2\n",
              "26.0         1\n",
              "25.0         1\n",
              "Name: pdays, dtype: int64"
            ]
          },
          "metadata": {},
          "execution_count": 58
        }
      ],
      "source": [
        "continuous_train['pdays'].value_counts()"
      ]
    },
    {
      "cell_type": "code",
      "execution_count": null,
      "metadata": {
        "colab": {
          "base_uri": "https://localhost:8080/"
        },
        "id": "CO6E142pbeMn",
        "outputId": "97b1247d-7956-4076-e861-124d714f4158"
      },
      "outputs": [
        {
          "output_type": "stream",
          "name": "stderr",
          "text": [
            "/usr/local/lib/python3.7/dist-packages/ipykernel_launcher.py:2: SettingWithCopyWarning: \n",
            "A value is trying to be set on a copy of a slice from a DataFrame.\n",
            "Try using .loc[row_indexer,col_indexer] = value instead\n",
            "\n",
            "See the caveats in the documentation: https://pandas.pydata.org/pandas-docs/stable/user_guide/indexing.html#returning-a-view-versus-a-copy\n",
            "  \n"
          ]
        }
      ],
      "source": [
        "# make binary: 0 (999 - never a contact), 1 is everything else\n",
        "continuous_train['pdays'] = continuous_train['pdays'].fillna(999.0)"
      ]
    },
    {
      "cell_type": "code",
      "execution_count": null,
      "metadata": {
        "colab": {
          "base_uri": "https://localhost:8080/"
        },
        "id": "ILaEqcvybsmQ",
        "outputId": "f822f130-11f4-4df9-f797-357d52fe7821"
      },
      "outputs": [
        {
          "output_type": "stream",
          "name": "stderr",
          "text": [
            "/usr/local/lib/python3.7/dist-packages/ipykernel_launcher.py:2: SettingWithCopyWarning: \n",
            "A value is trying to be set on a copy of a slice from a DataFrame.\n",
            "Try using .loc[row_indexer,col_indexer] = value instead\n",
            "\n",
            "See the caveats in the documentation: https://pandas.pydata.org/pandas-docs/stable/user_guide/indexing.html#returning-a-view-versus-a-copy\n",
            "  \n"
          ]
        }
      ],
      "source": [
        "# make binary: 0 (999 - never a contact), 1 is everything else\n",
        "continuous_test['pdays'] = continuous_test['pdays'].fillna(999.0)"
      ]
    },
    {
      "cell_type": "code",
      "source": [
        "continuous_train['pdays'].isna().sum()"
      ],
      "metadata": {
        "colab": {
          "base_uri": "https://localhost:8080/"
        },
        "id": "I2qp7q92G-mU",
        "outputId": "5066b875-ed42-489a-92af-cd17a60fac5e"
      },
      "execution_count": null,
      "outputs": [
        {
          "output_type": "execute_result",
          "data": {
            "text/plain": [
              "0"
            ]
          },
          "metadata": {},
          "execution_count": 61
        }
      ]
    },
    {
      "cell_type": "code",
      "source": [
        "continuous_test['pdays'].isna().sum()"
      ],
      "metadata": {
        "colab": {
          "base_uri": "https://localhost:8080/"
        },
        "id": "i_WvuRpOHdFR",
        "outputId": "96821fc4-75bf-4514-d7e6-6be27d022330"
      },
      "execution_count": null,
      "outputs": [
        {
          "output_type": "execute_result",
          "data": {
            "text/plain": [
              "0"
            ]
          },
          "metadata": {},
          "execution_count": 62
        }
      ]
    },
    {
      "cell_type": "code",
      "execution_count": null,
      "metadata": {
        "id": "bdOFylg2byCP"
      },
      "outputs": [],
      "source": [
        "### making pdays binary with a dictionary\n",
        "pdays_map = {999: 0}\n",
        "\n",
        "# making a copy of `pdays` column\n",
        "pdays_train = continuous_train['pdays']\n",
        "pdays_test = continuous_test['pdays']\n",
        "\n",
        "# list for binary columns\n",
        "result_pdays_train = []\n",
        "result_pdays_test = []"
      ]
    },
    {
      "cell_type": "code",
      "execution_count": null,
      "metadata": {
        "id": "-d28nwqiHVFz"
      },
      "outputs": [],
      "source": [
        "## append 0 for value 999 and 1 for everything else\n",
        "for i in pdays_train:\n",
        "  if i in pdays_map.keys():\n",
        "    result_pdays_train.append(pdays_map[i])\n",
        "  else:\n",
        "    result_pdays_train.append(1)\n",
        "\n",
        "## append 0 for value 999 and 1 for everything else\n",
        "for i in pdays_test:\n",
        "  if i in pdays_map.keys():\n",
        "    result_pdays_test.append(pdays_map[i])\n",
        "  else:\n",
        "    result_pdays_test.append(1)"
      ]
    },
    {
      "cell_type": "code",
      "execution_count": null,
      "metadata": {
        "id": "XE7G0-pxIy6c"
      },
      "outputs": [],
      "source": [
        "continuous_train_2 = continuous_train.copy()\n",
        "continuous_test_2 = continuous_test.copy()\n",
        "categorical_train_2 = categorical_train.copy()\n",
        "categorical_test_2 = categorical_test.copy()"
      ]
    },
    {
      "cell_type": "code",
      "source": [
        "assert continuous_train_2.shape == continuous_train.shape\n",
        "assert continuous_test_2.shape == continuous_test.shape\n",
        "assert categorical_train_2.shape == categorical_train.shape\n",
        "assert categorical_test_2.shape == categorical_test.shape"
      ],
      "metadata": {
        "id": "Fky-95TMo_UE"
      },
      "execution_count": null,
      "outputs": []
    },
    {
      "cell_type": "code",
      "execution_count": null,
      "metadata": {
        "colab": {
          "base_uri": "https://localhost:8080/"
        },
        "id": "bYj-USE0H6r3",
        "outputId": "1705d866-aa4d-4598-8113-db297a9e3c1e"
      },
      "outputs": [
        {
          "output_type": "stream",
          "name": "stderr",
          "text": [
            "/usr/local/lib/python3.7/dist-packages/ipykernel_launcher.py:2: SettingWithCopyWarning: \n",
            "A value is trying to be set on a copy of a slice from a DataFrame.\n",
            "Try using .loc[row_indexer,col_indexer] = value instead\n",
            "\n",
            "See the caveats in the documentation: https://pandas.pydata.org/pandas-docs/stable/user_guide/indexing.html#returning-a-view-versus-a-copy\n",
            "  \n",
            "/usr/local/lib/python3.7/dist-packages/ipykernel_launcher.py:3: SettingWithCopyWarning: \n",
            "A value is trying to be set on a copy of a slice from a DataFrame.\n",
            "Try using .loc[row_indexer,col_indexer] = value instead\n",
            "\n",
            "See the caveats in the documentation: https://pandas.pydata.org/pandas-docs/stable/user_guide/indexing.html#returning-a-view-versus-a-copy\n",
            "  This is separate from the ipykernel package so we can avoid doing imports until\n"
          ]
        }
      ],
      "source": [
        "# add binary pdays column to the categorical dataframes\n",
        "categorical_train['pdays'] = result_pdays_train\n",
        "categorical_test['pdays'] = result_pdays_test"
      ]
    },
    {
      "cell_type": "code",
      "execution_count": null,
      "metadata": {
        "colab": {
          "base_uri": "https://localhost:8080/"
        },
        "id": "1jJUTj_rIK3s",
        "outputId": "6cc1255a-8894-4926-afa9-2f4b28829e62"
      },
      "outputs": [
        {
          "output_type": "execute_result",
          "data": {
            "text/plain": [
              "0    32764\n",
              "1     1216\n",
              "Name: pdays, dtype: int64"
            ]
          },
          "metadata": {},
          "execution_count": 68
        }
      ],
      "source": [
        "# check to make sure pdays is binary\n",
        "categorical_train['pdays'].value_counts()"
      ]
    },
    {
      "cell_type": "code",
      "execution_count": null,
      "metadata": {
        "colab": {
          "base_uri": "https://localhost:8080/"
        },
        "id": "-Cm_efzUIRKX",
        "outputId": "8961dd18-f76a-4e99-914b-76c82432762c"
      },
      "outputs": [
        {
          "output_type": "execute_result",
          "data": {
            "text/plain": [
              "0    10899\n",
              "1      428\n",
              "Name: pdays, dtype: int64"
            ]
          },
          "metadata": {},
          "execution_count": 69
        }
      ],
      "source": [
        "# check to make sure pdays is binary\n",
        "categorical_test['pdays'].value_counts()"
      ]
    },
    {
      "cell_type": "code",
      "execution_count": null,
      "metadata": {
        "id": "j41objTPIkIP"
      },
      "outputs": [],
      "source": [
        "# remove pdays from `continuous_train` dataframe\n",
        "continuous_train = continuous_train[['age', 'campaign', 'previous', 'customer_ratings',\n",
        "                         'emp.var.rate', 'cons.price.idx', 'cons.conf.idx', 'euribor3m',\n",
        "                         'nr.employed', 'total_assets', 'rep_avg_rating', 'customer_length']]"
      ]
    },
    {
      "cell_type": "code",
      "execution_count": null,
      "metadata": {
        "id": "fQvhBgj8IrTV"
      },
      "outputs": [],
      "source": [
        "# remove pdays from `continuous_test` dataframe\n",
        "continuous_test = continuous_test[['age', 'campaign', 'previous', 'customer_ratings',\n",
        "                         'emp.var.rate', 'cons.price.idx', 'cons.conf.idx', 'euribor3m',\n",
        "                         'nr.employed', 'total_assets', 'rep_avg_rating', 'customer_length']]"
      ]
    },
    {
      "cell_type": "code",
      "execution_count": null,
      "metadata": {
        "colab": {
          "base_uri": "https://localhost:8080/"
        },
        "id": "Ghemd4dMKtEH",
        "outputId": "75592800-76bd-4c57-e498-005c572ec8b9"
      },
      "outputs": [
        {
          "output_type": "execute_result",
          "data": {
            "text/plain": [
              "Index(['age', 'campaign', 'previous', 'customer_ratings', 'emp.var.rate',\n",
              "       'cons.price.idx', 'cons.conf.idx', 'euribor3m', 'nr.employed',\n",
              "       'total_assets', 'rep_avg_rating', 'customer_length'],\n",
              "      dtype='object')"
            ]
          },
          "metadata": {},
          "execution_count": 72
        }
      ],
      "source": [
        "# make sure pdays in not in continuous dataframe\n",
        "continuous_train.columns"
      ]
    },
    {
      "cell_type": "code",
      "execution_count": null,
      "metadata": {
        "colab": {
          "base_uri": "https://localhost:8080/"
        },
        "id": "rAamVabaKvZX",
        "outputId": "121327bd-848f-4e84-e0d6-f4183dc0b64f"
      },
      "outputs": [
        {
          "output_type": "execute_result",
          "data": {
            "text/plain": [
              "Index(['job', 'marital', 'education', 'default', 'housing', 'loan', 'contact',\n",
              "       'month', 'day_of_week', 'poutcome', 'customer_language', 'other_banks',\n",
              "       'pdays'],\n",
              "      dtype='object')"
            ]
          },
          "metadata": {},
          "execution_count": 73
        }
      ],
      "source": [
        "# make sure pdays was added to categorical dataframe\n",
        "categorical_train.columns"
      ]
    },
    {
      "cell_type": "markdown",
      "source": [
        "# Make `previous` binary and move to Categorical Dataframe"
      ],
      "metadata": {
        "id": "qpjl-ZumGf3a"
      }
    },
    {
      "cell_type": "code",
      "source": [
        "continuous_train['previous'].value_counts()"
      ],
      "metadata": {
        "colab": {
          "base_uri": "https://localhost:8080/"
        },
        "id": "db9ZHMBSGOkA",
        "outputId": "26d417d0-2477-4d06-d74b-65cffc97386e"
      },
      "execution_count": null,
      "outputs": [
        {
          "output_type": "execute_result",
          "data": {
            "text/plain": [
              "0.0    29335\n",
              "1.0     3774\n",
              "2.0      612\n",
              "3.0      176\n",
              "4.0       59\n",
              "5.0       15\n",
              "6.0        5\n",
              "7.0        1\n",
              "Name: previous, dtype: int64"
            ]
          },
          "metadata": {},
          "execution_count": 74
        }
      ]
    },
    {
      "cell_type": "code",
      "source": [
        "# make binary: 0 is 0, 1 is everything else\n",
        "continuous_train['previous'] = continuous_train['previous'].fillna(0)"
      ],
      "metadata": {
        "id": "j463hYl8GGVl",
        "colab": {
          "base_uri": "https://localhost:8080/"
        },
        "outputId": "94fad406-39dd-4c6a-8217-c5b989d2ad39"
      },
      "execution_count": null,
      "outputs": [
        {
          "output_type": "stream",
          "name": "stderr",
          "text": [
            "/usr/local/lib/python3.7/dist-packages/ipykernel_launcher.py:2: SettingWithCopyWarning: \n",
            "A value is trying to be set on a copy of a slice from a DataFrame.\n",
            "Try using .loc[row_indexer,col_indexer] = value instead\n",
            "\n",
            "See the caveats in the documentation: https://pandas.pydata.org/pandas-docs/stable/user_guide/indexing.html#returning-a-view-versus-a-copy\n",
            "  \n"
          ]
        }
      ]
    },
    {
      "cell_type": "code",
      "source": [
        "continuous_test['previous'] = continuous_test['previous'].fillna(0)"
      ],
      "metadata": {
        "id": "owYN1DdKGpJh",
        "colab": {
          "base_uri": "https://localhost:8080/"
        },
        "outputId": "1dd0fb39-8b13-4e8f-da8b-9e000cbcbf9e"
      },
      "execution_count": null,
      "outputs": [
        {
          "output_type": "stream",
          "name": "stderr",
          "text": [
            "/usr/local/lib/python3.7/dist-packages/ipykernel_launcher.py:1: SettingWithCopyWarning: \n",
            "A value is trying to be set on a copy of a slice from a DataFrame.\n",
            "Try using .loc[row_indexer,col_indexer] = value instead\n",
            "\n",
            "See the caveats in the documentation: https://pandas.pydata.org/pandas-docs/stable/user_guide/indexing.html#returning-a-view-versus-a-copy\n",
            "  \"\"\"Entry point for launching an IPython kernel.\n"
          ]
        }
      ]
    },
    {
      "cell_type": "code",
      "source": [
        "continuous_train['previous'].isna().sum()"
      ],
      "metadata": {
        "colab": {
          "base_uri": "https://localhost:8080/"
        },
        "id": "HY5_v1BWHVsv",
        "outputId": "3b989db0-16a2-476c-ea05-6b86b9227329"
      },
      "execution_count": null,
      "outputs": [
        {
          "output_type": "execute_result",
          "data": {
            "text/plain": [
              "0"
            ]
          },
          "metadata": {},
          "execution_count": 77
        }
      ]
    },
    {
      "cell_type": "code",
      "source": [
        "continuous_test['previous'].isna().sum()"
      ],
      "metadata": {
        "colab": {
          "base_uri": "https://localhost:8080/"
        },
        "id": "zBfy5fsvHjB8",
        "outputId": "431b2eab-040a-4c58-b7e0-12ac2360d698"
      },
      "execution_count": null,
      "outputs": [
        {
          "output_type": "execute_result",
          "data": {
            "text/plain": [
              "0"
            ]
          },
          "metadata": {},
          "execution_count": 78
        }
      ]
    },
    {
      "cell_type": "code",
      "source": [
        "### making previous binary with a dictionary\n",
        "previous_map = {0: 0}\n",
        "\n",
        "# making a copy of `previous` column\n",
        "previous_train = continuous_train['previous']\n",
        "previous_test = continuous_test['previous']\n",
        "\n",
        "# list for binary columns\n",
        "result_previous_train = []\n",
        "result_previous_test = []"
      ],
      "metadata": {
        "id": "b82OVspEGoaF"
      },
      "execution_count": null,
      "outputs": []
    },
    {
      "cell_type": "code",
      "source": [
        "## append 0 for value 0 and 1 for everything else\n",
        "for i in previous_train:\n",
        "  if i in previous_map.keys():\n",
        "    result_previous_train.append(previous_map[i])\n",
        "  else:\n",
        "    result_previous_train.append(1)\n",
        "\n",
        "## append 0 for value 0 and 1 for everything else\n",
        "for i in previous_test:\n",
        "  if i in previous_map.keys():\n",
        "    result_previous_test.append(previous_map[i])\n",
        "  else:\n",
        "    result_previous_test.append(1)"
      ],
      "metadata": {
        "id": "wel-SGGhHIGM"
      },
      "execution_count": null,
      "outputs": []
    },
    {
      "cell_type": "code",
      "source": [
        "continuous_train_3 = continuous_train.copy()\n",
        "continuous_test_3 = continuous_test.copy()\n",
        "categorical_train_3 = categorical_train.copy()\n",
        "categorical_test_3 = categorical_test.copy()"
      ],
      "metadata": {
        "id": "ELEtZ8esHvav"
      },
      "execution_count": null,
      "outputs": []
    },
    {
      "cell_type": "code",
      "source": [
        "assert continuous_train_3.shape == continuous_train.shape\n",
        "assert continuous_test_3.shape == continuous_test.shape\n",
        "assert categorical_train_3.shape == categorical_train.shape\n",
        "assert categorical_test_3.shape == categorical_test.shape"
      ],
      "metadata": {
        "id": "tvaDG_c5H2L_"
      },
      "execution_count": null,
      "outputs": []
    },
    {
      "cell_type": "code",
      "source": [
        "# add binary previous column to the categorical dataframes\n",
        "categorical_train['previous'] = result_previous_train\n",
        "categorical_test['previous'] = result_previous_test"
      ],
      "metadata": {
        "colab": {
          "base_uri": "https://localhost:8080/"
        },
        "id": "eL8q63nZH98M",
        "outputId": "5a062342-2778-4232-99da-e2c1a0aba199"
      },
      "execution_count": null,
      "outputs": [
        {
          "output_type": "stream",
          "name": "stderr",
          "text": [
            "/usr/local/lib/python3.7/dist-packages/ipykernel_launcher.py:2: SettingWithCopyWarning: \n",
            "A value is trying to be set on a copy of a slice from a DataFrame.\n",
            "Try using .loc[row_indexer,col_indexer] = value instead\n",
            "\n",
            "See the caveats in the documentation: https://pandas.pydata.org/pandas-docs/stable/user_guide/indexing.html#returning-a-view-versus-a-copy\n",
            "  \n",
            "/usr/local/lib/python3.7/dist-packages/ipykernel_launcher.py:3: SettingWithCopyWarning: \n",
            "A value is trying to be set on a copy of a slice from a DataFrame.\n",
            "Try using .loc[row_indexer,col_indexer] = value instead\n",
            "\n",
            "See the caveats in the documentation: https://pandas.pydata.org/pandas-docs/stable/user_guide/indexing.html#returning-a-view-versus-a-copy\n",
            "  This is separate from the ipykernel package so we can avoid doing imports until\n"
          ]
        }
      ]
    },
    {
      "cell_type": "code",
      "source": [
        "# check to make sure previous is binary\n",
        "categorical_train['previous'].value_counts()"
      ],
      "metadata": {
        "colab": {
          "base_uri": "https://localhost:8080/"
        },
        "id": "p_FmzPDvIHY1",
        "outputId": "558182f1-c97c-4151-abba-ae19b20f5b38"
      },
      "execution_count": null,
      "outputs": [
        {
          "output_type": "execute_result",
          "data": {
            "text/plain": [
              "0    29338\n",
              "1     4642\n",
              "Name: previous, dtype: int64"
            ]
          },
          "metadata": {},
          "execution_count": 84
        }
      ]
    },
    {
      "cell_type": "code",
      "source": [
        "# check to make sure previous is binary\n",
        "categorical_test['previous'].value_counts()"
      ],
      "metadata": {
        "colab": {
          "base_uri": "https://localhost:8080/"
        },
        "id": "UWl9DfnNIMzo",
        "outputId": "070eb190-28e9-4f2c-d360-2997df0d07c7"
      },
      "execution_count": null,
      "outputs": [
        {
          "output_type": "execute_result",
          "data": {
            "text/plain": [
              "0    9749\n",
              "1    1578\n",
              "Name: previous, dtype: int64"
            ]
          },
          "metadata": {},
          "execution_count": 85
        }
      ]
    },
    {
      "cell_type": "code",
      "source": [
        "# remove previous from `continuous_train` dataframe\n",
        "continuous_train = continuous_train[['age', 'campaign', 'customer_ratings',\n",
        "                         'emp.var.rate', 'cons.price.idx', 'cons.conf.idx', 'euribor3m',\n",
        "                         'nr.employed', 'total_assets', 'rep_avg_rating', 'customer_length']]"
      ],
      "metadata": {
        "id": "0m5W3CiFIWdq"
      },
      "execution_count": null,
      "outputs": []
    },
    {
      "cell_type": "code",
      "source": [
        "# remove previous from `continuous_test` dataframe\n",
        "continuous_test = continuous_test[['age', 'campaign', 'customer_ratings',\n",
        "                         'emp.var.rate', 'cons.price.idx', 'cons.conf.idx', 'euribor3m',\n",
        "                         'nr.employed', 'total_assets', 'rep_avg_rating', 'customer_length']]"
      ],
      "metadata": {
        "id": "tMUxtAMKIlnC"
      },
      "execution_count": null,
      "outputs": []
    },
    {
      "cell_type": "code",
      "source": [
        "# make sure previous in not in continuous dataframe\n",
        "continuous_train.columns"
      ],
      "metadata": {
        "colab": {
          "base_uri": "https://localhost:8080/"
        },
        "id": "2oYe95VlIppT",
        "outputId": "1067b039-da32-4db7-bc17-a7a1bad6ae6d"
      },
      "execution_count": null,
      "outputs": [
        {
          "output_type": "execute_result",
          "data": {
            "text/plain": [
              "Index(['age', 'campaign', 'customer_ratings', 'emp.var.rate', 'cons.price.idx',\n",
              "       'cons.conf.idx', 'euribor3m', 'nr.employed', 'total_assets',\n",
              "       'rep_avg_rating', 'customer_length'],\n",
              "      dtype='object')"
            ]
          },
          "metadata": {},
          "execution_count": 88
        }
      ]
    },
    {
      "cell_type": "code",
      "source": [
        "# make sure previous is in categorical dataframe\n",
        "categorical_train.columns"
      ],
      "metadata": {
        "colab": {
          "base_uri": "https://localhost:8080/"
        },
        "id": "bioj0amyJZAw",
        "outputId": "fe65bb70-5782-4b8d-d46f-98a161dbbf61"
      },
      "execution_count": null,
      "outputs": [
        {
          "output_type": "execute_result",
          "data": {
            "text/plain": [
              "Index(['job', 'marital', 'education', 'default', 'housing', 'loan', 'contact',\n",
              "       'month', 'day_of_week', 'poutcome', 'customer_language', 'other_banks',\n",
              "       'pdays', 'previous'],\n",
              "      dtype='object')"
            ]
          },
          "metadata": {},
          "execution_count": 89
        }
      ]
    },
    {
      "cell_type": "markdown",
      "metadata": {
        "id": "eMDSVAu_DA7c"
      },
      "source": [
        "# Impute Remaining Continuous Missing Data"
      ]
    },
    {
      "cell_type": "code",
      "execution_count": null,
      "metadata": {
        "id": "o3oCUu_JDRcd"
      },
      "outputs": [],
      "source": [
        "continuous_train['age'] = continuous_train['age'].fillna(continuous_train['age'].median())\n",
        "continuous_train['campaign'] = continuous_train['campaign'].fillna(continuous_train['campaign'].median())\n",
        "continuous_train['emp.var.rate'] = continuous_train['emp.var.rate'].fillna(continuous_train['emp.var.rate'].median())\n",
        "continuous_train['cons.price.idx'] = continuous_train['cons.price.idx'].fillna(continuous_train['cons.price.idx'].median())\n",
        "continuous_train['cons.conf.idx'] = continuous_train['cons.conf.idx'].fillna(continuous_train['cons.conf.idx'].median())\n",
        "continuous_train['euribor3m'] = continuous_train['euribor3m'].fillna(continuous_train['euribor3m'].median())\n",
        "continuous_train['nr.employed'] = continuous_train['nr.employed'].fillna(continuous_train['nr.employed'].median())\n",
        "continuous_train['total_assets'] = continuous_train['total_assets'].fillna(continuous_train['total_assets'].median())\n",
        "continuous_train['rep_avg_rating'] = continuous_train['rep_avg_rating'].fillna(continuous_train['rep_avg_rating'].median())\n",
        "continuous_train['customer_length'] = continuous_train['customer_length'].fillna(continuous_train['customer_length'].median())\n",
        "continuous_train['customer_ratings'] = continuous_train['customer_ratings'].fillna(continuous_train['customer_ratings'].mode()[0])"
      ]
    },
    {
      "cell_type": "code",
      "execution_count": null,
      "metadata": {
        "id": "Y-xvD1lqDTCq"
      },
      "outputs": [],
      "source": [
        "continuous_test['age'] = continuous_test['age'].fillna(continuous_test['age'].median())\n",
        "continuous_test['campaign'] = continuous_test['campaign'].fillna(continuous_test['campaign'].median())\n",
        "continuous_test['emp.var.rate'] = continuous_test['emp.var.rate'].fillna(continuous_test['emp.var.rate'].median())\n",
        "continuous_test['cons.price.idx'] = continuous_test['cons.price.idx'].fillna(continuous_test['cons.price.idx'].median())\n",
        "continuous_test['cons.conf.idx'] = continuous_test['cons.conf.idx'].fillna(continuous_test['cons.conf.idx'].median())\n",
        "continuous_test['euribor3m'] = continuous_test['euribor3m'].fillna(continuous_test['euribor3m'].median())\n",
        "continuous_test['nr.employed'] = continuous_test['nr.employed'].fillna(continuous_test['nr.employed'].median())\n",
        "continuous_test['total_assets'] = continuous_test['total_assets'].fillna(continuous_test['total_assets'].median())\n",
        "continuous_test['rep_avg_rating'] = continuous_test['rep_avg_rating'].fillna(continuous_test['rep_avg_rating'].median())\n",
        "continuous_test['customer_length'] = continuous_test['customer_length'].fillna(continuous_test['customer_length'].median())\n",
        "continuous_test['customer_ratings'] = continuous_test['customer_ratings'].fillna(continuous_test['customer_ratings'].mode()[0])"
      ]
    },
    {
      "cell_type": "code",
      "execution_count": null,
      "metadata": {
        "colab": {
          "base_uri": "https://localhost:8080/"
        },
        "id": "16pjqE0sDc6j",
        "outputId": "1a040a36-e1ac-4804-ff7e-30e2c5bd1014"
      },
      "outputs": [
        {
          "output_type": "execute_result",
          "data": {
            "text/plain": [
              "age                 0.0\n",
              "campaign            0.0\n",
              "customer_ratings    0.0\n",
              "emp.var.rate        0.0\n",
              "cons.price.idx      0.0\n",
              "cons.conf.idx       0.0\n",
              "euribor3m           0.0\n",
              "nr.employed         0.0\n",
              "total_assets        0.0\n",
              "rep_avg_rating      0.0\n",
              "customer_length     0.0\n",
              "dtype: float64"
            ]
          },
          "metadata": {},
          "execution_count": 92
        }
      ],
      "source": [
        "continuous_train.isna().sum()/continuous_train.shape[0]"
      ]
    },
    {
      "cell_type": "code",
      "execution_count": null,
      "metadata": {
        "colab": {
          "base_uri": "https://localhost:8080/"
        },
        "id": "64drcliMDd1I",
        "outputId": "60deeb63-7a5c-461c-eec5-4fff3d3b3dfe"
      },
      "outputs": [
        {
          "output_type": "execute_result",
          "data": {
            "text/plain": [
              "age                 0.0\n",
              "campaign            0.0\n",
              "customer_ratings    0.0\n",
              "emp.var.rate        0.0\n",
              "cons.price.idx      0.0\n",
              "cons.conf.idx       0.0\n",
              "euribor3m           0.0\n",
              "nr.employed         0.0\n",
              "total_assets        0.0\n",
              "rep_avg_rating      0.0\n",
              "customer_length     0.0\n",
              "dtype: float64"
            ]
          },
          "metadata": {},
          "execution_count": 93
        }
      ],
      "source": [
        "continuous_test.isna().sum()/continuous_train.shape[0]"
      ]
    },
    {
      "cell_type": "markdown",
      "metadata": {
        "id": "SflLDVk7Dg8W"
      },
      "source": [
        "# Check for Missing Data in Categorical Dataframe"
      ]
    },
    {
      "cell_type": "code",
      "execution_count": null,
      "metadata": {
        "colab": {
          "base_uri": "https://localhost:8080/"
        },
        "id": "SuryvRb8DluP",
        "outputId": "283bbec5-f233-4ef7-e92d-f41e7ddec26f"
      },
      "outputs": [
        {
          "output_type": "execute_result",
          "data": {
            "text/plain": [
              "job                  0.004032\n",
              "marital              0.025397\n",
              "education            0.038170\n",
              "default              0.039788\n",
              "housing              0.004709\n",
              "loan                 0.014185\n",
              "contact              0.040524\n",
              "month                0.048970\n",
              "day_of_week          0.031754\n",
              "poutcome             0.037522\n",
              "customer_language    0.026221\n",
              "other_banks          0.007151\n",
              "pdays                0.000000\n",
              "previous             0.000000\n",
              "dtype: float64"
            ]
          },
          "metadata": {},
          "execution_count": 94
        }
      ],
      "source": [
        "categorical_train.isna().sum()/categorical_train.shape[0]"
      ]
    },
    {
      "cell_type": "code",
      "execution_count": null,
      "metadata": {
        "colab": {
          "base_uri": "https://localhost:8080/"
        },
        "id": "dYvl49u7Dot6",
        "outputId": "7c66e280-10dc-4512-989d-08d1609ea982"
      },
      "outputs": [
        {
          "output_type": "execute_result",
          "data": {
            "text/plain": [
              "job                  0.001059\n",
              "marital              0.009535\n",
              "education            0.011124\n",
              "default              0.012978\n",
              "housing              0.001324\n",
              "loan                 0.004650\n",
              "contact              0.013096\n",
              "month                0.015362\n",
              "day_of_week          0.009947\n",
              "poutcome             0.012625\n",
              "customer_language    0.007858\n",
              "other_banks          0.003149\n",
              "pdays                0.000000\n",
              "previous             0.000000\n",
              "dtype: float64"
            ]
          },
          "metadata": {},
          "execution_count": 95
        }
      ],
      "source": [
        "categorical_test.isna().sum()/categorical_train.shape[0]"
      ]
    },
    {
      "cell_type": "markdown",
      "metadata": {
        "id": "JXCPGYQrDsxr"
      },
      "source": [
        "# Categorical Dataframe Assumptions"
      ]
    },
    {
      "cell_type": "code",
      "execution_count": null,
      "metadata": {
        "colab": {
          "base_uri": "https://localhost:8080/"
        },
        "id": "b13OWopJDqv0",
        "outputId": "d3168510-5082-4099-f91b-4c7831a38404"
      },
      "outputs": [
        {
          "output_type": "execute_result",
          "data": {
            "text/plain": [
              "no         25861\n",
              "unknown     6763\n",
              "yes            4\n",
              "Name: default, dtype: int64"
            ]
          },
          "metadata": {},
          "execution_count": 96
        }
      ],
      "source": [
        "# impute with mode\n",
        "\n",
        "# first checked the value counts of all the columns\n",
        "categorical_train['default'].value_counts()\n",
        "#variation of the feature is too low -- this is not helpful\n",
        "# we can drop this feature"
      ]
    },
    {
      "cell_type": "code",
      "execution_count": null,
      "metadata": {
        "id": "5UHLz_-UL1eC"
      },
      "outputs": [],
      "source": [
        "# drop the default feature\n",
        "categorical_train = categorical_train[['job', 'marital', 'education', 'housing', 'loan',\n",
        "                                       'contact', 'month', 'day_of_week', 'poutcome',\n",
        "                                       'customer_language', 'other_banks',\n",
        "                                       'pdays', 'previous']]\n",
        "categorical_test = categorical_test[['job', 'marital', 'education', 'housing', 'loan',\n",
        "                                       'contact', 'month', 'day_of_week', 'poutcome',\n",
        "                                       'customer_language', 'other_banks',\n",
        "                                       'pdays', 'previous']]"
      ]
    },
    {
      "cell_type": "code",
      "execution_count": null,
      "metadata": {
        "colab": {
          "base_uri": "https://localhost:8080/"
        },
        "id": "QF0KUtExMyvX",
        "outputId": "283f7de7-374d-4fdf-bc44-cdbf344034fb"
      },
      "outputs": [
        {
          "output_type": "execute_result",
          "data": {
            "text/plain": [
              "Index(['job', 'marital', 'education', 'housing', 'loan', 'contact', 'month',\n",
              "       'day_of_week', 'poutcome', 'customer_language', 'other_banks', 'pdays',\n",
              "       'previous'],\n",
              "      dtype='object')"
            ]
          },
          "metadata": {},
          "execution_count": 98
        }
      ],
      "source": [
        "categorical_train.columns"
      ]
    },
    {
      "cell_type": "code",
      "execution_count": null,
      "metadata": {
        "colab": {
          "base_uri": "https://localhost:8080/"
        },
        "id": "7Q-WudBED9iI",
        "outputId": "7b7cd35f-fc60-477d-df5d-8c268d2503bc"
      },
      "outputs": [
        {
          "output_type": "execute_result",
          "data": {
            "text/plain": [
              "nonexistent    28251\n",
              "failure         3385\n",
              "success         1069\n",
              "Name: poutcome, dtype: int64"
            ]
          },
          "metadata": {},
          "execution_count": 99
        }
      ],
      "source": [
        "# first checked the value counts of all the columns\n",
        "categorical_train['poutcome'].value_counts()\n",
        "# variation of the feature might be too low -- but will let feature selection determine that"
      ]
    },
    {
      "cell_type": "code",
      "execution_count": null,
      "metadata": {
        "colab": {
          "base_uri": "https://localhost:8080/"
        },
        "id": "OtZMVPcdD_ot",
        "outputId": "8d37924b-9024-41d6-cb44-74172aa3a1e1"
      },
      "outputs": [
        {
          "output_type": "stream",
          "name": "stdout",
          "text": [
            "admin.\n",
            "yes\n"
          ]
        }
      ],
      "source": [
        "print(categorical_train['job'].mode()[0])\n",
        "print(categorical_train['other_banks'].mode()[0])"
      ]
    },
    {
      "cell_type": "code",
      "execution_count": null,
      "metadata": {
        "colab": {
          "base_uri": "https://localhost:8080/"
        },
        "id": "qDaPBGbqEFx6",
        "outputId": "69fe5ea2-08d0-4eef-d6be-44a81484458f"
      },
      "outputs": [
        {
          "output_type": "execute_result",
          "data": {
            "text/plain": [
              "admin.           8466\n",
              "blue-collar      7606\n",
              "technician       5588\n",
              "services         3293\n",
              "management       2440\n",
              "retired          1391\n",
              "entrepreneur     1214\n",
              "self-employed    1163\n",
              "unemployed        852\n",
              "housemaid         842\n",
              "student           714\n",
              "unknown           274\n",
              "Name: job, dtype: int64"
            ]
          },
          "metadata": {},
          "execution_count": 101
        }
      ],
      "source": [
        "categorical_train['job'].value_counts()"
      ]
    },
    {
      "cell_type": "code",
      "execution_count": null,
      "metadata": {
        "colab": {
          "base_uri": "https://localhost:8080/"
        },
        "id": "NUyW1YKFEJE9",
        "outputId": "832b7dea-77c2-45f8-aa72-20587b4bc729"
      },
      "outputs": [
        {
          "output_type": "execute_result",
          "data": {
            "text/plain": [
              "yes        26860\n",
              "unknown     3446\n",
              "no          3431\n",
              "Name: other_banks, dtype: int64"
            ]
          },
          "metadata": {},
          "execution_count": 102
        }
      ],
      "source": [
        "categorical_train['other_banks'].value_counts()"
      ]
    },
    {
      "cell_type": "markdown",
      "metadata": {
        "id": "u2PS-JwxEiJD"
      },
      "source": [
        "# Impute Remaining Categorical Data"
      ]
    },
    {
      "cell_type": "code",
      "execution_count": null,
      "metadata": {
        "id": "vfE9KLWVENia",
        "colab": {
          "base_uri": "https://localhost:8080/"
        },
        "outputId": "8aa195bc-d0d7-4f1b-c311-e72138b2f7f6"
      },
      "outputs": [
        {
          "output_type": "stream",
          "name": "stderr",
          "text": [
            "/usr/local/lib/python3.7/dist-packages/ipykernel_launcher.py:5: SettingWithCopyWarning: \n",
            "A value is trying to be set on a copy of a slice from a DataFrame.\n",
            "Try using .loc[row_indexer,col_indexer] = value instead\n",
            "\n",
            "See the caveats in the documentation: https://pandas.pydata.org/pandas-docs/stable/user_guide/indexing.html#returning-a-view-versus-a-copy\n",
            "  \"\"\"\n",
            "/usr/local/lib/python3.7/dist-packages/ipykernel_launcher.py:7: SettingWithCopyWarning: \n",
            "A value is trying to be set on a copy of a slice from a DataFrame.\n",
            "Try using .loc[row_indexer,col_indexer] = value instead\n",
            "\n",
            "See the caveats in the documentation: https://pandas.pydata.org/pandas-docs/stable/user_guide/indexing.html#returning-a-view-versus-a-copy\n",
            "  import sys\n"
          ]
        }
      ],
      "source": [
        "## if it has unknown, add to unknown\n",
        "## if no unknown, do other or use mode\n",
        "\n",
        "# use mode\n",
        "categorical_train['job'] = categorical_train['job'].fillna(categorical_train['job'].mode()[0])\n",
        "# make unknown\n",
        "categorical_train['marital'] = categorical_train['marital'].fillna('unknown')\n",
        "# make unknown\n",
        "categorical_train['education'] = categorical_train['education'].fillna('unknown')\n",
        "# should we fill it with unknown? -- actually we should drop\n",
        "#categorical_train['default'] = categorical_train['default'].fillna(categorical_train['default'].mode()[0])\n",
        "# make unknown\n",
        "categorical_train['housing'] = categorical_train['housing'].fillna('unknown')\n",
        "# make unknown\n",
        "categorical_train['loan'] = categorical_train['loan'].fillna('unknown')\n",
        "# use mode -- cellular vs. telephone, so it will add to telephone\n",
        "categorical_train['contact'] = categorical_train['contact'].fillna(categorical_train['contact'].mode()[0])\n",
        "# use mode -- will add to may\n",
        "categorical_train['month'] = categorical_train['month'].fillna(categorical_train['month'].mode()[0])\n",
        "# use mode -- nearly even -- will add to thurs\n",
        "categorical_train['day_of_week'] = categorical_train['day_of_week'].fillna(categorical_train['day_of_week'].mode()[0])\n",
        "# make nonexistent (which is the mode)\n",
        "categorical_train['poutcome'] = categorical_train['poutcome'].fillna(categorical_train['poutcome'].mode()[0])\n",
        "# make other\n",
        "categorical_train['customer_language'] = categorical_train['customer_language'].fillna('Other')\n",
        "# make unknown\n",
        "categorical_train['other_banks'] = categorical_train['other_banks'].fillna('unknown')"
      ]
    },
    {
      "cell_type": "code",
      "execution_count": null,
      "metadata": {
        "id": "Uglp8xD-EYw9"
      },
      "outputs": [],
      "source": [
        "## if it has unknown, add to unknown\n",
        "## if no unknown, do other or use mode\n",
        "\n",
        "# use mode\n",
        "categorical_test['job'] = categorical_test['job'].fillna(categorical_test['job'].mode()[0])\n",
        "# make unknown\n",
        "categorical_test['marital'] = categorical_test['marital'].fillna('unknown')\n",
        "# make unknown\n",
        "categorical_test['education'] = categorical_test['education'].fillna('unknown')\n",
        "# should we fill it with unknown? -- actually we should drop\n",
        "#categorical_test['default'] = categorical_test['default'].fillna(categorical_test['default'].mode()[0])\n",
        "# make unknown\n",
        "categorical_test['housing'] = categorical_test['housing'].fillna('unknown')\n",
        "# make unknown\n",
        "categorical_test['loan'] = categorical_test['loan'].fillna('unknown')\n",
        "# use mode -- cellular vs. telephone, so it will add to telephone\n",
        "categorical_test['contact'] = categorical_test['contact'].fillna(categorical_test['contact'].mode()[0])\n",
        "# use mode -- will add to may\n",
        "categorical_test['month'] = categorical_test['month'].fillna(categorical_test['month'].mode()[0])\n",
        "# use mode -- nearly even -- will add to thurs\n",
        "categorical_test['day_of_week'] = categorical_test['day_of_week'].fillna(categorical_test['day_of_week'].mode()[0])\n",
        "# make nonexistent (which is the mode)\n",
        "categorical_test['poutcome'] = categorical_test['poutcome'].fillna(categorical_test['poutcome'].mode()[0])\n",
        "# make other\n",
        "categorical_test['customer_language'] = categorical_test['customer_language'].fillna('Other')\n",
        "# make unknown\n",
        "categorical_test['other_banks'] = categorical_test['other_banks'].fillna('unknown')"
      ]
    },
    {
      "cell_type": "code",
      "execution_count": null,
      "metadata": {
        "colab": {
          "base_uri": "https://localhost:8080/"
        },
        "id": "kfPomnelEuOB",
        "outputId": "600fde17-87e4-40c2-d834-81b5f0677ea9"
      },
      "outputs": [
        {
          "output_type": "execute_result",
          "data": {
            "text/plain": [
              "job                  0\n",
              "marital              0\n",
              "education            0\n",
              "housing              0\n",
              "loan                 0\n",
              "contact              0\n",
              "month                0\n",
              "day_of_week          0\n",
              "poutcome             0\n",
              "customer_language    0\n",
              "other_banks          0\n",
              "pdays                0\n",
              "previous             0\n",
              "dtype: int64"
            ]
          },
          "metadata": {},
          "execution_count": 105
        }
      ],
      "source": [
        "categorical_train.isna().sum()"
      ]
    },
    {
      "cell_type": "code",
      "execution_count": null,
      "metadata": {
        "colab": {
          "base_uri": "https://localhost:8080/"
        },
        "id": "fyzvONTPEvAL",
        "outputId": "f7308836-7568-431a-ecaa-92bb62f867bf"
      },
      "outputs": [
        {
          "output_type": "execute_result",
          "data": {
            "text/plain": [
              "job                  0\n",
              "marital              0\n",
              "education            0\n",
              "housing              0\n",
              "loan                 0\n",
              "contact              0\n",
              "month                0\n",
              "day_of_week          0\n",
              "poutcome             0\n",
              "customer_language    0\n",
              "other_banks          0\n",
              "pdays                0\n",
              "previous             0\n",
              "dtype: int64"
            ]
          },
          "metadata": {},
          "execution_count": 106
        }
      ],
      "source": [
        "categorical_test.isna().sum()"
      ]
    },
    {
      "cell_type": "markdown",
      "metadata": {
        "id": "s7OorhDnEz8n"
      },
      "source": [
        "# Make the Target Binary"
      ]
    },
    {
      "cell_type": "code",
      "execution_count": null,
      "metadata": {
        "id": "ePt2Q3fbE2-u"
      },
      "outputs": [],
      "source": [
        "# can use label encoder for this\n",
        "y_train.replace(to_replace=['no', 'yes'], value=[0, 1], inplace=True)"
      ]
    },
    {
      "cell_type": "code",
      "execution_count": null,
      "metadata": {
        "colab": {
          "base_uri": "https://localhost:8080/"
        },
        "id": "_hePF4N-E6Kc",
        "outputId": "0d35e641-7f44-4a67-d8c4-e2d0ce119bee"
      },
      "outputs": [
        {
          "output_type": "execute_result",
          "data": {
            "text/plain": [
              "0    0\n",
              "1    0\n",
              "2    1\n",
              "3    0\n",
              "4    1\n",
              "Name: y, dtype: int64"
            ]
          },
          "metadata": {},
          "execution_count": 108
        }
      ],
      "source": [
        "y_train.head()"
      ]
    },
    {
      "cell_type": "code",
      "execution_count": null,
      "metadata": {
        "id": "ao_QY9xDE78x"
      },
      "outputs": [],
      "source": [
        "y_test.replace(to_replace=['no', 'yes'], value=[0, 1], inplace=True)"
      ]
    },
    {
      "cell_type": "code",
      "execution_count": null,
      "metadata": {
        "colab": {
          "base_uri": "https://localhost:8080/"
        },
        "id": "urTIjir1E-16",
        "outputId": "df4e36e2-4d62-4632-e524-32a0a5dfc88f"
      },
      "outputs": [
        {
          "output_type": "execute_result",
          "data": {
            "text/plain": [
              "0    0\n",
              "1    0\n",
              "2    0\n",
              "3    1\n",
              "4    0\n",
              "Name: y, dtype: int64"
            ]
          },
          "metadata": {},
          "execution_count": 110
        }
      ],
      "source": [
        "y_test.head()"
      ]
    },
    {
      "cell_type": "markdown",
      "metadata": {
        "id": "Q9haV4DXFBK1"
      },
      "source": [
        "# Binning"
      ]
    },
    {
      "cell_type": "code",
      "execution_count": null,
      "metadata": {
        "id": "gWRtFONFRdUM"
      },
      "outputs": [],
      "source": [
        "### binning 3 things:\n",
        "### job, education, months"
      ]
    },
    {
      "cell_type": "code",
      "execution_count": null,
      "metadata": {
        "id": "_sGDq87hGiRm"
      },
      "outputs": [],
      "source": [
        "job_map = {'admin.' : 'admin.' , 'blue-collar' : 'blue-collar', 'technician' : 'technician', 'services' : 'services'}\n",
        "education_map = {'university.degree': 'college', 'professional.course': 'college', 'high.school': 'high school',\n",
        "                 'basic.9y': 'below high school', 'basic.4y': 'below high school', 'basic.6y': 'below high school',\n",
        "                 'unknown': 'below high school', 'illiterate': 'below high school'}\n",
        "month_map = {'jan': 'Q1', 'feb': 'Q1', 'mar': 'Q1', 'apr': 'Q2', 'may': 'Q2', 'jun': 'Q2',\n",
        "             'jul': 'Q3', 'aug': 'Q3', 'sep': 'Q3', 'oct': 'Q4', 'nov': 'Q4', 'dec': 'Q4'}\n"
      ]
    },
    {
      "cell_type": "code",
      "execution_count": null,
      "metadata": {
        "id": "6ygSbXv3G9YQ"
      },
      "outputs": [],
      "source": [
        "# Creating new columns which should be used for the binning\n",
        "job_train = categorical_train['job']\n",
        "education_train = categorical_train['education']\n",
        "month_train = categorical_train['month']\n",
        "\n",
        "job_test = categorical_test['job']\n",
        "education_test = categorical_test['education']\n",
        "month_test = categorical_test['month']\n",
        "\n",
        "\n",
        "# lists result after binning was performed\n",
        "result_job_train = []\n",
        "result_job_test = []\n",
        "result_education_train = []\n",
        "result_education_test = []\n",
        "result_month_train = []\n",
        "result_month_test = []\n",
        "\n"
      ]
    },
    {
      "cell_type": "code",
      "execution_count": null,
      "metadata": {
        "id": "10b85sIVF7Y8"
      },
      "outputs": [],
      "source": [
        "# jobs\n",
        "# bin to top 4 + \"other\" (admin, blue collar, technician, services)\n",
        "for i in job_train:\n",
        "    if i in job_map.keys():\n",
        "        result_job_train.append(job_map[i])\n",
        "    else:\n",
        "        result_job_train.append(\"others\")\n",
        "\n",
        "for i in job_test:\n",
        "    if i in job_map.keys():\n",
        "        result_job_test.append(job_map[i])\n",
        "    else:\n",
        "        result_job_test.append(\"others\")"
      ]
    },
    {
      "cell_type": "code",
      "execution_count": null,
      "metadata": {
        "id": "VJvK1ZPaHOJs"
      },
      "outputs": [],
      "source": [
        "categorical_train['job'] = result_job_train\n",
        "categorical_test['job'] = result_job_test"
      ]
    },
    {
      "cell_type": "code",
      "execution_count": null,
      "metadata": {
        "colab": {
          "base_uri": "https://localhost:8080/"
        },
        "id": "3Av0_FUhJRqC",
        "outputId": "a5cdb012-a422-4321-80cd-06e8570a0e8c"
      },
      "outputs": [
        {
          "output_type": "execute_result",
          "data": {
            "text/plain": [
              "others         8890\n",
              "admin.         8603\n",
              "blue-collar    7606\n",
              "technician     5588\n",
              "services       3293\n",
              "Name: job, dtype: int64"
            ]
          },
          "metadata": {},
          "execution_count": 116
        }
      ],
      "source": [
        "categorical_train['job'].value_counts()"
      ]
    },
    {
      "cell_type": "code",
      "execution_count": null,
      "metadata": {
        "colab": {
          "base_uri": "https://localhost:8080/"
        },
        "id": "KjaA3k53CfqT",
        "outputId": "3ab1dd00-1e68-4903-c519-bf10cb643d99"
      },
      "outputs": [
        {
          "output_type": "execute_result",
          "data": {
            "text/plain": [
              "others         3001\n",
              "admin.         2959\n",
              "blue-collar    2494\n",
              "technician     1815\n",
              "services       1058\n",
              "Name: job, dtype: int64"
            ]
          },
          "metadata": {},
          "execution_count": 117
        }
      ],
      "source": [
        "categorical_test['job'].value_counts()"
      ]
    },
    {
      "cell_type": "code",
      "execution_count": null,
      "metadata": {
        "id": "9xkTCBwKGJfj"
      },
      "outputs": [],
      "source": [
        "# education\n",
        "# college, high school, below\n",
        "# bin education\n",
        "# college = university.degree, professional.course\n",
        "# high school = high.school\n",
        "# below high school = basic.9y, basic.4y, basic.6y, unknown, illiterate\n",
        "\n",
        "for i in education_train:\n",
        "    if i in education_map.keys():\n",
        "        result_education_train.append(education_map[i])\n",
        "    #else:\n",
        "     #   result_education_train.append(\"others\")\n",
        "\n",
        "for i in education_test:\n",
        "    if i in education_map.keys():\n",
        "        result_education_test.append(education_map[i])\n",
        "    #else:\n",
        "     #   result_education_test.append(\"others\")\n"
      ]
    },
    {
      "cell_type": "code",
      "execution_count": null,
      "metadata": {
        "id": "9iw-LN9MDCHQ"
      },
      "outputs": [],
      "source": [
        "categorical_train['education'] = result_education_train\n",
        "categorical_test['education'] = result_education_test"
      ]
    },
    {
      "cell_type": "code",
      "execution_count": null,
      "metadata": {
        "colab": {
          "base_uri": "https://localhost:8080/"
        },
        "id": "XoFMrWvpDH_6",
        "outputId": "b4d2af42-b1d9-47e1-c87b-f995a0dbd306"
      },
      "outputs": [
        {
          "output_type": "execute_result",
          "data": {
            "text/plain": [
              "college              13895\n",
              "below high school    12550\n",
              "high school           7535\n",
              "Name: education, dtype: int64"
            ]
          },
          "metadata": {},
          "execution_count": 120
        }
      ],
      "source": [
        "categorical_train['education'].value_counts()"
      ]
    },
    {
      "cell_type": "code",
      "execution_count": null,
      "metadata": {
        "colab": {
          "base_uri": "https://localhost:8080/"
        },
        "id": "SYmv1HUTDKbq",
        "outputId": "80cec143-f703-44a0-ea2f-e58a5d702e7a"
      },
      "outputs": [
        {
          "output_type": "execute_result",
          "data": {
            "text/plain": [
              "college              4653\n",
              "below high school    4169\n",
              "high school          2505\n",
              "Name: education, dtype: int64"
            ]
          },
          "metadata": {},
          "execution_count": 121
        }
      ],
      "source": [
        "categorical_test['education'].value_counts()"
      ]
    },
    {
      "cell_type": "code",
      "execution_count": null,
      "metadata": {
        "id": "1ONkATVLGSoL"
      },
      "outputs": [],
      "source": [
        "# month\n",
        "# bin month into quarters, but there is no january or february\n",
        "# maybe they started this campaign in march\n",
        "\n",
        "# bin month\n",
        "# 1 = jan, feb, march\n",
        "# 2 = april, may, june\n",
        "# 3 = jul, aug, sep\n",
        "# 4 = oct, nov, dec\n",
        "\n",
        "for i in month_train:\n",
        "    if i in month_map.keys():\n",
        "        result_month_train.append(month_map[i])\n",
        "    #else:\n",
        "     #   result_month_train.append(\"others\")\n",
        "\n",
        "for i in month_test:\n",
        "    if i in month_map.keys():\n",
        "        result_month_test.append(month_map[i])\n",
        "    #else:\n",
        "     #   result_month_test.append(\"others\")"
      ]
    },
    {
      "cell_type": "code",
      "execution_count": null,
      "metadata": {
        "id": "zk0MErAtEOWt"
      },
      "outputs": [],
      "source": [
        "categorical_train['month'] = result_month_train\n",
        "categorical_test['month'] = result_month_test"
      ]
    },
    {
      "cell_type": "markdown",
      "metadata": {
        "id": "GN-pts8jFGXs"
      },
      "source": [
        "# Visualize Binning"
      ]
    },
    {
      "cell_type": "code",
      "execution_count": null,
      "metadata": {
        "colab": {
          "base_uri": "https://localhost:8080/",
          "height": 398
        },
        "id": "QUOxxbBVRcqn",
        "outputId": "af94de16-1a5e-456d-bdab-e49ed9b006a7"
      },
      "outputs": [
        {
          "output_type": "execute_result",
          "data": {
            "text/plain": [
              "Text(0.5, 0, 'Job Descriptions')"
            ]
          },
          "metadata": {},
          "execution_count": 124
        },
        {
          "output_type": "display_data",
          "data": {
            "text/plain": [
              "<Figure size 720x360 with 1 Axes>"
            ],
            "image/png": "[encoded data removed]"
          },
          "metadata": {
            "needs_background": "light"
          }
        }
      ],
      "source": [
        "plt.figure(figsize=(10,5))\n",
        "categorical_train['job'].value_counts().plot(kind='bar')\n",
        "plt.title('Training Data Job Distribution')\n",
        "plt.ylabel('Counts')\n",
        "plt.xlabel('Job Descriptions')"
      ]
    },
    {
      "cell_type": "code",
      "execution_count": null,
      "metadata": {
        "colab": {
          "base_uri": "https://localhost:8080/",
          "height": 398
        },
        "id": "7gQmvyjWRnnI",
        "outputId": "c1b451a1-4f83-46cf-d342-85826228d9de"
      },
      "outputs": [
        {
          "output_type": "execute_result",
          "data": {
            "text/plain": [
              "Text(0.5, 0, 'Job Descriptions')"
            ]
          },
          "metadata": {},
          "execution_count": 125
        },
        {
          "output_type": "display_data",
          "data": {
            "text/plain": [
              "<Figure size 720x360 with 1 Axes>"
            ],
            "image/png": "[encoded data removed]"
          },
          "metadata": {
            "needs_background": "light"
          }
        }
      ],
      "source": [
        "plt.figure(figsize=(10,5))\n",
        "categorical_test['job'].value_counts().plot(kind='bar')\n",
        "plt.title('Training Data Job Distribution')\n",
        "plt.ylabel('Counts')\n",
        "plt.xlabel('Job Descriptions')"
      ]
    },
    {
      "cell_type": "code",
      "execution_count": null,
      "metadata": {
        "colab": {
          "base_uri": "https://localhost:8080/",
          "height": 432
        },
        "id": "1jiGzkPzRsTW",
        "outputId": "fb1d0dab-37ed-48ae-dd21-c9677dcda321"
      },
      "outputs": [
        {
          "output_type": "execute_result",
          "data": {
            "text/plain": [
              "Text(0.5, 0, 'Education Level')"
            ]
          },
          "metadata": {},
          "execution_count": 126
        },
        {
          "output_type": "display_data",
          "data": {
            "text/plain": [
              "<Figure size 720x360 with 1 Axes>"
            ],
            "image/png": "[encoded data removed]"
          },
          "metadata": {
            "needs_background": "light"
          }
        }
      ],
      "source": [
        "plt.figure(figsize=(10,5))\n",
        "categorical_train['education'].value_counts().plot(kind='bar', color='orange')\n",
        "plt.title('Training Data Education Distribution')\n",
        "plt.ylabel('Counts')\n",
        "plt.xlabel('Education Level')"
      ]
    },
    {
      "cell_type": "code",
      "execution_count": null,
      "metadata": {
        "colab": {
          "base_uri": "https://localhost:8080/",
          "height": 432
        },
        "id": "Otu2eTyORvJv",
        "outputId": "722d2d67-a975-47d4-f89d-9c52988d310c"
      },
      "outputs": [
        {
          "output_type": "execute_result",
          "data": {
            "text/plain": [
              "Text(0.5, 0, 'Education Level')"
            ]
          },
          "metadata": {},
          "execution_count": 127
        },
        {
          "output_type": "display_data",
          "data": {
            "text/plain": [
              "<Figure size 720x360 with 1 Axes>"
            ],
            "image/png": "[encoded data removed]"
          },
          "metadata": {
            "needs_background": "light"
          }
        }
      ],
      "source": [
        "plt.figure(figsize=(10,5))\n",
        "categorical_test['education'].value_counts().plot(kind='bar', color='orange')\n",
        "plt.title('Training Data Education Distribution')\n",
        "plt.ylabel('Counts')\n",
        "plt.xlabel('Education Level')"
      ]
    },
    {
      "cell_type": "code",
      "execution_count": null,
      "metadata": {
        "colab": {
          "base_uri": "https://localhost:8080/",
          "height": 366
        },
        "id": "lriRuN7-RxmE",
        "outputId": "25c7f650-fe4a-4bdb-dfe6-393e58410759"
      },
      "outputs": [
        {
          "output_type": "execute_result",
          "data": {
            "text/plain": [
              "Text(0.5, 0, 'Month')"
            ]
          },
          "metadata": {},
          "execution_count": 128
        },
        {
          "output_type": "display_data",
          "data": {
            "text/plain": [
              "<Figure size 720x360 with 1 Axes>"
            ],
            "image/png": "[encoded data removed]"
          },
          "metadata": {
            "needs_background": "light"
          }
        }
      ],
      "source": [
        "plt.figure(figsize=(10,5))\n",
        "categorical_train['month'].value_counts().plot(kind='bar', color='green')\n",
        "plt.title('Training Data Month Distribution')\n",
        "plt.ylabel('Counts')\n",
        "plt.xlabel('Month')"
      ]
    },
    {
      "cell_type": "code",
      "execution_count": null,
      "metadata": {
        "colab": {
          "base_uri": "https://localhost:8080/",
          "height": 366
        },
        "id": "jt9NyPQMR5E-",
        "outputId": "255000a8-50b0-41f5-81f5-9dfb0a8cc00c"
      },
      "outputs": [
        {
          "output_type": "execute_result",
          "data": {
            "text/plain": [
              "Text(0.5, 0, 'Month')"
            ]
          },
          "metadata": {},
          "execution_count": 129
        },
        {
          "output_type": "display_data",
          "data": {
            "text/plain": [
              "<Figure size 720x360 with 1 Axes>"
            ],
            "image/png": "[encoded data removed]"
          },
          "metadata": {
            "needs_background": "light"
          }
        }
      ],
      "source": [
        "plt.figure(figsize=(10,5))\n",
        "categorical_test['month'].value_counts().plot(kind='bar', color='green')\n",
        "plt.title('Training Data Month Distribution')\n",
        "plt.ylabel('Counts')\n",
        "plt.xlabel('Month')"
      ]
    },
    {
      "cell_type": "markdown",
      "source": [
        "# Feature Engineering"
      ],
      "metadata": {
        "id": "wNv6DK9MMgfb"
      }
    },
    {
      "cell_type": "markdown",
      "source": [
        "## age and total assets"
      ],
      "metadata": {
        "id": "skr3EGEXQYku"
      }
    },
    {
      "cell_type": "code",
      "source": [
        "continuous_train.columns"
      ],
      "metadata": {
        "colab": {
          "base_uri": "https://localhost:8080/"
        },
        "id": "6eg-dywuMrHl",
        "outputId": "115c8c21-28a3-4212-a3fb-aac9eff530a4"
      },
      "execution_count": null,
      "outputs": [
        {
          "output_type": "execute_result",
          "data": {
            "text/plain": [
              "Index(['age', 'campaign', 'customer_ratings', 'emp.var.rate', 'cons.price.idx',\n",
              "       'cons.conf.idx', 'euribor3m', 'nr.employed', 'total_assets',\n",
              "       'rep_avg_rating', 'customer_length'],\n",
              "      dtype='object')"
            ]
          },
          "metadata": {},
          "execution_count": 130
        }
      ]
    },
    {
      "cell_type": "code",
      "source": [
        "print(continuous_train['total_assets'].max())\n",
        "print(continuous_train['total_assets'].min())\n",
        "boxplot = continuous_train.boxplot('total_assets')"
      ],
      "metadata": {
        "colab": {
          "base_uri": "https://localhost:8080/",
          "height": 297
        },
        "id": "DFUjijydQrgw",
        "outputId": "3cccd215-565e-4aed-ccf9-4de6667f1520"
      },
      "execution_count": null,
      "outputs": [
        {
          "output_type": "stream",
          "name": "stdout",
          "text": [
            "360.4\n",
            "10.98\n"
          ]
        },
        {
          "output_type": "display_data",
          "data": {
            "text/plain": [
              "<Figure size 432x288 with 1 Axes>"
            ],
            "image/png": "[encoded data removed]"
          },
          "metadata": {
            "needs_background": "light"
          }
        }
      ]
    },
    {
      "cell_type": "code",
      "source": [
        "print(continuous_train['age'].max())\n",
        "print(continuous_train['age'].min())\n",
        "boxplot = continuous_train.boxplot('age')"
      ],
      "metadata": {
        "colab": {
          "base_uri": "https://localhost:8080/",
          "height": 297
        },
        "id": "ZQcfcH2pQyM7",
        "outputId": "cacda2a3-f829-4d2c-837f-2b70aca23e3c"
      },
      "execution_count": null,
      "outputs": [
        {
          "output_type": "stream",
          "name": "stdout",
          "text": [
            "98.0\n",
            "17.0\n"
          ]
        },
        {
          "output_type": "display_data",
          "data": {
            "text/plain": [
              "<Figure size 432x288 with 1 Axes>"
            ],
            "image/png": "[encoded data removed]"
          },
          "metadata": {
            "needs_background": "light"
          }
        }
      ]
    },
    {
      "cell_type": "code",
      "source": [
        "### feature engineering with total_assets and age\n",
        "continuous_train['assets/age'] = continuous_train['total_assets']/continuous_train['age']\n",
        "continuous_test['assets/age'] = continuous_test['total_assets']/continuous_test['age']"
      ],
      "metadata": {
        "id": "4EVuxSB1MkVh"
      },
      "execution_count": null,
      "outputs": []
    },
    {
      "cell_type": "code",
      "source": [
        "continuous_train['total_assets'].describe()"
      ],
      "metadata": {
        "colab": {
          "base_uri": "https://localhost:8080/"
        },
        "id": "NwX7BwDnNJLa",
        "outputId": "92b2d44a-f444-4169-fed3-c407efc1af07"
      },
      "execution_count": null,
      "outputs": [
        {
          "output_type": "execute_result",
          "data": {
            "text/plain": [
              "count    33980.000000\n",
              "mean        59.161360\n",
              "std         24.460833\n",
              "min         10.980000\n",
              "25%         42.110000\n",
              "50%         54.710000\n",
              "75%         71.260000\n",
              "max        360.400000\n",
              "Name: total_assets, dtype: float64"
            ]
          },
          "metadata": {},
          "execution_count": 134
        }
      ]
    },
    {
      "cell_type": "code",
      "source": [
        "continuous_train['age'].describe()"
      ],
      "metadata": {
        "colab": {
          "base_uri": "https://localhost:8080/"
        },
        "id": "rK9wY5YJNPMf",
        "outputId": "fdcc3e86-0daf-4123-a3ce-a0b529e7a9fc"
      },
      "execution_count": null,
      "outputs": [
        {
          "output_type": "execute_result",
          "data": {
            "text/plain": [
              "count    33980.000000\n",
              "mean        40.030783\n",
              "std         10.380787\n",
              "min         17.000000\n",
              "25%         32.000000\n",
              "50%         38.000000\n",
              "75%         47.000000\n",
              "max         98.000000\n",
              "Name: age, dtype: float64"
            ]
          },
          "metadata": {},
          "execution_count": 135
        }
      ]
    },
    {
      "cell_type": "code",
      "source": [
        "continuous_train['assets/age'].describe()"
      ],
      "metadata": {
        "colab": {
          "base_uri": "https://localhost:8080/"
        },
        "id": "70irSlgYM690",
        "outputId": "dde87391-30bd-4708-f2a0-69322def9b8e"
      },
      "execution_count": null,
      "outputs": [
        {
          "output_type": "execute_result",
          "data": {
            "text/plain": [
              "count    33980.000000\n",
              "mean         1.574077\n",
              "std          0.775238\n",
              "min          0.209625\n",
              "25%          1.029948\n",
              "50%          1.418238\n",
              "75%          1.931508\n",
              "max         10.813810\n",
              "Name: assets/age, dtype: float64"
            ]
          },
          "metadata": {},
          "execution_count": 136
        }
      ]
    },
    {
      "cell_type": "code",
      "source": [
        "continuous_train.columns"
      ],
      "metadata": {
        "colab": {
          "base_uri": "https://localhost:8080/"
        },
        "id": "H9k396j3QOen",
        "outputId": "2024bd81-627c-467e-9b6d-2d9b99a19401"
      },
      "execution_count": null,
      "outputs": [
        {
          "output_type": "execute_result",
          "data": {
            "text/plain": [
              "Index(['age', 'campaign', 'customer_ratings', 'emp.var.rate', 'cons.price.idx',\n",
              "       'cons.conf.idx', 'euribor3m', 'nr.employed', 'total_assets',\n",
              "       'rep_avg_rating', 'customer_length', 'assets/age'],\n",
              "      dtype='object')"
            ]
          },
          "metadata": {},
          "execution_count": 137
        }
      ]
    },
    {
      "cell_type": "code",
      "source": [
        "# drop age and total_assets\n",
        "continuous_train = continuous_train[['campaign', 'customer_ratings', 'emp.var.rate', 'cons.price.idx',\n",
        "                                    'cons.conf.idx', 'euribor3m', 'nr.employed', 'rep_avg_rating',\n",
        "                                    'customer_length', 'assets/age']]\n",
        "continuous_test = continuous_test[['campaign', 'customer_ratings', 'emp.var.rate', 'cons.price.idx',\n",
        "                                    'cons.conf.idx', 'euribor3m', 'nr.employed', 'rep_avg_rating',\n",
        "                                    'customer_length', 'assets/age']]"
      ],
      "metadata": {
        "id": "YAIw8iwGNczl"
      },
      "execution_count": null,
      "outputs": []
    },
    {
      "cell_type": "markdown",
      "source": [
        "## customer_ratings and rep_avg_rating"
      ],
      "metadata": {
        "id": "Z-zvDs4SQbiS"
      }
    },
    {
      "cell_type": "code",
      "execution_count": null,
      "metadata": {
        "colab": {
          "base_uri": "https://localhost:8080/",
          "height": 297
        },
        "id": "EuLPpDwgHjH4",
        "outputId": "bd492ec3-f48a-4397-ea10-eb1d173487bd"
      },
      "outputs": [
        {
          "output_type": "stream",
          "name": "stdout",
          "text": [
            "5.0\n",
            "2.0\n"
          ]
        },
        {
          "output_type": "display_data",
          "data": {
            "text/plain": [
              "<Figure size 432x288 with 1 Axes>"
            ],
            "image/png": "[encoded data removed]"
          },
          "metadata": {
            "needs_background": "light"
          }
        }
      ],
      "source": [
        "print(continuous_train['rep_avg_rating'].max())\n",
        "print(continuous_train['rep_avg_rating'].min())\n",
        "boxplot = continuous_train.boxplot('rep_avg_rating')"
      ]
    },
    {
      "cell_type": "code",
      "source": [
        "print(continuous_train['customer_ratings'].max())\n",
        "print(continuous_train['customer_ratings'].min())\n",
        "boxplot = continuous_train.boxplot('customer_ratings')"
      ],
      "metadata": {
        "colab": {
          "base_uri": "https://localhost:8080/",
          "height": 297
        },
        "id": "rkNiG4_sQg0Z",
        "outputId": "98738f91-c7e1-4d77-9af8-94596ac2a45c"
      },
      "execution_count": null,
      "outputs": [
        {
          "output_type": "stream",
          "name": "stdout",
          "text": [
            "5.0\n",
            "1.0\n"
          ]
        },
        {
          "output_type": "display_data",
          "data": {
            "text/plain": [
              "<Figure size 432x288 with 1 Axes>"
            ],
            "image/png": "[encoded data removed]"
          },
          "metadata": {
            "needs_background": "light"
          }
        }
      ]
    },
    {
      "cell_type": "code",
      "source": [
        "continuous_train['customer_ratings'].describe()"
      ],
      "metadata": {
        "colab": {
          "base_uri": "https://localhost:8080/"
        },
        "id": "4aKqqlQxPWvr",
        "outputId": "e4f1cbb6-f145-42fe-f5cd-0d83f7ca9098"
      },
      "execution_count": null,
      "outputs": [
        {
          "output_type": "execute_result",
          "data": {
            "text/plain": [
              "count    33980.000000\n",
              "mean         3.983402\n",
              "std          1.125000\n",
              "min          1.000000\n",
              "25%          3.000000\n",
              "50%          4.000000\n",
              "75%          5.000000\n",
              "max          5.000000\n",
              "Name: customer_ratings, dtype: float64"
            ]
          },
          "metadata": {},
          "execution_count": 141
        }
      ]
    },
    {
      "cell_type": "code",
      "source": [
        "continuous_train['rep_avg_rating'].describe()"
      ],
      "metadata": {
        "colab": {
          "base_uri": "https://localhost:8080/"
        },
        "id": "Htl6BuY7PblD",
        "outputId": "2e37d9e7-9c57-4016-dc3d-5579ea20aaee"
      },
      "execution_count": null,
      "outputs": [
        {
          "output_type": "execute_result",
          "data": {
            "text/plain": [
              "count    33980.000000\n",
              "mean         3.498577\n",
              "std          0.849610\n",
              "min          2.000000\n",
              "25%          2.790000\n",
              "50%          3.500000\n",
              "75%          4.220000\n",
              "max          5.000000\n",
              "Name: rep_avg_rating, dtype: float64"
            ]
          },
          "metadata": {},
          "execution_count": 142
        }
      ]
    },
    {
      "cell_type": "code",
      "source": [
        "### feature engineering with customer_ratings and rep_avg_rating\n",
        "continuous_train['customer_minus_avg_rating'] = continuous_train['customer_ratings'] - continuous_train['rep_avg_rating']\n",
        "continuous_test['customer_minus_avg_rating'] = continuous_test['customer_ratings'] - continuous_test['rep_avg_rating']\n",
        "continuous_train['customer_divide_avg_rating'] = continuous_train['customer_ratings'] / continuous_train['rep_avg_rating']\n",
        "continuous_test['customer_divide_avg_rating'] = continuous_test['customer_ratings'] / continuous_test['rep_avg_rating']"
      ],
      "metadata": {
        "id": "g-8ynM6yPG9N"
      },
      "execution_count": null,
      "outputs": []
    },
    {
      "cell_type": "code",
      "source": [
        "continuous_train['customer_minus_avg_rating'].describe()"
      ],
      "metadata": {
        "colab": {
          "base_uri": "https://localhost:8080/"
        },
        "id": "pt4YBZz9QA-P",
        "outputId": "aa3b2da4-4f88-49cd-85dd-fc2dd71e1d19"
      },
      "execution_count": null,
      "outputs": [
        {
          "output_type": "execute_result",
          "data": {
            "text/plain": [
              "count    33980.000000\n",
              "mean         0.484825\n",
              "std          0.591500\n",
              "min         -2.500000\n",
              "25%          0.250000\n",
              "50%          0.500000\n",
              "75%          0.820000\n",
              "max          3.000000\n",
              "Name: customer_minus_avg_rating, dtype: float64"
            ]
          },
          "metadata": {},
          "execution_count": 144
        }
      ]
    },
    {
      "cell_type": "code",
      "source": [
        "continuous_train['customer_divide_avg_rating'].describe()"
      ],
      "metadata": {
        "colab": {
          "base_uri": "https://localhost:8080/"
        },
        "id": "YpNzCxE7QFmJ",
        "outputId": "8860e980-90df-47b1-ac19-55a64a381a30"
      },
      "execution_count": null,
      "outputs": [
        {
          "output_type": "execute_result",
          "data": {
            "text/plain": [
              "count    33980.000000\n",
              "mean         1.132499\n",
              "std          0.218736\n",
              "min          0.285714\n",
              "25%          1.066098\n",
              "50%          1.144165\n",
              "75%          1.240695\n",
              "max          2.500000\n",
              "Name: customer_divide_avg_rating, dtype: float64"
            ]
          },
          "metadata": {},
          "execution_count": 145
        }
      ]
    },
    {
      "cell_type": "code",
      "source": [
        "continuous_train.columns"
      ],
      "metadata": {
        "colab": {
          "base_uri": "https://localhost:8080/"
        },
        "id": "xw46MHI7RDj7",
        "outputId": "6046208e-2371-416c-a5c8-3041ab4c5cdb"
      },
      "execution_count": null,
      "outputs": [
        {
          "output_type": "execute_result",
          "data": {
            "text/plain": [
              "Index(['campaign', 'customer_ratings', 'emp.var.rate', 'cons.price.idx',\n",
              "       'cons.conf.idx', 'euribor3m', 'nr.employed', 'rep_avg_rating',\n",
              "       'customer_length', 'assets/age', 'customer_minus_avg_rating',\n",
              "       'customer_divide_avg_rating'],\n",
              "      dtype='object')"
            ]
          },
          "metadata": {},
          "execution_count": 146
        }
      ]
    },
    {
      "cell_type": "code",
      "source": [
        "# drop age and total_assets\n",
        "continuous_train = continuous_train[['campaign', 'emp.var.rate', 'cons.price.idx',\n",
        "                                    'cons.conf.idx', 'euribor3m', 'nr.employed',\n",
        "                                    'customer_length', 'assets/age', 'customer_minus_avg_rating',\n",
        "                                     'customer_divide_avg_rating']]\n",
        "continuous_test = continuous_test[['campaign', 'emp.var.rate', 'cons.price.idx',\n",
        "                                    'cons.conf.idx', 'euribor3m', 'nr.employed',\n",
        "                                    'customer_length', 'assets/age', 'customer_minus_avg_rating',\n",
        "                                     'customer_divide_avg_rating']]"
      ],
      "metadata": {
        "id": "cyVyiluyQSn3"
      },
      "execution_count": null,
      "outputs": []
    },
    {
      "cell_type": "code",
      "source": [
        "continuous_train.isna().sum()"
      ],
      "metadata": {
        "colab": {
          "base_uri": "https://localhost:8080/"
        },
        "id": "1AiwdvQT-5jL",
        "outputId": "462dc13e-095e-4f4c-da86-74d39c053100"
      },
      "execution_count": null,
      "outputs": [
        {
          "output_type": "execute_result",
          "data": {
            "text/plain": [
              "campaign                      0\n",
              "emp.var.rate                  0\n",
              "cons.price.idx                0\n",
              "cons.conf.idx                 0\n",
              "euribor3m                     0\n",
              "nr.employed                   0\n",
              "customer_length               0\n",
              "assets/age                    0\n",
              "customer_minus_avg_rating     0\n",
              "customer_divide_avg_rating    0\n",
              "dtype: int64"
            ]
          },
          "metadata": {},
          "execution_count": 148
        }
      ]
    },
    {
      "cell_type": "code",
      "source": [
        "continuous_test.isna().sum()"
      ],
      "metadata": {
        "colab": {
          "base_uri": "https://localhost:8080/"
        },
        "id": "D1twl6-e-_F9",
        "outputId": "57af4ec7-aec1-4904-a1b3-e67beb9fcc94"
      },
      "execution_count": null,
      "outputs": [
        {
          "output_type": "execute_result",
          "data": {
            "text/plain": [
              "campaign                      0\n",
              "emp.var.rate                  0\n",
              "cons.price.idx                0\n",
              "cons.conf.idx                 0\n",
              "euribor3m                     0\n",
              "nr.employed                   0\n",
              "customer_length               0\n",
              "assets/age                    0\n",
              "customer_minus_avg_rating     0\n",
              "customer_divide_avg_rating    0\n",
              "dtype: int64"
            ]
          },
          "metadata": {},
          "execution_count": 149
        }
      ]
    },
    {
      "cell_type": "markdown",
      "metadata": {
        "id": "sV-NS-WjFDIP"
      },
      "source": [
        "# One-Hot Encoding"
      ]
    },
    {
      "cell_type": "code",
      "execution_count": null,
      "metadata": {
        "colab": {
          "base_uri": "https://localhost:8080/",
          "height": 317
        },
        "id": "Xug9uhvTR_oc",
        "outputId": "afd09c80-b3be-4104-d480-6b15a8164af4"
      },
      "outputs": [
        {
          "output_type": "execute_result",
          "data": {
            "text/plain": [
              "   job_admin.  job_blue-collar  job_others  job_services  job_technician  \\\n",
              "0           0                0           1             0               0   \n",
              "1           1                0           0             0               0   \n",
              "2           0                1           0             0               0   \n",
              "3           0                0           1             0               0   \n",
              "4           0                0           1             0               0   \n",
              "\n",
              "   marital_divorced  marital_married  marital_single  marital_unknown  \\\n",
              "0                 0                0               1                0   \n",
              "1                 0                1               0                0   \n",
              "2                 0                1               0                0   \n",
              "3                 0                1               0                0   \n",
              "4                 1                0               0                0   \n",
              "\n",
              "   education_below high school  ...  customer_language_Other  \\\n",
              "0                            0  ...                        0   \n",
              "1                            0  ...                        0   \n",
              "2                            1  ...                        0   \n",
              "3                            1  ...                        0   \n",
              "4                            1  ...                        1   \n",
              "\n",
              "   customer_language_Portuguese  customer_language_Spanish  other_banks_no  \\\n",
              "0                             0                          0               0   \n",
              "1                             0                          0               0   \n",
              "2                             1                          0               0   \n",
              "3                             1                          0               0   \n",
              "4                             0                          0               1   \n",
              "\n",
              "   other_banks_unknown  other_banks_yes  pdays_0  pdays_1  previous_0  \\\n",
              "0                    0                1        1        0           1   \n",
              "1                    0                1        1        0           1   \n",
              "2                    0                1        1        0           1   \n",
              "3                    0                1        1        0           1   \n",
              "4                    0                0        0        1           0   \n",
              "\n",
              "   previous_1  \n",
              "0           0  \n",
              "1           0  \n",
              "2           0  \n",
              "3           0  \n",
              "4           1  \n",
              "\n",
              "[5 rows x 43 columns]"
            ],
            "text/html": [
              "\n",
              "  <div id=\"df-40756bd1-7004-4257-a140-6346b0d3a5eb\">\n",
              "    <div class=\"colab-df-container\">\n",
              "      <div>\n",
              "<style scoped>\n",
              "    .dataframe tbody tr th:only-of-type {\n",
              "        vertical-align: middle;\n",
              "    }\n",
              "\n",
              "    .dataframe tbody tr th {\n",
              "        vertical-align: top;\n",
              "    }\n",
              "\n",
              "    .dataframe thead th {\n",
              "        text-align: right;\n",
              "    }\n",
              "</style>\n",
              "<table border=\"1\" class=\"dataframe\">\n",
              "  <thead>\n",
              "    <tr style=\"text-align: right;\">\n",
              "      <th></th>\n",
              "      <th>job_admin.</th>\n",
              "      <th>job_blue-collar</th>\n",
              "      <th>job_others</th>\n",
              "      <th>job_services</th>\n",
              "      <th>job_technician</th>\n",
              "      <th>marital_divorced</th>\n",
              "      <th>marital_married</th>\n",
              "      <th>marital_single</th>\n",
              "      <th>marital_unknown</th>\n",
              "      <th>education_below high school</th>\n",
              "      <th>...</th>\n",
              "      <th>customer_language_Other</th>\n",
              "      <th>customer_language_Portuguese</th>\n",
              "      <th>customer_language_Spanish</th>\n",
              "      <th>other_banks_no</th>\n",
              "      <th>other_banks_unknown</th>\n",
              "      <th>other_banks_yes</th>\n",
              "      <th>pdays_0</th>\n",
              "      <th>pdays_1</th>\n",
              "      <th>previous_0</th>\n",
              "      <th>previous_1</th>\n",
              "    </tr>\n",
              "  </thead>\n",
              "  <tbody>\n",
              "    <tr>\n",
              "      <th>0</th>\n",
              "      <td>0</td>\n",
              "      <td>0</td>\n",
              "      <td>1</td>\n",
              "      <td>0</td>\n",
              "      <td>0</td>\n",
              "      <td>0</td>\n",
              "      <td>0</td>\n",
              "      <td>1</td>\n",
              "      <td>0</td>\n",
              "      <td>0</td>\n",
              "      <td>...</td>\n",
              "      <td>0</td>\n",
              "      <td>0</td>\n",
              "      <td>0</td>\n",
              "      <td>0</td>\n",
              "      <td>0</td>\n",
              "      <td>1</td>\n",
              "      <td>1</td>\n",
              "      <td>0</td>\n",
              "      <td>1</td>\n",
              "      <td>0</td>\n",
              "    </tr>\n",
              "    <tr>\n",
              "      <th>1</th>\n",
              "      <td>1</td>\n",
              "      <td>0</td>\n",
              "      <td>0</td>\n",
              "      <td>0</td>\n",
              "      <td>0</td>\n",
              "      <td>0</td>\n",
              "      <td>1</td>\n",
              "      <td>0</td>\n",
              "      <td>0</td>\n",
              "      <td>0</td>\n",
              "      <td>...</td>\n",
              "      <td>0</td>\n",
              "      <td>0</td>\n",
              "      <td>0</td>\n",
              "      <td>0</td>\n",
              "      <td>0</td>\n",
              "      <td>1</td>\n",
              "      <td>1</td>\n",
              "      <td>0</td>\n",
              "      <td>1</td>\n",
              "      <td>0</td>\n",
              "    </tr>\n",
              "    <tr>\n",
              "      <th>2</th>\n",
              "      <td>0</td>\n",
              "      <td>1</td>\n",
              "      <td>0</td>\n",
              "      <td>0</td>\n",
              "      <td>0</td>\n",
              "      <td>0</td>\n",
              "      <td>1</td>\n",
              "      <td>0</td>\n",
              "      <td>0</td>\n",
              "      <td>1</td>\n",
              "      <td>...</td>\n",
              "      <td>0</td>\n",
              "      <td>1</td>\n",
              "      <td>0</td>\n",
              "      <td>0</td>\n",
              "      <td>0</td>\n",
              "      <td>1</td>\n",
              "      <td>1</td>\n",
              "      <td>0</td>\n",
              "      <td>1</td>\n",
              "      <td>0</td>\n",
              "    </tr>\n",
              "    <tr>\n",
              "      <th>3</th>\n",
              "      <td>0</td>\n",
              "      <td>0</td>\n",
              "      <td>1</td>\n",
              "      <td>0</td>\n",
              "      <td>0</td>\n",
              "      <td>0</td>\n",
              "      <td>1</td>\n",
              "      <td>0</td>\n",
              "      <td>0</td>\n",
              "      <td>1</td>\n",
              "      <td>...</td>\n",
              "      <td>0</td>\n",
              "      <td>1</td>\n",
              "      <td>0</td>\n",
              "      <td>0</td>\n",
              "      <td>0</td>\n",
              "      <td>1</td>\n",
              "      <td>1</td>\n",
              "      <td>0</td>\n",
              "      <td>1</td>\n",
              "      <td>0</td>\n",
              "    </tr>\n",
              "    <tr>\n",
              "      <th>4</th>\n",
              "      <td>0</td>\n",
              "      <td>0</td>\n",
              "      <td>1</td>\n",
              "      <td>0</td>\n",
              "      <td>0</td>\n",
              "      <td>1</td>\n",
              "      <td>0</td>\n",
              "      <td>0</td>\n",
              "      <td>0</td>\n",
              "      <td>1</td>\n",
              "      <td>...</td>\n",
              "      <td>1</td>\n",
              "      <td>0</td>\n",
              "      <td>0</td>\n",
              "      <td>1</td>\n",
              "      <td>0</td>\n",
              "      <td>0</td>\n",
              "      <td>0</td>\n",
              "      <td>1</td>\n",
              "      <td>0</td>\n",
              "      <td>1</td>\n",
              "    </tr>\n",
              "  </tbody>\n",
              "</table>\n",
              "<p>5 rows × 43 columns</p>\n",
              "</div>\n",
              "      <button class=\"colab-df-convert\" onclick=\"convertToInteractive('df-40756bd1-7004-4257-a140-6346b0d3a5eb')\"\n",
              "              title=\"Convert this dataframe to an interactive table.\"\n",
              "              style=\"display:none;\">\n",
              "        \n",
              "  <svg xmlns=\"http://www.w3.org/2000/svg\" height=\"24px\"viewBox=\"0 0 24 24\"\n",
              "       width=\"24px\">\n",
              "    <path d=\"M0 0h24v24H0V0z\" fill=\"none\"/>\n",
              "    <path d=\"M18.56 5.44l.94 2.06.94-2.06 2.06-.94-2.06-.94-.94-2.06-.94 2.06-2.06.94zm-11 1L8.5 8.5l.94-2.06 2.06-.94-2.06-.94L8.5 2.5l-.94 2.06-2.06.94zm10 10l.94 2.06.94-2.06 2.06-.94-2.06-.94-.94-2.06-.94 2.06-2.06.94z\"/><path d=\"M17.41 7.96l-1.37-1.37c-.4-.4-.92-.59-1.43-.59-.52 0-1.04.2-1.43.59L10.3 9.45l-7.72 7.72c-.78.78-.78 2.05 0 2.83L4 21.41c.39.39.9.59 1.41.59.51 0 1.02-.2 1.41-.59l7.78-7.78 2.81-2.81c.8-.78.8-2.07 0-2.86zM5.41 20L4 18.59l7.72-7.72 1.47 1.35L5.41 20z\"/>\n",
              "  </svg>\n",
              "      </button>\n",
              "      \n",
              "  <style>\n",
              "    .colab-df-container {\n",
              "      display:flex;\n",
              "      flex-wrap:wrap;\n",
              "      gap: 12px;\n",
              "    }\n",
              "\n",
              "    .colab-df-convert {\n",
              "      background-color: #E8F0FE;\n",
              "      border: none;\n",
              "      border-radius: 50%;\n",
              "      cursor: pointer;\n",
              "      display: none;\n",
              "      fill: #1967D2;\n",
              "      height: 32px;\n",
              "      padding: 0 0 0 0;\n",
              "      width: 32px;\n",
              "    }\n",
              "\n",
              "    .colab-df-convert:hover {\n",
              "      background-color: #E2EBFA;\n",
              "      box-shadow: 0px 1px 2px rgba(60, 64, 67, 0.3), 0px 1px 3px 1px rgba(60, 64, 67, 0.15);\n",
              "      fill: #174EA6;\n",
              "    }\n",
              "\n",
              "    [theme=dark] .colab-df-convert {\n",
              "      background-color: #3B4455;\n",
              "      fill: #D2E3FC;\n",
              "    }\n",
              "\n",
              "    [theme=dark] .colab-df-convert:hover {\n",
              "      background-color: #434B5C;\n",
              "      box-shadow: 0px 1px 3px 1px rgba(0, 0, 0, 0.15);\n",
              "      filter: drop-shadow(0px 1px 2px rgba(0, 0, 0, 0.3));\n",
              "      fill: #FFFFFF;\n",
              "    }\n",
              "  </style>\n",
              "\n",
              "      <script>\n",
              "        const buttonEl =\n",
              "          document.querySelector('#df-40756bd1-7004-4257-a140-6346b0d3a5eb button.colab-df-convert');\n",
              "        buttonEl.style.display =\n",
              "          google.colab.kernel.accessAllowed ? 'block' : 'none';\n",
              "\n",
              "        async function convertToInteractive(key) {\n",
              "          const element = document.querySelector('#df-40756bd1-7004-4257-a140-6346b0d3a5eb');\n",
              "          const dataTable =\n",
              "            await google.colab.kernel.invokeFunction('convertToInteractive',\n",
              "                                                     [key], {});\n",
              "          if (!dataTable) return;\n",
              "\n",
              "          const docLinkHtml = 'Like what you see? Visit the ' +\n",
              "            '<a target=\"_blank\" href=https://colab.research.google.com/notebooks/data_table.ipynb>data table notebook</a>'\n",
              "            + ' to learn more about interactive tables.';\n",
              "          element.innerHTML = '';\n",
              "          dataTable['output_type'] = 'display_data';\n",
              "          await google.colab.output.renderOutput(dataTable, element);\n",
              "          const docLink = document.createElement('div');\n",
              "          docLink.innerHTML = docLinkHtml;\n",
              "          element.appendChild(docLink);\n",
              "        }\n",
              "      </script>\n",
              "    </div>\n",
              "  </div>\n",
              "  "
            ]
          },
          "metadata": {},
          "execution_count": 150
        }
      ],
      "source": [
        "categorical_train_onehot = categorical_train.copy()\n",
        "categorical_train_onehot = pd.get_dummies(categorical_train_onehot, columns=['job', 'marital', 'education',\n",
        "                        'housing', 'loan',\n",
        "                        'contact', 'month', 'day_of_week',\n",
        "                        'poutcome', 'customer_language',\n",
        "                        'other_banks', 'pdays', 'previous'], prefix=['job', 'marital', 'education',\n",
        "                        'housing', 'loan',\n",
        "                        'contact', 'month', 'day_of_week',\n",
        "                        'poutcome', 'customer_language',\n",
        "                        'other_banks', 'pdays', 'previous'])\n",
        "categorical_train_onehot.head()"
      ]
    },
    {
      "cell_type": "code",
      "execution_count": null,
      "metadata": {
        "colab": {
          "base_uri": "https://localhost:8080/",
          "height": 317
        },
        "id": "BWJMdeMWSWhm",
        "outputId": "c93e0327-213f-4acb-f4d9-a17341745b96"
      },
      "outputs": [
        {
          "output_type": "execute_result",
          "data": {
            "text/plain": [
              "   job_admin.  job_blue-collar  job_others  job_services  job_technician  \\\n",
              "0           0                1           0             0               0   \n",
              "1           0                0           0             1               0   \n",
              "2           0                1           0             0               0   \n",
              "3           0                0           1             0               0   \n",
              "4           0                0           1             0               0   \n",
              "\n",
              "   marital_divorced  marital_married  marital_single  marital_unknown  \\\n",
              "0                 0                1               0                0   \n",
              "1                 1                0               0                0   \n",
              "2                 0                1               0                0   \n",
              "3                 0                1               0                0   \n",
              "4                 0                0               1                0   \n",
              "\n",
              "   education_below high school  ...  customer_language_Other  \\\n",
              "0                            1  ...                        0   \n",
              "1                            0  ...                        0   \n",
              "2                            1  ...                        0   \n",
              "3                            0  ...                        0   \n",
              "4                            0  ...                        0   \n",
              "\n",
              "   customer_language_Portuguese  customer_language_Spanish  other_banks_no  \\\n",
              "0                             1                          0               0   \n",
              "1                             1                          0               0   \n",
              "2                             1                          0               0   \n",
              "3                             1                          0               0   \n",
              "4                             1                          0               0   \n",
              "\n",
              "   other_banks_unknown  other_banks_yes  pdays_0  pdays_1  previous_0  \\\n",
              "0                    0                1        1        0           1   \n",
              "1                    0                1        1        0           1   \n",
              "2                    0                1        1        0           1   \n",
              "3                    0                1        1        0           1   \n",
              "4                    1                0        1        0           1   \n",
              "\n",
              "   previous_1  \n",
              "0           0  \n",
              "1           0  \n",
              "2           0  \n",
              "3           0  \n",
              "4           0  \n",
              "\n",
              "[5 rows x 43 columns]"
            ],
            "text/html": [
              "\n",
              "  <div id=\"df-b4dbf1a6-01d9-4617-bcc0-09589185fa1f\">\n",
              "    <div class=\"colab-df-container\">\n",
              "      <div>\n",
              "<style scoped>\n",
              "    .dataframe tbody tr th:only-of-type {\n",
              "        vertical-align: middle;\n",
              "    }\n",
              "\n",
              "    .dataframe tbody tr th {\n",
              "        vertical-align: top;\n",
              "    }\n",
              "\n",
              "    .dataframe thead th {\n",
              "        text-align: right;\n",
              "    }\n",
              "</style>\n",
              "<table border=\"1\" class=\"dataframe\">\n",
              "  <thead>\n",
              "    <tr style=\"text-align: right;\">\n",
              "      <th></th>\n",
              "      <th>job_admin.</th>\n",
              "      <th>job_blue-collar</th>\n",
              "      <th>job_others</th>\n",
              "      <th>job_services</th>\n",
              "      <th>job_technician</th>\n",
              "      <th>marital_divorced</th>\n",
              "      <th>marital_married</th>\n",
              "      <th>marital_single</th>\n",
              "      <th>marital_unknown</th>\n",
              "      <th>education_below high school</th>\n",
              "      <th>...</th>\n",
              "      <th>customer_language_Other</th>\n",
              "      <th>customer_language_Portuguese</th>\n",
              "      <th>customer_language_Spanish</th>\n",
              "      <th>other_banks_no</th>\n",
              "      <th>other_banks_unknown</th>\n",
              "      <th>other_banks_yes</th>\n",
              "      <th>pdays_0</th>\n",
              "      <th>pdays_1</th>\n",
              "      <th>previous_0</th>\n",
              "      <th>previous_1</th>\n",
              "    </tr>\n",
              "  </thead>\n",
              "  <tbody>\n",
              "    <tr>\n",
              "      <th>0</th>\n",
              "      <td>0</td>\n",
              "      <td>1</td>\n",
              "      <td>0</td>\n",
              "      <td>0</td>\n",
              "      <td>0</td>\n",
              "      <td>0</td>\n",
              "      <td>1</td>\n",
              "      <td>0</td>\n",
              "      <td>0</td>\n",
              "      <td>1</td>\n",
              "      <td>...</td>\n",
              "      <td>0</td>\n",
              "      <td>1</td>\n",
              "      <td>0</td>\n",
              "      <td>0</td>\n",
              "      <td>0</td>\n",
              "      <td>1</td>\n",
              "      <td>1</td>\n",
              "      <td>0</td>\n",
              "      <td>1</td>\n",
              "      <td>0</td>\n",
              "    </tr>\n",
              "    <tr>\n",
              "      <th>1</th>\n",
              "      <td>0</td>\n",
              "      <td>0</td>\n",
              "      <td>0</td>\n",
              "      <td>1</td>\n",
              "      <td>0</td>\n",
              "      <td>1</td>\n",
              "      <td>0</td>\n",
              "      <td>0</td>\n",
              "      <td>0</td>\n",
              "      <td>0</td>\n",
              "      <td>...</td>\n",
              "      <td>0</td>\n",
              "      <td>1</td>\n",
              "      <td>0</td>\n",
              "      <td>0</td>\n",
              "      <td>0</td>\n",
              "      <td>1</td>\n",
              "      <td>1</td>\n",
              "      <td>0</td>\n",
              "      <td>1</td>\n",
              "      <td>0</td>\n",
              "    </tr>\n",
              "    <tr>\n",
              "      <th>2</th>\n",
              "      <td>0</td>\n",
              "      <td>1</td>\n",
              "      <td>0</td>\n",
              "      <td>0</td>\n",
              "      <td>0</td>\n",
              "      <td>0</td>\n",
              "      <td>1</td>\n",
              "      <td>0</td>\n",
              "      <td>0</td>\n",
              "      <td>1</td>\n",
              "      <td>...</td>\n",
              "      <td>0</td>\n",
              "      <td>1</td>\n",
              "      <td>0</td>\n",
              "      <td>0</td>\n",
              "      <td>0</td>\n",
              "      <td>1</td>\n",
              "      <td>1</td>\n",
              "      <td>0</td>\n",
              "      <td>1</td>\n",
              "      <td>0</td>\n",
              "    </tr>\n",
              "    <tr>\n",
              "      <th>3</th>\n",
              "      <td>0</td>\n",
              "      <td>0</td>\n",
              "      <td>1</td>\n",
              "      <td>0</td>\n",
              "      <td>0</td>\n",
              "      <td>0</td>\n",
              "      <td>1</td>\n",
              "      <td>0</td>\n",
              "      <td>0</td>\n",
              "      <td>0</td>\n",
              "      <td>...</td>\n",
              "      <td>0</td>\n",
              "      <td>1</td>\n",
              "      <td>0</td>\n",
              "      <td>0</td>\n",
              "      <td>0</td>\n",
              "      <td>1</td>\n",
              "      <td>1</td>\n",
              "      <td>0</td>\n",
              "      <td>1</td>\n",
              "      <td>0</td>\n",
              "    </tr>\n",
              "    <tr>\n",
              "      <th>4</th>\n",
              "      <td>0</td>\n",
              "      <td>0</td>\n",
              "      <td>1</td>\n",
              "      <td>0</td>\n",
              "      <td>0</td>\n",
              "      <td>0</td>\n",
              "      <td>0</td>\n",
              "      <td>1</td>\n",
              "      <td>0</td>\n",
              "      <td>0</td>\n",
              "      <td>...</td>\n",
              "      <td>0</td>\n",
              "      <td>1</td>\n",
              "      <td>0</td>\n",
              "      <td>0</td>\n",
              "      <td>1</td>\n",
              "      <td>0</td>\n",
              "      <td>1</td>\n",
              "      <td>0</td>\n",
              "      <td>1</td>\n",
              "      <td>0</td>\n",
              "    </tr>\n",
              "  </tbody>\n",
              "</table>\n",
              "<p>5 rows × 43 columns</p>\n",
              "</div>\n",
              "      <button class=\"colab-df-convert\" onclick=\"convertToInteractive('df-b4dbf1a6-01d9-4617-bcc0-09589185fa1f')\"\n",
              "              title=\"Convert this dataframe to an interactive table.\"\n",
              "              style=\"display:none;\">\n",
              "        \n",
              "  <svg xmlns=\"http://www.w3.org/2000/svg\" height=\"24px\"viewBox=\"0 0 24 24\"\n",
              "       width=\"24px\">\n",
              "    <path d=\"M0 0h24v24H0V0z\" fill=\"none\"/>\n",
              "    <path d=\"M18.56 5.44l.94 2.06.94-2.06 2.06-.94-2.06-.94-.94-2.06-.94 2.06-2.06.94zm-11 1L8.5 8.5l.94-2.06 2.06-.94-2.06-.94L8.5 2.5l-.94 2.06-2.06.94zm10 10l.94 2.06.94-2.06 2.06-.94-2.06-.94-.94-2.06-.94 2.06-2.06.94z\"/><path d=\"M17.41 7.96l-1.37-1.37c-.4-.4-.92-.59-1.43-.59-.52 0-1.04.2-1.43.59L10.3 9.45l-7.72 7.72c-.78.78-.78 2.05 0 2.83L4 21.41c.39.39.9.59 1.41.59.51 0 1.02-.2 1.41-.59l7.78-7.78 2.81-2.81c.8-.78.8-2.07 0-2.86zM5.41 20L4 18.59l7.72-7.72 1.47 1.35L5.41 20z\"/>\n",
              "  </svg>\n",
              "      </button>\n",
              "      \n",
              "  <style>\n",
              "    .colab-df-container {\n",
              "      display:flex;\n",
              "      flex-wrap:wrap;\n",
              "      gap: 12px;\n",
              "    }\n",
              "\n",
              "    .colab-df-convert {\n",
              "      background-color: #E8F0FE;\n",
              "      border: none;\n",
              "      border-radius: 50%;\n",
              "      cursor: pointer;\n",
              "      display: none;\n",
              "      fill: #1967D2;\n",
              "      height: 32px;\n",
              "      padding: 0 0 0 0;\n",
              "      width: 32px;\n",
              "    }\n",
              "\n",
              "    .colab-df-convert:hover {\n",
              "      background-color: #E2EBFA;\n",
              "      box-shadow: 0px 1px 2px rgba(60, 64, 67, 0.3), 0px 1px 3px 1px rgba(60, 64, 67, 0.15);\n",
              "      fill: #174EA6;\n",
              "    }\n",
              "\n",
              "    [theme=dark] .colab-df-convert {\n",
              "      background-color: #3B4455;\n",
              "      fill: #D2E3FC;\n",
              "    }\n",
              "\n",
              "    [theme=dark] .colab-df-convert:hover {\n",
              "      background-color: #434B5C;\n",
              "      box-shadow: 0px 1px 3px 1px rgba(0, 0, 0, 0.15);\n",
              "      filter: drop-shadow(0px 1px 2px rgba(0, 0, 0, 0.3));\n",
              "      fill: #FFFFFF;\n",
              "    }\n",
              "  </style>\n",
              "\n",
              "      <script>\n",
              "        const buttonEl =\n",
              "          document.querySelector('#df-b4dbf1a6-01d9-4617-bcc0-09589185fa1f button.colab-df-convert');\n",
              "        buttonEl.style.display =\n",
              "          google.colab.kernel.accessAllowed ? 'block' : 'none';\n",
              "\n",
              "        async function convertToInteractive(key) {\n",
              "          const element = document.querySelector('#df-b4dbf1a6-01d9-4617-bcc0-09589185fa1f');\n",
              "          const dataTable =\n",
              "            await google.colab.kernel.invokeFunction('convertToInteractive',\n",
              "                                                     [key], {});\n",
              "          if (!dataTable) return;\n",
              "\n",
              "          const docLinkHtml = 'Like what you see? Visit the ' +\n",
              "            '<a target=\"_blank\" href=https://colab.research.google.com/notebooks/data_table.ipynb>data table notebook</a>'\n",
              "            + ' to learn more about interactive tables.';\n",
              "          element.innerHTML = '';\n",
              "          dataTable['output_type'] = 'display_data';\n",
              "          await google.colab.output.renderOutput(dataTable, element);\n",
              "          const docLink = document.createElement('div');\n",
              "          docLink.innerHTML = docLinkHtml;\n",
              "          element.appendChild(docLink);\n",
              "        }\n",
              "      </script>\n",
              "    </div>\n",
              "  </div>\n",
              "  "
            ]
          },
          "metadata": {},
          "execution_count": 151
        }
      ],
      "source": [
        "categorical_test_onehot = categorical_test.copy()\n",
        "categorical_test_onehot = pd.get_dummies(categorical_test_onehot, columns=['job', 'marital', 'education',\n",
        "                        'housing', 'loan',\n",
        "                        'contact', 'month', 'day_of_week',\n",
        "                        'poutcome', 'customer_language',\n",
        "                        'other_banks', 'pdays', 'previous'], prefix=['job', 'marital', 'education',\n",
        "                        'housing', 'loan',\n",
        "                        'contact', 'month', 'day_of_week',\n",
        "                        'poutcome', 'customer_language',\n",
        "                        'other_banks', 'pdays', 'previous'])\n",
        "categorical_test_onehot.head()"
      ]
    },
    {
      "cell_type": "code",
      "execution_count": null,
      "metadata": {
        "id": "YA6-9JJDSmA0"
      },
      "outputs": [],
      "source": [
        "assert categorical_train.shape[0] == categorical_train_onehot.shape[0]\n",
        "assert categorical_test.shape[0] == categorical_test_onehot.shape[0]"
      ]
    },
    {
      "cell_type": "markdown",
      "metadata": {
        "id": "B2hrJx7ETZJI"
      },
      "source": [
        "# Save Dataframes to CSVs"
      ]
    },
    {
      "cell_type": "code",
      "execution_count": null,
      "metadata": {
        "id": "wFFsK4mSTckw"
      },
      "outputs": [],
      "source": [
        "#categorical_train_df = categorical_train_onehot.to_csv('/content/drive/MyDrive/DATA6545 Machine Learning and Predictive Anlysis/Project 2/categorical_train_onehot.csv', index=True, encoding='utf-8')\n",
        "categorical_test_df = categorical_test_onehot.to_csv('/content/drive/MyDrive/DATA6545 Machine Learning and Predictive Anlysis/Project 2/categorical_test_onehot.csv', index=True, encoding='utf-8')"
      ]
    },
    {
      "cell_type": "code",
      "execution_count": null,
      "metadata": {
        "id": "DKrQ0RYKTqT5"
      },
      "outputs": [],
      "source": [
        "#all_continuous_train_pipline = continuous_train.to_csv('/content/drive/MyDrive/DATA6545 Machine Learning and Predictive Anlysis/Project 2/continous_train.csv', index=True, encoding='utf-8')\n",
        "#all_continuous_test_pipline = continuous_test.to_csv('/content/drive/MyDrive/DATA6545 Machine Learning and Predictive Anlysis/Project 2/continous_test.csv', index=True, encoding='utf-8')"
      ]
    },
    {
      "cell_type": "code",
      "execution_count": null,
      "metadata": {
        "id": "HDo7s3YO6fWW"
      },
      "outputs": [],
      "source": [
        "#target_y_train = y_train.to_csv('/content/drive/MyDrive/DATA6545 Machine Learning and Predictive Anlysis/Project 2/target_y_train.csv', index=True, encoding='utf-8')\n",
        "#target_y_test = y_test.to_csv('/content/drive/MyDrive/DATA6545 Machine Learning and Predictive Anlysis/Project 2/target_y_test.csv', index=True, encoding='utf-8')"
      ]
    }
  ],
  "metadata": {
    "colab": {
      "provenance": [],
      "include_colab_link": true
    },
    "kernelspec": {
      "display_name": "Python 3",
      "name": "python3"
    },
    "language_info": {
      "name": "python"
    }
  },
  "nbformat": 4,
  "nbformat_minor": 0
}